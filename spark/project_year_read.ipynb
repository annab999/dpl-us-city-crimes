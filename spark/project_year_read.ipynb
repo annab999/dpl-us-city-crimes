{
 "cells": [
  {
   "cell_type": "code",
   "execution_count": 2,
   "id": "707d2ca1",
   "metadata": {},
   "outputs": [],
   "source": [
    "from pyspark.sql import SparkSession\n",
    "from pyspark.conf import SparkConf\n",
    "from pyspark.context import SparkContext"
   ]
  },
  {
   "cell_type": "code",
   "execution_count": 3,
   "id": "96f09ea1",
   "metadata": {},
   "outputs": [],
   "source": [
    "from pyspark.sql import types\n",
    "from pyspark.sql import functions as F"
   ]
  },
  {
   "cell_type": "code",
   "execution_count": 4,
   "id": "a2431242",
   "metadata": {},
   "outputs": [],
   "source": [
    "import os\n",
    "import pandas as pd\n",
    "import pendulum as pdl"
   ]
  },
  {
   "cell_type": "markdown",
   "id": "86e89877",
   "metadata": {},
   "source": [
    "# inputs\n",
    "- year"
   ]
  },
  {
   "cell_type": "code",
   "execution_count": 5,
   "id": "db295039",
   "metadata": {},
   "outputs": [],
   "source": [
    "# for city-specific data\n",
    "cities = ['Chicago', 'San Francisco', 'Los Angeles', 'Austin']\n",
    "f_cities = [c.replace(' ', '_').lower() for c in cities]"
   ]
  },
  {
   "cell_type": "code",
   "execution_count": 6,
   "id": "0f8c447b",
   "metadata": {},
   "outputs": [],
   "source": [
    "gcs_bkt = os.getenv('GCP_GCS_BUCKET')"
   ]
  },
  {
   "cell_type": "code",
   "execution_count": 7,
   "id": "5b3026f9",
   "metadata": {},
   "outputs": [],
   "source": [
    "jar_path = os.getenv('JAR_FILE_LOC')\n",
    "creds_path = '/.google/credentials/' + os.getenv('GOOGLE_APPLICATION_CREDENTIALS')\n",
    "\n",
    "# additional ignore flag at end for cities with no data for year\n",
    "conf = SparkConf() \\\n",
    "    .setMaster('local[*]') \\\n",
    "    .setAppName('project_year_read') \\\n",
    "    .set(\"spark.jars\", jar_path) \\\n",
    "    .set(\"spark.hadoop.google.cloud.auth.service.account.enable\", \"true\") \\\n",
    "    .set(\"spark.hadoop.google.cloud.auth.service.account.json.keyfile\", creds_path) \\\n",
    "    .set(\"spark.sql.files.ignoreMissingFiles\", \"true\")"
   ]
  },
  {
   "cell_type": "markdown",
   "id": "d7b43a2e",
   "metadata": {},
   "source": [
    "### Only if an existing one already runs:\n",
    "`sc.stop()`"
   ]
  },
  {
   "cell_type": "code",
   "execution_count": 8,
   "id": "624e4674",
   "metadata": {},
   "outputs": [
    {
     "name": "stdout",
     "output_type": "stream",
     "text": [
      "22/10/26 07:33:43 WARN NativeCodeLoader: Unable to load native-hadoop library for your platform... using builtin-java classes where applicable\n"
     ]
    },
    {
     "name": "stderr",
     "output_type": "stream",
     "text": [
      "Setting default log level to \"WARN\".\n",
      "To adjust logging level use sc.setLogLevel(newLevel). For SparkR, use setLogLevel(newLevel).\n"
     ]
    }
   ],
   "source": [
    "sc = SparkContext(conf=conf)"
   ]
  },
  {
   "cell_type": "code",
   "execution_count": 9,
   "id": "44a3fb16",
   "metadata": {},
   "outputs": [],
   "source": [
    "hconf = sc._jsc.hadoopConfiguration()\n",
    "\n",
    "hconf.set(\"fs.AbstractFileSystem.gs.impl\", \"com.google.cloud.hadoop.fs.gcs.GoogleHadoopFS\")\n",
    "hconf.set(\"fs.gs.impl\", \"com.google.cloud.hadoop.fs.gcs.GoogleHadoopFileSystem\")\n",
    "hconf.set(\"fs.gs.auth.service.account.json.keyfile\", creds_path)\n",
    "hconf.set(\"fs.gs.auth.service.account.enable\", \"true\")"
   ]
  },
  {
   "cell_type": "code",
   "execution_count": 10,
   "id": "50e9c26e",
   "metadata": {},
   "outputs": [],
   "source": [
    "spark = SparkSession.builder \\\n",
    "    .config(conf=sc.getConf()) \\\n",
    "    .getOrCreate()"
   ]
  },
  {
   "cell_type": "markdown",
   "id": "2081160d",
   "metadata": {},
   "source": [
    "***"
   ]
  },
  {
   "cell_type": "markdown",
   "id": "1bc68c07",
   "metadata": {},
   "source": [
    "### Replace below with me:\n",
    "```\n",
    "dict_df = {}\n",
    "for city in cities:\n",
    "    df_pq = spark.read \\\n",
    "        .option(\"header\", \"true\") \\\n",
    "        .option(, ) \\\n",
    "        .parquet(f'{gcs_bkt}/pq/{city}/{year}/*')\n",
    "    dict_df.update({city: df_pq})\n",
    "```"
   ]
  },
  {
   "cell_type": "code",
   "execution_count": 18,
   "id": "c58ce765",
   "metadata": {
    "scrolled": true
   },
   "outputs": [
    {
     "name": "stderr",
     "output_type": "stream",
     "text": [
      "\r",
      "[Stage 9:>                                                          (0 + 1) / 1]\r",
      "\r",
      "                                                                                \r"
     ]
    }
   ],
   "source": [
    "df_pq = spark.read \\\n",
    "    .option(\"header\", \"true\") \\\n",
    "    .parquet(f'{gcs_bkt}/pq/{city}/2001/*')"
   ]
  },
  {
   "cell_type": "markdown",
   "id": "b11db061",
   "metadata": {},
   "source": [
    "### check count here: pq df\n",
    "Command: `df_pq.count()`\n",
    "\n",
    "Output: `485853`"
   ]
  },
  {
   "cell_type": "code",
   "execution_count": 19,
   "id": "7b340fe4",
   "metadata": {},
   "outputs": [],
   "source": [
    "def parse_dt(dt_str):\n",
    "    \"\"\"\n",
    "    parse datetime object from given date string of format 'MM/DD/YYYY HH:mm:ss A'\n",
    "    \"\"\"\n",
    "    if city == f_cities[0]:\n",
    "        return pdl.from_format(dt_str, 'MM/DD/YYYY HH:mm:ss A')\n",
    "\n",
    "parse_dt_udf = F.udf(parse_dt, returnType=types.TimestampType())"
   ]
  },
  {
   "cell_type": "code",
   "execution_count": 68,
   "id": "5ddc3951",
   "metadata": {},
   "outputs": [],
   "source": [
    "# filter out duplicates\n",
    "# filter out rows with null values in important columns\n",
    "# add timestamp column\n",
    "df_time = df_pq \\\n",
    "    .distinct() \\\n",
    "    .filter(F.col('date').isNotNull()) \\\n",
    "    .withColumn('timestamp', parse_dt_udf(F.col('date')))"
   ]
  },
  {
   "cell_type": "markdown",
   "id": "986d3289",
   "metadata": {},
   "source": [
    "### check count here: non-null df\n",
    "Command:\n",
    "`df_time.count()`\n",
    "\n",
    "Output:\n",
    "`38114`"
   ]
  },
  {
   "cell_type": "markdown",
   "id": "98f37b74",
   "metadata": {},
   "source": [
    "### check parsed dates\n",
    "\n",
    "Command: `df_time.head(10)`\n",
    "\n",
    "Output: must contain datetimes"
   ]
  },
  {
   "cell_type": "markdown",
   "id": "0a55b3d7",
   "metadata": {},
   "source": [
    "### check date here: csv df, datetime col\n",
    "Command:\n",
    "```\n",
    "df_time \\\n",
    "    .filter(F.month('timestamp') == 1) \\\n",
    "    .groupBy(F.dayofmonth('timestamp')) \\\n",
    "    .count() \\\n",
    "    .orderBy('count', ascending=False).show()\n",
    "```\n",
    "Output:\n",
    "```\n",
    "+---------------------+-----+\n",
    "|dayofmonth(Timestamp)|count|\n",
    "+---------------------+-----+\n",
    "|                    1| 1825|\n",
    "|                   12| 1353|\n",
    "|                   15| 1312|\n",
    "|                   13| 1311|\n",
    "|                   26| 1296|\n",
    "|                    6| 1290|\n",
    "|                   17| 1288|\n",
    "|                   18| 1278|\n",
    "|                    5| 1267|\n",
    "|                   20| 1256|\n",
    "|                   16| 1251|\n",
    "|                   23| 1250|\n",
    "|                   10| 1237|\n",
    "|                   11| 1228|\n",
    "|                   27| 1215|\n",
    "|                   19| 1214|\n",
    "|                   30| 1211|\n",
    "|                   31| 1189|\n",
    "|                    9| 1184|\n",
    "|                   25| 1183|\n",
    "+---------------------+-----+\n",
    "only showing top 20 rows\n",
    "```"
   ]
  },
  {
   "cell_type": "code",
   "execution_count": 88,
   "id": "0034a670",
   "metadata": {},
   "outputs": [],
   "source": [
    "# selected columns for analysis\n",
    "df_time_cols = ['case_number', 'timestamp', 'city', 'street', 'primary_type', 'description', 'location_description', 'arrest', 'domestic', 'beat', 'latitude', 'longitude']"
   ]
  },
  {
   "cell_type": "code",
   "execution_count": 89,
   "id": "d14ac1ff",
   "metadata": {},
   "outputs": [],
   "source": [
    "def parse_st(block):\n",
    "    \"\"\"\n",
    "    parse street from given block of format 'NNNXX D STREET ST ..'\n",
    "    \"\"\"\n",
    "    split = block.split()\n",
    "    street = split[2]\n",
    "    for part in split[3:]:\n",
    "        street += f' {part}'\n",
    "    return street\n",
    "\n",
    "parse_st_udf = F.udf(parse_st, returnType=types.StringType())\n",
    "\n",
    "# set up street column\n",
    "# pick out important columns\n",
    "df_select = df_time \\\n",
    "    .withColumn('street', parse_st_udf('block')) \\\n",
    "    .withColumn('city', F.lit(city.title().replace('_', ' '))) \\\n",
    "    .select(df_time_cols)"
   ]
  },
  {
   "cell_type": "code",
   "execution_count": 90,
   "id": "e7bb656b",
   "metadata": {},
   "outputs": [
    {
     "name": "stderr",
     "output_type": "stream",
     "text": [
      "                                                                                \r"
     ]
    },
    {
     "data": {
      "text/plain": [
       "[Row(case_number='G600427', timestamp=datetime.datetime(2001, 10, 6, 16, 0), city='Chicago', street='RIDGEWAY AV', primary_type='THEFT', description='$500 AND UNDER', location_description='STREET', arrest=False, domestic=False, beat='1723', latitude=41.958370208740234, longitude=-87.72177124023438),\n",
       " Row(case_number='G598862', timestamp=datetime.datetime(2001, 10, 5, 20, 30), city='Chicago', street='79 ST', primary_type='ASSAULT', description='SIMPLE', location_description='RESIDENCE', arrest=False, domestic=False, beat='0834', latitude=41.74931716918945, longitude=-87.73786163330078),\n",
       " Row(case_number='G600201', timestamp=datetime.datetime(2001, 10, 6, 14, 5), city='Chicago', street='ST LAWRENCE AV', primary_type='BATTERY', description='SIMPLE', location_description='RESIDENCE', arrest=False, domestic=True, beat='0323', latitude=41.76348114013672, longitude=-87.6102294921875),\n",
       " Row(case_number='G601505', timestamp=datetime.datetime(2001, 10, 7, 6, 8, 22), city='Chicago', street='COLUMBIA AV', primary_type='MOTOR VEHICLE THEFT', description='THEFT/RECOVERY: AUTOMOBILE', location_description='STREET', arrest=False, domestic=False, beat='2432', latitude=42.0045166015625, longitude=-87.6717529296875),\n",
       " Row(case_number='G602052', timestamp=datetime.datetime(2001, 10, 7, 13, 28, 48), city='Chicago', street='STATE ST', primary_type='THEFT', description='$500 AND UNDER', location_description='DEPARTMENT STORE', arrest=False, domestic=False, beat='0122', latitude=41.882850646972656, longitude=-87.62771606445312),\n",
       " Row(case_number='G603627', timestamp=datetime.datetime(2001, 10, 7, 2, 30), city='Chicago', street='INDIANA AV', primary_type='MOTOR VEHICLE THEFT', description='AUTOMOBILE', location_description='STREET', arrest=False, domestic=False, beat='0214', latitude=41.82122802734375, longitude=-87.62139129638672),\n",
       " Row(case_number='G603591', timestamp=datetime.datetime(2001, 10, 7, 21, 30), city='Chicago', street='GREENWOOD AV', primary_type='CRIMINAL DAMAGE', description='TO PROPERTY', location_description='RESIDENCE', arrest=False, domestic=False, beat='0511', latitude=41.720577239990234, longitude=-87.5973129272461),\n",
       " Row(case_number='G603206', timestamp=datetime.datetime(2001, 10, 8, 5, 15), city='Chicago', street='MORGAN ST', primary_type='CRIMINAL DAMAGE', description='TO VEHICLE', location_description='SIDEWALK', arrest=False, domestic=False, beat='0723', latitude=41.770042419433594, longitude=-87.64924621582031),\n",
       " Row(case_number='G605802', timestamp=datetime.datetime(2001, 10, 8, 21, 0), city='Chicago', street='KENMORE AV', primary_type='OTHER OFFENSE', description='TELEPHONE THREAT', location_description='APARTMENT', arrest=False, domestic=False, beat='2433', latitude=41.99111557006836, longitude=-87.65699005126953),\n",
       " Row(case_number='G605002', timestamp=datetime.datetime(2001, 10, 8, 21, 40), city='Chicago', street='CARPENTER ST', primary_type='BATTERY', description='SIMPLE', location_description='VEHICLE NON-COMMERCIAL', arrest=False, domestic=False, beat='0921', latitude=41.80311584472656, longitude=-87.65131378173828)]"
      ]
     },
     "execution_count": 90,
     "metadata": {},
     "output_type": "execute_result"
    }
   ],
   "source": [
    "df_union.write.parquet(f'{gcs_bkt}/year/{year}/', mode='overwrite')"
   ]
  },
  {
   "cell_type": "code",
   "execution_count": null,
   "id": "4b381b38",
   "metadata": {},
   "outputs": [],
   "source": [
    "sc.stop()"
   ]
  },
  {
   "cell_type": "markdown",
   "id": "619b494f",
   "metadata": {},
   "source": [
    "### check date Jan: pq df\n",
    "Command:\n",
    "```\n",
    "df_pq \\\n",
    "    .filter(F.month('Timestamp') == 1).count()\n",
    "```\n",
    "Output: `1825`"
   ]
  },
  {
   "cell_type": "markdown",
   "id": "e682aea1",
   "metadata": {},
   "source": [
    "### check date Jan1: pq df\n",
    "Command:\n",
    "```\n",
    "df_pq \\\n",
    "    .filter(F.dayofmonth('Timestamp') == 1).count()\n",
    "```\n",
    "Output: `1825`"
   ]
  },
  {
   "cell_type": "markdown",
   "id": "b6da80df",
   "metadata": {},
   "source": [
    "### check date here: pq df\n",
    "Command:\n",
    "```\n",
    "df_pq \\\n",
    "    .filter(F.month('Timestamp') == 1) \\\n",
    "    .groupBy(F.dayofmonth('Timestamp')) \\\n",
    "    .count() \\\n",
    "    .orderBy('count', ascending=False).show()\n",
    "```"
   ]
  },
  {
   "cell_type": "code",
   "execution_count": null,
   "id": "a4af3715",
   "metadata": {},
   "outputs": [],
   "source": []
  }
 ],
 "metadata": {
  "kernelspec": {
   "display_name": "Python 3 (ipykernel)",
   "language": "python",
   "name": "python3"
  },
  "language_info": {
   "codemirror_mode": {
    "name": "ipython",
    "version": 3
   },
   "file_extension": ".py",
   "mimetype": "text/x-python",
   "name": "python",
   "nbconvert_exporter": "python",
   "pygments_lexer": "ipython3",
   "version": "3.9.12"
  }
 },
 "nbformat": 4,
 "nbformat_minor": 5
}
