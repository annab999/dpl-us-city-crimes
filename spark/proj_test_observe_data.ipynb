{
 "cells": [
  {
   "cell_type": "code",
   "execution_count": 1,
   "id": "3e05875c",
   "metadata": {},
   "outputs": [],
   "source": [
    "import pyspark"
   ]
  },
  {
   "cell_type": "code",
   "execution_count": 2,
   "id": "707d2ca1",
   "metadata": {},
   "outputs": [],
   "source": [
    "from pyspark.sql import SparkSession\n",
    "from pyspark.conf import SparkConf\n",
    "from pyspark.context import SparkContext"
   ]
  },
  {
   "cell_type": "code",
   "execution_count": 3,
   "id": "96f09ea1",
   "metadata": {},
   "outputs": [],
   "source": [
    "from pyspark.sql import types\n",
    "from pyspark.sql import functions as F"
   ]
  },
  {
   "cell_type": "code",
   "execution_count": 4,
   "id": "a2431242",
   "metadata": {},
   "outputs": [],
   "source": [
    "import os\n",
    "import pandas as pd\n",
    "import pendulum as pdl"
   ]
  },
  {
   "cell_type": "markdown",
   "id": "86e89877",
   "metadata": {},
   "source": [
    "# inputs\n",
    "- city"
   ]
  },
  {
   "cell_type": "code",
   "execution_count": 5,
   "id": "bd87e43a",
   "metadata": {},
   "outputs": [],
   "source": [
    "gcs_bkt = os.getenv('GCP_GCS_BUCKET')"
   ]
  },
  {
   "cell_type": "code",
   "execution_count": 6,
   "id": "db295039",
   "metadata": {},
   "outputs": [],
   "source": [
    "city = 'chicago'"
   ]
  },
  {
   "cell_type": "code",
   "execution_count": 7,
   "id": "5b3026f9",
   "metadata": {},
   "outputs": [],
   "source": [
    "jar_path = os.getenv('JAR_FILE_LOC')\n",
    "creds_path = '/.google/credentials/' + os.getenv('GOOGLE_APPLICATION_CREDENTIALS')\n",
    "\n",
    "conf = SparkConf() \\\n",
    "    .setMaster('local[*]') \\\n",
    "    .setAppName('proj_test_observe_data') \\\n",
    "    .set(\"spark.jars\", jar_path) \\\n",
    "    .set(\"spark.hadoop.google.cloud.auth.service.account.enable\", \"true\") \\\n",
    "    .set(\"spark.hadoop.google.cloud.auth.service.account.json.keyfile\", creds_path)"
   ]
  },
  {
   "cell_type": "markdown",
   "id": "d7b43a2e",
   "metadata": {},
   "source": [
    "### Only if an existing one already runs:\n",
    "`sc.stop()`"
   ]
  },
  {
   "cell_type": "code",
   "execution_count": 8,
   "id": "624e4674",
   "metadata": {},
   "outputs": [
    {
     "name": "stdout",
     "output_type": "stream",
     "text": [
      "22/10/23 07:12:55 WARN NativeCodeLoader: Unable to load native-hadoop library for your platform... using builtin-java classes where applicable\n"
     ]
    },
    {
     "name": "stderr",
     "output_type": "stream",
     "text": [
      "Setting default log level to \"WARN\".\n",
      "To adjust logging level use sc.setLogLevel(newLevel). For SparkR, use setLogLevel(newLevel).\n"
     ]
    }
   ],
   "source": [
    "sc = SparkContext(conf=conf)"
   ]
  },
  {
   "cell_type": "code",
   "execution_count": 9,
   "id": "44a3fb16",
   "metadata": {},
   "outputs": [],
   "source": [
    "hconf = sc._jsc.hadoopConfiguration()\n",
    "\n",
    "hconf.set(\"fs.AbstractFileSystem.gs.impl\", \"com.google.cloud.hadoop.fs.gcs.GoogleHadoopFS\")\n",
    "hconf.set(\"fs.gs.impl\", \"com.google.cloud.hadoop.fs.gcs.GoogleHadoopFileSystem\")\n",
    "hconf.set(\"fs.gs.auth.service.account.json.keyfile\", creds_path)\n",
    "hconf.set(\"fs.gs.auth.service.account.enable\", \"true\")"
   ]
  },
  {
   "cell_type": "code",
   "execution_count": 10,
   "id": "50e9c26e",
   "metadata": {},
   "outputs": [],
   "source": [
    "spark = SparkSession.builder \\\n",
    "    .config(conf=sc.getConf()) \\\n",
    "    .getOrCreate()"
   ]
  },
  {
   "cell_type": "markdown",
   "id": "b0e4bbef",
   "metadata": {
    "scrolled": true
   },
   "source": [
    "### 1-time sample download for pandas reading to infer schema for everything else:\n",
    "command:\n",
    "`!wget https://data.cityofchicago.org/api/views/hx8q-mf9v/rows.csv?accessType=DOWNLOAD`\n",
    "\n",
    "output:\n",
    "```\n",
    "--2022-10-22 08:53:42--  https://data.cityofchicago.org/api/views/hx8q-mf9v/rows.csv?accessType=DOWNLOAD\n",
    "Resolving data.cityofchicago.org (data.cityofchicago.org)... 52.206.140.205, 52.206.68.26, 52.206.140.199\n",
    "Connecting to data.cityofchicago.org (data.cityofchicago.org)|52.206.140.205|:443... connected.\n",
    "HTTP request sent, awaiting response... 200 OK\n",
    "Length: unspecified [text/csv]\n",
    "Saving to: ‘rows.csv?accessType=DOWNLOAD’\n",
    "\n",
    "rows.csv?accessType     [          <=>       ]  75.99M  2.54MB/s    in 28s     \n",
    "\n",
    "2022-10-22 08:54:11 (2.68 MB/s) - ‘rows.csv?accessType=DOWNLOAD’ saved [79677853]\n",
    "```"
   ]
  },
  {
   "cell_type": "markdown",
   "id": "e2cf5a7c",
   "metadata": {},
   "source": [
    "### check count here: raw csv file\n",
    "command:\n",
    "`!wc -l rows.csv?accessType=DOWNLOAD`"
   ]
  },
  {
   "cell_type": "markdown",
   "id": "f2ee772d",
   "metadata": {},
   "source": [
    "### Because of `TypeError: Can not merge type (pandas string to spark double) for 'Location Description', 'location' fields`\n",
    "Commands:\n",
    "```\n",
    "cols = ['Case Number', 'Date', 'Block', 'IUCR', 'Primary Type', 'Description', 'Arrest', 'Domestic', 'Beat', 'Ward', 'FBI Code', 'X Coordinate', 'Y Coordinate', 'Year', 'Latitude', 'Longitude']\n",
    "df_pandas = pd.read_csv('rows.csv?accessType=DOWNLOAD', nrows=100, usecols=cols)\n",
    "```"
   ]
  },
  {
   "cell_type": "markdown",
   "id": "8f628033",
   "metadata": {
    "scrolled": true
   },
   "source": [
    "Command:\n",
    "`spark.createDataFrame(df_pandas).schema`\n",
    "\n",
    "Output:\n",
    "```\n",
    "StructType([StructField('Case Number', StringType(), True), StructField('Date', StringType(), True), StructField('Block', StringType(), True), StructField('IUCR', StringType(), True), StructField('Primary Type', StringType(), True), StructField('Description', StringType(), True), StructField('Arrest', BooleanType(), True), StructField('Domestic', BooleanType(), True), StructField('Beat', LongType(), True), StructField('Ward', LongType(), True), StructField('FBI Code', StringType(), True), StructField('X Coordinate', DoubleType(), True), StructField('Y Coordinate', DoubleType(), True), StructField('Year', LongType(), True), StructField('Latitude', DoubleType(), True), StructField('Longitude', DoubleType(), True)])\n",
    "```"
   ]
  },
  {
   "cell_type": "code",
   "execution_count": 233,
   "id": "d3935473",
   "metadata": {},
   "outputs": [],
   "source": [
    "# modified pattern from pandas schema\n",
    "schema_template = types.StructType([\n",
    "    types.StructField('Case Number', types.StringType(), True),\n",
    "    types.StructField('Date', types.StringType(), True),\n",
    "    types.StructField('Block', types.StringType(), True),\n",
    "    types.StructField('IUCR', types.StringType(), True),\n",
    "    types.StructField('Primary Type', types.StringType(), True),\n",
    "    types.StructField('Description', types.StringType(), True),\n",
    "    types.StructField('Location Description', types.StringType(), True),\n",
    "    types.StructField('Arrest', types.BooleanType(), True),\n",
    "    types.StructField('Domestic', types.BooleanType(), True),\n",
    "    types.StructField('Beat', types.StringType(), True),\n",
    "    types.StructField('Ward', types.IntegerType(), True),\n",
    "    types.StructField('FBI Code', types.StringType(), True),\n",
    "    types.StructField('X Coordinate', types.FloatType(), True),\n",
    "    types.StructField('Y Coordinate', types.FloatType(), True),\n",
    "    types.StructField('Year', types.IntegerType(), True),\n",
    "    types.StructField('Latitude', types.FloatType(), True),\n",
    "    types.StructField('Longitude', types.FloatType(), True),\n",
    "    types.StructField('Location', types.StringType(), True)\n",
    "])"
   ]
  },
  {
   "cell_type": "markdown",
   "id": "f53fe796",
   "metadata": {},
   "source": [
    "### Replace below with me:\n",
    "```\n",
    "df_csv = spark.read \\\n",
    "    .option(\"header\", \"true\") \\\n",
    "    .schema(schema_template) \\\n",
    "    .csv(f'{gcs_bkt}/raw/{city}/')\n",
    "```"
   ]
  },
  {
   "cell_type": "code",
   "execution_count": 15,
   "id": "377b7d66",
   "metadata": {},
   "outputs": [],
   "source": [
    "df_csv = spark.read \\\n",
    "    .option(\"header\", \"true\") \\\n",
    "    .schema(schema_template) \\\n",
    "    .csv(f'{gcs_bkt}/raw/{city}/' + 'Crimes_-_2001.csv')"
   ]
  },
  {
   "cell_type": "markdown",
   "id": "b9f1dd45",
   "metadata": {},
   "source": [
    "### check count here: original df\n",
    "Command:\n",
    "`df_csv.count()`"
   ]
  },
  {
   "cell_type": "code",
   "execution_count": 16,
   "id": "7b340fe4",
   "metadata": {},
   "outputs": [],
   "source": [
    "def parse_dt(dt_str):\n",
    "    return pdl.from_format(dt_str, 'MM/DD/YYYY HH:mm:ss A')\n",
    "\n",
    "parse_dt_udf = F.udf(parse_dt, returnType=types.TimestampType())"
   ]
  },
  {
   "cell_type": "code",
   "execution_count": 151,
   "id": "5ddc3951",
   "metadata": {},
   "outputs": [
    {
     "data": {
      "text/plain": [
       "5841"
      ]
     },
     "execution_count": 151,
     "metadata": {},
     "output_type": "execute_result"
    }
   ],
   "source": [
    "df_time = df_csv \\\n",
    "    .filter(F.col('Date').isNotNull() & F.col('IUCR').isNotNull()) \\\n",
    "    .withColumn('Timestamp', parse_dt_udf(df_csv.Date))"
   ]
  },
  {
   "cell_type": "markdown",
   "id": "b8f9d648",
   "metadata": {},
   "source": [
    "### check count here: non-null df\n",
    "Command:\n",
    "`df_time.count()`"
   ]
  },
  {
   "cell_type": "code",
   "execution_count": 162,
   "id": "b88df113",
   "metadata": {},
   "outputs": [
    {
     "name": "stdout",
     "output_type": "stream",
     "text": [
      "<class 'int'>\n"
     ]
    }
   ],
   "source": [
    "years_rows = df_time.dropDuplicates(['Year']).select('Year').collect()\n",
    "years = [row.Year for row in years_rows]"
   ]
  },
  {
   "cell_type": "code",
   "execution_count": 172,
   "id": "7e641cea",
   "metadata": {
    "scrolled": true
   },
   "outputs": [
    {
     "name": "stderr",
     "output_type": "stream",
     "text": [
      "                                                                                \r"
     ]
    }
   ],
   "source": [
    "# selected columns for analysis\n",
    "df_time_cols = ['Case Number', 'Timestamp', 'Block', 'Primary Type', 'Description', 'Location Description', 'Arrest', 'Domestic', 'Beat', 'Latitude', 'Longitude']\n",
    "\n",
    "for year in years:\n",
    "    df = df_time.filter(F.col('Year') == year)\n",
    "    for month in range(1, 13):\n",
    "        df_filtered = df.filter(F.month('Timestamp') == month) \\\n",
    "            .select(df_time_cols)\n",
    "        for col in df_time_cols:\n",
    "            df_filtered = df_filtered.withColumnRenamed(col, col.lower().replace(' ', '_'))\n",
    "        df_filtered.write.parquet(f'{gcs_bkt}/pq/{city}/{year}/{month}', mode='overwrite')"
   ]
  },
  {
   "cell_type": "code",
   "execution_count": null,
   "id": "4b381b38",
   "metadata": {},
   "outputs": [],
   "source": [
    "sc.stop()"
   ]
  },
  {
   "cell_type": "code",
   "execution_count": 201,
   "id": "ea2ef16b",
   "metadata": {
    "scrolled": true
   },
   "outputs": [
    {
     "name": "stderr",
     "output_type": "stream",
     "text": [
      "\r",
      "[Stage 202:>                                                        (0 + 1) / 1]\r"
     ]
    },
    {
     "name": "stdout",
     "output_type": "stream",
     "text": [
      "+-----------+--------------------+--------------------+----+--------------------+--------------------+--------------------+------+--------+----+----+--------+------------+------------+----+---------+---------+--------------------+-------------------+\n",
      "|Case Number|                Date|               Block|IUCR|        Primary Type|         Description|Location Description|Arrest|Domestic|Beat|Ward|FBI Code|X Coordinate|Y Coordinate|Year| Latitude|Longitude|            Location|          Timestamp|\n",
      "+-----------+--------------------+--------------------+----+--------------------+--------------------+--------------------+------+--------+----+----+--------+------------+------------+----+---------+---------+--------------------+-------------------+\n",
      "|   JA366925|01/01/2001 11:00:...|     016XX E 86TH PL|1153|  DECEPTIVE PRACTICE|FINANCIAL IDENTIT...|           RESIDENCE| false|   false|0412|   8|      11|        null|        null|2001|     null|     null|                null|2001-01-01 11:00:00|\n",
      "|    G553545|09/15/2001 02:00:...|     013XX W POLK ST|0460|             BATTERY|              SIMPLE|              STREET| false|   false|1213|null|     08B|        null|        null|2001|     null|     null|                null|2001-09-15 02:00:00|\n",
      "|    G666677|11/02/2001 06:30:...| 002XX W CONGRESS PW|0810|               THEFT|           OVER $500|               OTHER| false|   false|0131|null|      06|        null|        null|2001|     null|     null|                null|2001-11-02 18:30:00|\n",
      "|    G749215|12/15/2001 02:00:...|    011XX N STATE ST|0460|             BATTERY|              SIMPLE|              STREET| false|   false|1824|null|     08B|        null|        null|2001|     null|     null|                null|2001-12-15 02:00:00|\n",
      "|   JB152500|01/01/2001 12:00:...| 050XX N ASHLAND AVE|1754|OFFENSE INVOLVING...|AGG SEX ASSLT OF ...|           RESIDENCE| false|   false|2032|  47|      02|        null|        null|2001|     null|     null|                null|2001-01-01 00:00:00|\n",
      "|   JC165537|10/02/2001 04:30:...| 104XX S CALHOUN AVE|1153|  DECEPTIVE PRACTICE|FINANCIAL IDENTIT...|                null| false|   false|0434|  10|      11|        null|        null|2001|     null|     null|                null|2001-10-02 16:30:00|\n",
      "|   JC177632|01/01/2001 09:00:...|075XX S PHILLIPS AVE|1154|  DECEPTIVE PRACTICE|FINANCIAL IDENTIT...|           RESIDENCE| false|   false|0421|   7|      11|        null|        null|2001|     null|     null|                null|2001-01-01 09:00:00|\n",
      "|   JA391845|08/15/2001 12:01:...| 024XX N KEDZIE BLVD|1154|  DECEPTIVE PRACTICE|FINANCIAL IDENTIT...|           APARTMENT| false|   false|1413|  35|      11|        null|        null|2001|     null|     null|                null|2001-08-15 00:01:00|\n",
      "|   JB191329|09/19/2001 12:00:...|027XX N SPAULDING...|1153|  DECEPTIVE PRACTICE|FINANCIAL IDENTIT...|               OTHER| false|   false|1412|  35|      11|        null|        null|2001|     null|     null|                null|2001-09-19 12:00:00|\n",
      "|    G178878|03/29/2001 03:20:...| 007XX W MONTROSE AV|0810|               THEFT|           OVER $500|              STREET| false|   false|2313|null|      06|        null|        null|2001|     null|     null|                null|2001-03-29 15:20:00|\n",
      "|    G673581|11/08/2001 04:18:...|014XX N KILPATRIC...|2027|           NARCOTICS|         POSS: CRACK|              STREET|  true|   false|2533|null|      18|        null|        null|2001|     null|     null|                null|2001-11-08 16:18:38|\n",
      "|    G484600|08/14/2001 10:00:...|    003XX W SCOTT ST|0810|               THEFT|           OVER $500|              STREET| false|   false|1821|null|      06|        null|        null|2001|     null|     null|                null|2001-08-14 22:00:00|\n",
      "|    G526151|09/03/2001 09:00:...|  030XX S CALIFORNIA|0110|            HOMICIDE| FIRST DEGREE MURDER|         COUNTY JAIL|  true|   false|1034|null|     01A|         0.0|         0.0|2001|36.619446|-91.68657|(36.619446395, -9...|2001-09-03 21:00:00|\n",
      "|    G070134|02/03/2001 01:29:...|039XX S DAN RYAN ...|1812|           NARCOTICS|POSS: CANNABIS MO...|              STREET|  true|   false|0925|null|      18|        null|        null|2001|     null|     null|                null|2001-02-03 13:29:48|\n",
      "|    G091286|02/13/2001 03:00:...|   051XX S KARLOV AV|1320|     CRIMINAL DAMAGE|          TO VEHICLE|               OTHER| false|   false|0815|null|      14|        null|        null|2001|     null|     null|                null|2001-02-13 15:00:00|\n",
      "|    G088654|02/12/2001 07:10:...|067XX S GREENWOOD AV|0320|             ROBBERY|STRONGARM - NO WE...|              STREET| false|   false|0321|null|      03|        null|        null|2001|     null|     null|                null|2001-02-12 19:10:00|\n",
      "|    G088567|02/12/2001 06:05:...|   028XX W BELDEN AV|031A|             ROBBERY|      ARMED: HANDGUN|            SIDEWALK| false|   false|1414|null|      03|        null|        null|2001|     null|     null|                null|2001-02-12 18:05:00|\n",
      "|    G086730|02/11/2001 09:01:...| 014XX W HASTINGS ST|1350|   CRIMINAL TRESPASS|   TO STATE SUP LAND|CHA HALLWAY/STAIR...|  true|   false|1231|null|      26|        null|        null|2001|     null|     null|                null|2001-02-11 21:01:33|\n",
      "|    G098599|02/17/2001 06:15:...|012XX S LAKE SHOR...|031A|             ROBBERY|      ARMED: HANDGUN|               OTHER|  true|   false|0133|null|      03|        null|        null|2001|     null|     null|                null|2001-02-17 18:15:00|\n",
      "|    G086755|02/11/2001 08:45:...| 014XX W HASTINGS ST|2021|           NARCOTICS|   POSS: BARBITUATES|CHA PARKING LOT/G...|  true|   false|1231|null|      18|        null|        null|2001|     null|     null|                null|2001-02-11 20:45:00|\n",
      "+-----------+--------------------+--------------------+----+--------------------+--------------------+--------------------+------+--------+----+----+--------+------------+------------+----+---------+---------+--------------------+-------------------+\n",
      "only showing top 20 rows\n",
      "\n"
     ]
    },
    {
     "name": "stderr",
     "output_type": "stream",
     "text": [
      "\r",
      "                                                                                \r"
     ]
    }
   ],
   "source": [
    "df_time.show()"
   ]
  },
  {
   "cell_type": "markdown",
   "id": "51dcd9aa",
   "metadata": {
    "scrolled": true
   },
   "source": [
    "### check date here: csv df, strdate col\n",
    "Command:\n",
    "```\n",
    "df_time \\\n",
    "    .filter(F.split('Date', ' ').getItem(0) == '01/01/2001') \\\n",
    "    .count()\n",
    "```"
   ]
  },
  {
   "cell_type": "markdown",
   "id": "561b5ed9",
   "metadata": {},
   "source": [
    "### check date here: csv df, datetime col\n",
    "Command:\n",
    "```\n",
    "df_time \\\n",
    "    .filter(F.month('Timestamp') == 1) \\\n",
    "    .groupBy(F.dayofmonth('Timestamp')) \\\n",
    "    .count() \\\n",
    "    .orderBy('count').show()\n",
    "```"
   ]
  },
  {
   "cell_type": "markdown",
   "id": "97bc120d",
   "metadata": {},
   "source": [
    "### test pq accuracy\n",
    "Command:\n",
    "```\n",
    "df_pq = spark.read \\\n",
    "    .option(\"header\", \"true\") \\\n",
    "    .parquet(f'{gcs_bkt}/pq/{city}/2001/1')\n",
    "```"
   ]
  },
  {
   "cell_type": "markdown",
   "id": "b83986b2",
   "metadata": {},
   "source": [
    "### check count here: pq df\n",
    "Command:\n",
    "`df_pq.count()`"
   ]
  },
  {
   "cell_type": "markdown",
   "id": "619b494f",
   "metadata": {},
   "source": [
    "### check date here: pq df, datetime col\n",
    "Command:\n",
    "```\n",
    "df_time \\\n",
    "    .filter(F.month('Timestamp') == 1).count()\n",
    "```"
   ]
  },
  {
   "cell_type": "code",
   "execution_count": null,
   "id": "b88297f1",
   "metadata": {},
   "outputs": [],
   "source": []
  }
 ],
 "metadata": {
  "kernelspec": {
   "display_name": "Python 3 (ipykernel)",
   "language": "python",
   "name": "python3"
  },
  "language_info": {
   "codemirror_mode": {
    "name": "ipython",
    "version": 3
   },
   "file_extension": ".py",
   "mimetype": "text/x-python",
   "name": "python",
   "nbconvert_exporter": "python",
   "pygments_lexer": "ipython3",
   "version": "3.9.12"
  }
 },
 "nbformat": 4,
 "nbformat_minor": 5
}
