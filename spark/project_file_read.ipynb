{
 "cells": [
  {
   "cell_type": "code",
   "execution_count": 1,
   "id": "707d2ca1",
   "metadata": {},
   "outputs": [],
   "source": [
    "from pyspark.sql import SparkSession\n",
    "from pyspark.conf import SparkConf\n",
    "from pyspark.context import SparkContext"
   ]
  },
  {
   "cell_type": "code",
   "execution_count": 2,
   "id": "96f09ea1",
   "metadata": {},
   "outputs": [],
   "source": [
    "from pyspark.sql import types\n",
    "from pyspark.sql import functions as F"
   ]
  },
  {
   "cell_type": "code",
   "execution_count": 3,
   "id": "a2431242",
   "metadata": {},
   "outputs": [],
   "source": [
    "import os\n",
    "import pandas as pd\n",
    "import pendulum as pdl"
   ]
  },
  {
   "cell_type": "code",
   "execution_count": 4,
   "id": "49438451",
   "metadata": {},
   "outputs": [],
   "source": [
    "from city_vars import dict_cities"
   ]
  },
  {
   "cell_type": "markdown",
   "id": "86e89877",
   "metadata": {},
   "source": [
    "# inputs\n",
    "- city\n",
    "- fname"
   ]
  },
  {
   "cell_type": "code",
   "execution_count": 5,
   "id": "db295039",
   "metadata": {},
   "outputs": [],
   "source": [
    "city = 'San Francisco'\n",
    "fname = ''"
   ]
  },
  {
   "cell_type": "code",
   "execution_count": 6,
   "id": "d435ec37",
   "metadata": {},
   "outputs": [],
   "source": [
    "# for city-specific data\n",
    "cities = ['Chicago', 'San Francisco', 'Los Angeles', 'Austin']\n",
    "f_cities = [c.replace(' ', '_').lower() for c in cities]\n",
    "\n",
    "dict_city = dict_cities[city]"
   ]
  },
  {
   "cell_type": "code",
   "execution_count": 7,
   "id": "0f8c447b",
   "metadata": {},
   "outputs": [],
   "source": [
    "gcs_bkt = os.getenv('GCP_GCS_BUCKET')"
   ]
  },
  {
   "cell_type": "code",
   "execution_count": 8,
   "id": "5b3026f9",
   "metadata": {},
   "outputs": [],
   "source": [
    "jar_path = os.getenv('JAR_FILE_LOC')\n",
    "creds_path = os.getenv('GOOGLE_APPLICATION_CREDENTIALS')\n",
    "\n",
    "conf = SparkConf() \\\n",
    "    .setMaster('spark://project-spark-1:7077') \\\n",
    "    .setAppName('proj_file_read') \\\n",
    "    .set(\"spark.jars\", jar_path)"
   ]
  },
  {
   "cell_type": "markdown",
   "id": "d7b43a2e",
   "metadata": {},
   "source": [
    "### Only if an existing one already runs:\n",
    "`sc.stop()`"
   ]
  },
  {
   "cell_type": "code",
   "execution_count": null,
   "id": "154e8aac",
   "metadata": {},
   "outputs": [],
   "source": [
    "sc.stop()"
   ]
  },
  {
   "cell_type": "code",
   "execution_count": 9,
   "id": "624e4674",
   "metadata": {},
   "outputs": [
    {
     "name": "stdout",
     "output_type": "stream",
     "text": [
      "22/11/04 12:03:03 WARN NativeCodeLoader: Unable to load native-hadoop library for your platform... using builtin-java classes where applicable\n"
     ]
    },
    {
     "name": "stderr",
     "output_type": "stream",
     "text": [
      "Setting default log level to \"WARN\".\n",
      "To adjust logging level use sc.setLogLevel(newLevel). For SparkR, use setLogLevel(newLevel).\n"
     ]
    }
   ],
   "source": [
    "sc = SparkContext(conf=conf)"
   ]
  },
  {
   "cell_type": "code",
   "execution_count": 10,
   "id": "44a3fb16",
   "metadata": {},
   "outputs": [],
   "source": [
    "hconf = sc._jsc.hadoopConfiguration()\n",
    "\n",
    "hconf.set(\"fs.AbstractFileSystem.gs.impl\", \"com.google.cloud.hadoop.fs.gcs.GoogleHadoopFS\")\n",
    "hconf.set(\"fs.gs.impl\", \"com.google.cloud.hadoop.fs.gcs.GoogleHadoopFileSystem\")\n",
    "hconf.set(\"fs.gs.auth.service.account.json.keyfile\", creds_path)\n",
    "hconf.set(\"fs.gs.auth.service.account.enable\", \"true\")"
   ]
  },
  {
   "cell_type": "code",
   "execution_count": 10,
   "id": "50e9c26e",
   "metadata": {},
   "outputs": [],
   "source": [
    "spark = SparkSession.builder \\\n",
    "    .config(conf=sc.getConf()) \\\n",
    "    .getOrCreate()"
   ]
  },
  {
   "cell_type": "markdown",
   "id": "2081160d",
   "metadata": {},
   "source": [
    "***"
   ]
  },
  {
   "cell_type": "markdown",
   "id": "2ce8ddf3",
   "metadata": {},
   "source": [
    "### first, open dataset page and check data dictionary on columns"
   ]
  },
  {
   "cell_type": "markdown",
   "id": "b0e4bbef",
   "metadata": {
    "scrolled": true
   },
   "source": [
    "### 1-time sample download for pandas reading to infer schema for everything else:\n",
    "\n",
    "command:\n",
    "`!wget https://data.cityofchicago.org/api/views/hx8q-mf9v/rows.csv?accessType=DOWNLOAD`\n",
    "\n",
    "note: file is `Crimes_-_2012.csv`\n",
    "\n",
    "output:\n",
    "```\n",
    "--2022-10-22 08:53:42--  https://data.cityofchicago.org/api/views/hx8q-mf9v/rows.csv?accessType=DOWNLOAD\n",
    "Resolving data.cityofchicago.org (data.cityofchicago.org)... 52.206.140.205, 52.206.68.26, 52.206.140.199\n",
    "Connecting to data.cityofchicago.org (data.cityofchicago.org)|52.206.140.205|:443... connected.\n",
    "HTTP request sent, awaiting response... 200 OK\n",
    "Length: unspecified [text/csv]\n",
    "Saving to: ‘rows.csv?accessType=DOWNLOAD’\n",
    "\n",
    "rows.csv?accessType     [          <=>       ]  75.99M  2.54MB/s    in 28s     \n",
    "\n",
    "2022-10-22 08:54:11 (2.68 MB/s) - ‘rows.csv?accessType=DOWNLOAD’ saved [79677853]\n",
    "```"
   ]
  },
  {
   "cell_type": "code",
   "execution_count": 12,
   "id": "b10f9258",
   "metadata": {},
   "outputs": [
    {
     "name": "stdout",
     "output_type": "stream",
     "text": [
      "--2022-10-27 14:12:57--  https://data.lacity.org/api/views/63jg-8b9z/rows.csv?accessType=DOWNLOAD\n",
      "Resolving data.lacity.org (data.lacity.org)... 52.206.140.205, 52.206.68.26, 52.206.140.199\n",
      "Connecting to data.lacity.org (data.lacity.org)|52.206.140.205|:443... connected.\n",
      "HTTP request sent, awaiting response... 200 OK\n",
      "Length: unspecified [text/csv]\n",
      "Saving to: ‘rows.csv?accessType=DOWNLOAD.3’\n",
      "\n",
      "rows.csv?accessType     [           <=>      ] 511.52M  5.12MB/s    in 99s     \n",
      "\n",
      "2022-10-27 14:14:36 (5.16 MB/s) - ‘rows.csv?accessType=DOWNLOAD.3’ saved [536364291]\n",
      "\n"
     ]
    }
   ],
   "source": [
    "!wget https://data.lacity.org/api/views/63jg-8b9z/rows.csv?accessType=DOWNLOAD"
   ]
  },
  {
   "cell_type": "markdown",
   "id": "e2cf5a7c",
   "metadata": {},
   "source": [
    "### check count here: raw csv file\n",
    "command:\n",
    "`!wc -l rows.csv?accessType=DOWNLOAD`\n",
    "\n",
    "chicago1: `485854 rows.csv?accessType=DOWNLOAD`\n",
    "chicago12: `336247 rows.csv?accessType=DOWNLOAD`\n",
    "austin: `35098 rows.csv?accessType=DOWNLOAD.1`\n",
    "los angeles: `2119798 rows.csv?accessType=DOWNLOAD.3`\n",
    "san francisco: `2129526 rows.csv?accessType=DOWNLOAD.2`"
   ]
  },
  {
   "cell_type": "code",
   "execution_count": 1,
   "id": "c142a4b2",
   "metadata": {
    "scrolled": true
   },
   "outputs": [
    {
     "name": "stdout",
     "output_type": "stream",
     "text": [
      "657573 rows.csv?accessType=DOWNLOAD.4\r\n"
     ]
    }
   ],
   "source": [
    "!wc -l rows.csv?accessType=DOWNLOAD.4"
   ]
  },
  {
   "cell_type": "code",
   "execution_count": 11,
   "id": "e3988734",
   "metadata": {},
   "outputs": [
    {
     "data": {
      "text/plain": [
       "Index(['Incident Datetime', 'Incident Date', 'Incident Time', 'Incident Year',\n",
       "       'Incident Day of Week', 'Report Datetime', 'Row ID', 'Incident ID',\n",
       "       'Incident Number', 'CAD Number', 'Report Type Code',\n",
       "       'Report Type Description', 'Filed Online', 'Incident Code',\n",
       "       'Incident Category', 'Incident Subcategory', 'Incident Description',\n",
       "       'Resolution', 'Intersection', 'CNN', 'Police District',\n",
       "       'Analysis Neighborhood', 'Supervisor District', 'Latitude', 'Longitude',\n",
       "       'Point', 'Neighborhoods', 'ESNCAG - Boundary File',\n",
       "       'Central Market/Tenderloin Boundary Polygon - Updated',\n",
       "       'Civic Center Harm Reduction Project Boundary',\n",
       "       'HSOC Zones as of 2018-06-05', 'Invest In Neighborhoods (IIN) Areas',\n",
       "       'Current Supervisor Districts', 'Current Police Districts'],\n",
       "      dtype='object')"
      ]
     },
     "execution_count": 11,
     "metadata": {},
     "output_type": "execute_result"
    }
   ],
   "source": [
    "df_pd = pd.read_csv('rows.csv?accessType=DOWNLOAD.4', nrows=1000)\n",
    "df_pd.columns"
   ]
  },
  {
   "cell_type": "markdown",
   "id": "deebdbfb",
   "metadata": {},
   "source": [
    "### see sample of data\n",
    "Command: `df_pd`"
   ]
  },
  {
   "cell_type": "code",
   "execution_count": 12,
   "id": "99e75bb1",
   "metadata": {
    "scrolled": false
   },
   "outputs": [
    {
     "data": {
      "text/html": [
       "<div>\n",
       "<style scoped>\n",
       "    .dataframe tbody tr th:only-of-type {\n",
       "        vertical-align: middle;\n",
       "    }\n",
       "\n",
       "    .dataframe tbody tr th {\n",
       "        vertical-align: top;\n",
       "    }\n",
       "\n",
       "    .dataframe thead th {\n",
       "        text-align: right;\n",
       "    }\n",
       "</style>\n",
       "<table border=\"1\" class=\"dataframe\">\n",
       "  <thead>\n",
       "    <tr style=\"text-align: right;\">\n",
       "      <th></th>\n",
       "      <th>Incident Datetime</th>\n",
       "      <th>Incident Date</th>\n",
       "      <th>Incident Time</th>\n",
       "      <th>Incident Year</th>\n",
       "      <th>Incident Day of Week</th>\n",
       "      <th>Report Datetime</th>\n",
       "      <th>Row ID</th>\n",
       "      <th>Incident ID</th>\n",
       "      <th>Incident Number</th>\n",
       "      <th>CAD Number</th>\n",
       "      <th>Report Type Code</th>\n",
       "      <th>Report Type Description</th>\n",
       "      <th>Filed Online</th>\n",
       "      <th>Incident Code</th>\n",
       "      <th>Incident Category</th>\n",
       "      <th>Incident Subcategory</th>\n",
       "      <th>Incident Description</th>\n",
       "      <th>Resolution</th>\n",
       "      <th>Intersection</th>\n",
       "      <th>CNN</th>\n",
       "      <th>Police District</th>\n",
       "      <th>Analysis Neighborhood</th>\n",
       "      <th>Supervisor District</th>\n",
       "      <th>Latitude</th>\n",
       "      <th>Longitude</th>\n",
       "      <th>Point</th>\n",
       "      <th>Neighborhoods</th>\n",
       "      <th>ESNCAG - Boundary File</th>\n",
       "      <th>Central Market/Tenderloin Boundary Polygon - Updated</th>\n",
       "      <th>Civic Center Harm Reduction Project Boundary</th>\n",
       "      <th>HSOC Zones as of 2018-06-05</th>\n",
       "      <th>Invest In Neighborhoods (IIN) Areas</th>\n",
       "      <th>Current Supervisor Districts</th>\n",
       "      <th>Current Police Districts</th>\n",
       "    </tr>\n",
       "  </thead>\n",
       "  <tbody>\n",
       "    <tr>\n",
       "      <th>0</th>\n",
       "      <td>2021/07/25 12:00:00 AM</td>\n",
       "      <td>2021/07/25</td>\n",
       "      <td>00:00</td>\n",
       "      <td>2021</td>\n",
       "      <td>Sunday</td>\n",
       "      <td>2021/07/25 01:41:00 PM</td>\n",
       "      <td>105718906372</td>\n",
       "      <td>1057189</td>\n",
       "      <td>216105573</td>\n",
       "      <td>NaN</td>\n",
       "      <td>II</td>\n",
       "      <td>Coplogic Initial</td>\n",
       "      <td>True</td>\n",
       "      <td>6372</td>\n",
       "      <td>Larceny Theft</td>\n",
       "      <td>Larceny Theft - Other</td>\n",
       "      <td>Theft, Other Property, $50-$200</td>\n",
       "      <td>Open or Active</td>\n",
       "      <td>NaN</td>\n",
       "      <td>NaN</td>\n",
       "      <td>Southern</td>\n",
       "      <td>NaN</td>\n",
       "      <td>NaN</td>\n",
       "      <td>NaN</td>\n",
       "      <td>NaN</td>\n",
       "      <td>NaN</td>\n",
       "      <td>NaN</td>\n",
       "      <td>NaN</td>\n",
       "      <td>NaN</td>\n",
       "      <td>NaN</td>\n",
       "      <td>NaN</td>\n",
       "      <td>NaN</td>\n",
       "      <td>NaN</td>\n",
       "      <td>NaN</td>\n",
       "    </tr>\n",
       "    <tr>\n",
       "      <th>1</th>\n",
       "      <td>2022/06/28 11:58:00 PM</td>\n",
       "      <td>2022/06/28</td>\n",
       "      <td>23:58</td>\n",
       "      <td>2022</td>\n",
       "      <td>Tuesday</td>\n",
       "      <td>2022/06/28 11:58:00 PM</td>\n",
       "      <td>116554371012</td>\n",
       "      <td>1165543</td>\n",
       "      <td>220264913</td>\n",
       "      <td>NaN</td>\n",
       "      <td>VS</td>\n",
       "      <td>Vehicle Supplement</td>\n",
       "      <td>NaN</td>\n",
       "      <td>71012</td>\n",
       "      <td>Other Offenses</td>\n",
       "      <td>Other Offenses</td>\n",
       "      <td>License Plate, Recovered</td>\n",
       "      <td>Open or Active</td>\n",
       "      <td>NaN</td>\n",
       "      <td>NaN</td>\n",
       "      <td>Out of SF</td>\n",
       "      <td>NaN</td>\n",
       "      <td>NaN</td>\n",
       "      <td>NaN</td>\n",
       "      <td>NaN</td>\n",
       "      <td>NaN</td>\n",
       "      <td>NaN</td>\n",
       "      <td>NaN</td>\n",
       "      <td>NaN</td>\n",
       "      <td>NaN</td>\n",
       "      <td>NaN</td>\n",
       "      <td>NaN</td>\n",
       "      <td>NaN</td>\n",
       "      <td>NaN</td>\n",
       "    </tr>\n",
       "    <tr>\n",
       "      <th>2</th>\n",
       "      <td>2022/03/11 10:30:00 AM</td>\n",
       "      <td>2022/03/11</td>\n",
       "      <td>10:30</td>\n",
       "      <td>2022</td>\n",
       "      <td>Friday</td>\n",
       "      <td>2022/03/11 08:03:00 PM</td>\n",
       "      <td>113048071000</td>\n",
       "      <td>1130480</td>\n",
       "      <td>226040232</td>\n",
       "      <td>NaN</td>\n",
       "      <td>II</td>\n",
       "      <td>Coplogic Initial</td>\n",
       "      <td>True</td>\n",
       "      <td>71000</td>\n",
       "      <td>Lost Property</td>\n",
       "      <td>Lost Property</td>\n",
       "      <td>Lost Property</td>\n",
       "      <td>Open or Active</td>\n",
       "      <td>NaN</td>\n",
       "      <td>NaN</td>\n",
       "      <td>Central</td>\n",
       "      <td>NaN</td>\n",
       "      <td>NaN</td>\n",
       "      <td>NaN</td>\n",
       "      <td>NaN</td>\n",
       "      <td>NaN</td>\n",
       "      <td>NaN</td>\n",
       "      <td>NaN</td>\n",
       "      <td>NaN</td>\n",
       "      <td>NaN</td>\n",
       "      <td>NaN</td>\n",
       "      <td>NaN</td>\n",
       "      <td>NaN</td>\n",
       "      <td>NaN</td>\n",
       "    </tr>\n",
       "    <tr>\n",
       "      <th>3</th>\n",
       "      <td>2021/05/15 05:47:00 PM</td>\n",
       "      <td>2021/05/15</td>\n",
       "      <td>17:47</td>\n",
       "      <td>2021</td>\n",
       "      <td>Saturday</td>\n",
       "      <td>2021/05/15 05:47:00 PM</td>\n",
       "      <td>103051807043</td>\n",
       "      <td>1030518</td>\n",
       "      <td>210183345</td>\n",
       "      <td>NaN</td>\n",
       "      <td>VS</td>\n",
       "      <td>Vehicle Supplement</td>\n",
       "      <td>NaN</td>\n",
       "      <td>7043</td>\n",
       "      <td>Recovered Vehicle</td>\n",
       "      <td>Recovered Vehicle</td>\n",
       "      <td>Vehicle, Recovered, Motorcycle</td>\n",
       "      <td>Open or Active</td>\n",
       "      <td>NaN</td>\n",
       "      <td>NaN</td>\n",
       "      <td>Out of SF</td>\n",
       "      <td>NaN</td>\n",
       "      <td>NaN</td>\n",
       "      <td>NaN</td>\n",
       "      <td>NaN</td>\n",
       "      <td>NaN</td>\n",
       "      <td>NaN</td>\n",
       "      <td>NaN</td>\n",
       "      <td>NaN</td>\n",
       "      <td>NaN</td>\n",
       "      <td>NaN</td>\n",
       "      <td>NaN</td>\n",
       "      <td>NaN</td>\n",
       "      <td>NaN</td>\n",
       "    </tr>\n",
       "    <tr>\n",
       "      <th>4</th>\n",
       "      <td>2022/06/28 05:22:00 PM</td>\n",
       "      <td>2022/06/28</td>\n",
       "      <td>17:22</td>\n",
       "      <td>2022</td>\n",
       "      <td>Tuesday</td>\n",
       "      <td>2022/06/28 05:22:00 PM</td>\n",
       "      <td>116535107041</td>\n",
       "      <td>1165351</td>\n",
       "      <td>220361741</td>\n",
       "      <td>NaN</td>\n",
       "      <td>VS</td>\n",
       "      <td>Vehicle Supplement</td>\n",
       "      <td>NaN</td>\n",
       "      <td>7041</td>\n",
       "      <td>Recovered Vehicle</td>\n",
       "      <td>Recovered Vehicle</td>\n",
       "      <td>Vehicle, Recovered, Auto</td>\n",
       "      <td>Open or Active</td>\n",
       "      <td>NaN</td>\n",
       "      <td>NaN</td>\n",
       "      <td>Out of SF</td>\n",
       "      <td>NaN</td>\n",
       "      <td>NaN</td>\n",
       "      <td>NaN</td>\n",
       "      <td>NaN</td>\n",
       "      <td>NaN</td>\n",
       "      <td>NaN</td>\n",
       "      <td>NaN</td>\n",
       "      <td>NaN</td>\n",
       "      <td>NaN</td>\n",
       "      <td>NaN</td>\n",
       "      <td>NaN</td>\n",
       "      <td>NaN</td>\n",
       "      <td>NaN</td>\n",
       "    </tr>\n",
       "    <tr>\n",
       "      <th>...</th>\n",
       "      <td>...</td>\n",
       "      <td>...</td>\n",
       "      <td>...</td>\n",
       "      <td>...</td>\n",
       "      <td>...</td>\n",
       "      <td>...</td>\n",
       "      <td>...</td>\n",
       "      <td>...</td>\n",
       "      <td>...</td>\n",
       "      <td>...</td>\n",
       "      <td>...</td>\n",
       "      <td>...</td>\n",
       "      <td>...</td>\n",
       "      <td>...</td>\n",
       "      <td>...</td>\n",
       "      <td>...</td>\n",
       "      <td>...</td>\n",
       "      <td>...</td>\n",
       "      <td>...</td>\n",
       "      <td>...</td>\n",
       "      <td>...</td>\n",
       "      <td>...</td>\n",
       "      <td>...</td>\n",
       "      <td>...</td>\n",
       "      <td>...</td>\n",
       "      <td>...</td>\n",
       "      <td>...</td>\n",
       "      <td>...</td>\n",
       "      <td>...</td>\n",
       "      <td>...</td>\n",
       "      <td>...</td>\n",
       "      <td>...</td>\n",
       "      <td>...</td>\n",
       "      <td>...</td>\n",
       "    </tr>\n",
       "    <tr>\n",
       "      <th>995</th>\n",
       "      <td>2021/08/04 04:30:00 PM</td>\n",
       "      <td>2021/08/04</td>\n",
       "      <td>16:30</td>\n",
       "      <td>2021</td>\n",
       "      <td>Wednesday</td>\n",
       "      <td>2021/08/05 09:23:00 AM</td>\n",
       "      <td>105728307021</td>\n",
       "      <td>1057283</td>\n",
       "      <td>210496063</td>\n",
       "      <td>212170912.0</td>\n",
       "      <td>VI</td>\n",
       "      <td>Vehicle Initial</td>\n",
       "      <td>NaN</td>\n",
       "      <td>7021</td>\n",
       "      <td>Motor Vehicle Theft</td>\n",
       "      <td>Motor Vehicle Theft</td>\n",
       "      <td>Vehicle, Stolen, Auto</td>\n",
       "      <td>Open or Active</td>\n",
       "      <td>REVERE AVE \\ CRISP RD</td>\n",
       "      <td>20076000.0</td>\n",
       "      <td>Bayview</td>\n",
       "      <td>Bayview Hunters Point</td>\n",
       "      <td>10.0</td>\n",
       "      <td>37.727217</td>\n",
       "      <td>-122.382320</td>\n",
       "      <td>POINT (-122.38232027891799 37.72721672799317)</td>\n",
       "      <td>78.0</td>\n",
       "      <td>NaN</td>\n",
       "      <td>NaN</td>\n",
       "      <td>NaN</td>\n",
       "      <td>NaN</td>\n",
       "      <td>NaN</td>\n",
       "      <td>9.0</td>\n",
       "      <td>2.0</td>\n",
       "    </tr>\n",
       "    <tr>\n",
       "      <th>996</th>\n",
       "      <td>2021/08/04 06:00:00 PM</td>\n",
       "      <td>2021/08/04</td>\n",
       "      <td>18:00</td>\n",
       "      <td>2021</td>\n",
       "      <td>Wednesday</td>\n",
       "      <td>2021/08/05 07:48:00 AM</td>\n",
       "      <td>105730705153</td>\n",
       "      <td>1057307</td>\n",
       "      <td>210495974</td>\n",
       "      <td>212170634.0</td>\n",
       "      <td>II</td>\n",
       "      <td>Initial</td>\n",
       "      <td>NaN</td>\n",
       "      <td>5153</td>\n",
       "      <td>Burglary</td>\n",
       "      <td>Burglary - Other</td>\n",
       "      <td>Burglary, Non-residential, Unlawful Entry</td>\n",
       "      <td>Open or Active</td>\n",
       "      <td>CHESTNUT ST \\ PIERCE ST</td>\n",
       "      <td>26964000.0</td>\n",
       "      <td>Northern</td>\n",
       "      <td>Marina</td>\n",
       "      <td>2.0</td>\n",
       "      <td>37.800403</td>\n",
       "      <td>-122.439504</td>\n",
       "      <td>POINT (-122.43950417286405 37.80040342900427)</td>\n",
       "      <td>17.0</td>\n",
       "      <td>NaN</td>\n",
       "      <td>NaN</td>\n",
       "      <td>NaN</td>\n",
       "      <td>NaN</td>\n",
       "      <td>NaN</td>\n",
       "      <td>6.0</td>\n",
       "      <td>4.0</td>\n",
       "    </tr>\n",
       "    <tr>\n",
       "      <th>997</th>\n",
       "      <td>2021/08/05 03:00:00 AM</td>\n",
       "      <td>2021/08/05</td>\n",
       "      <td>03:00</td>\n",
       "      <td>2021</td>\n",
       "      <td>Thursday</td>\n",
       "      <td>2021/08/05 03:43:00 PM</td>\n",
       "      <td>105739364070</td>\n",
       "      <td>1057393</td>\n",
       "      <td>210497005</td>\n",
       "      <td>212171871.0</td>\n",
       "      <td>II</td>\n",
       "      <td>Initial</td>\n",
       "      <td>NaN</td>\n",
       "      <td>64070</td>\n",
       "      <td>Suspicious Occ</td>\n",
       "      <td>Suspicious Occ</td>\n",
       "      <td>Suspicious Occurrence</td>\n",
       "      <td>Open or Active</td>\n",
       "      <td>STOCKTON ST \\ CAMPTON PL</td>\n",
       "      <td>24907000.0</td>\n",
       "      <td>Central</td>\n",
       "      <td>Financial District/South Beach</td>\n",
       "      <td>3.0</td>\n",
       "      <td>37.788986</td>\n",
       "      <td>-122.406865</td>\n",
       "      <td>POINT (-122.40686503276359 37.788986292481376)</td>\n",
       "      <td>19.0</td>\n",
       "      <td>NaN</td>\n",
       "      <td>NaN</td>\n",
       "      <td>NaN</td>\n",
       "      <td>NaN</td>\n",
       "      <td>NaN</td>\n",
       "      <td>3.0</td>\n",
       "      <td>6.0</td>\n",
       "    </tr>\n",
       "    <tr>\n",
       "      <th>998</th>\n",
       "      <td>2021/04/25 07:50:00 AM</td>\n",
       "      <td>2021/04/25</td>\n",
       "      <td>07:50</td>\n",
       "      <td>2021</td>\n",
       "      <td>Sunday</td>\n",
       "      <td>2021/04/26 01:38:00 PM</td>\n",
       "      <td>103098428150</td>\n",
       "      <td>1030984</td>\n",
       "      <td>216054986</td>\n",
       "      <td>NaN</td>\n",
       "      <td>II</td>\n",
       "      <td>Coplogic Initial</td>\n",
       "      <td>True</td>\n",
       "      <td>28150</td>\n",
       "      <td>Malicious Mischief</td>\n",
       "      <td>Vandalism</td>\n",
       "      <td>Malicious Mischief, Vandalism to Property</td>\n",
       "      <td>Open or Active</td>\n",
       "      <td>NaN</td>\n",
       "      <td>NaN</td>\n",
       "      <td>Southern</td>\n",
       "      <td>NaN</td>\n",
       "      <td>NaN</td>\n",
       "      <td>NaN</td>\n",
       "      <td>NaN</td>\n",
       "      <td>NaN</td>\n",
       "      <td>NaN</td>\n",
       "      <td>NaN</td>\n",
       "      <td>NaN</td>\n",
       "      <td>NaN</td>\n",
       "      <td>NaN</td>\n",
       "      <td>NaN</td>\n",
       "      <td>NaN</td>\n",
       "      <td>NaN</td>\n",
       "    </tr>\n",
       "    <tr>\n",
       "      <th>999</th>\n",
       "      <td>2021/08/05 08:26:00 PM</td>\n",
       "      <td>2021/08/05</td>\n",
       "      <td>20:26</td>\n",
       "      <td>2021</td>\n",
       "      <td>Thursday</td>\n",
       "      <td>2021/08/05 08:26:00 PM</td>\n",
       "      <td>105746265010</td>\n",
       "      <td>1057462</td>\n",
       "      <td>210497873</td>\n",
       "      <td>212173075.0</td>\n",
       "      <td>II</td>\n",
       "      <td>Initial</td>\n",
       "      <td>NaN</td>\n",
       "      <td>65010</td>\n",
       "      <td>Traffic Violation Arrest</td>\n",
       "      <td>Traffic Violation Arrest</td>\n",
       "      <td>Traffic Violation Arrest</td>\n",
       "      <td>Cite or Arrest Adult</td>\n",
       "      <td>LOOMIS ST \\ OAKDALE AVE</td>\n",
       "      <td>20813000.0</td>\n",
       "      <td>Bayview</td>\n",
       "      <td>Bayview Hunters Point</td>\n",
       "      <td>10.0</td>\n",
       "      <td>37.742521</td>\n",
       "      <td>-122.404306</td>\n",
       "      <td>POINT (-122.40430629342 37.74252073319404)</td>\n",
       "      <td>82.0</td>\n",
       "      <td>NaN</td>\n",
       "      <td>NaN</td>\n",
       "      <td>NaN</td>\n",
       "      <td>NaN</td>\n",
       "      <td>NaN</td>\n",
       "      <td>9.0</td>\n",
       "      <td>2.0</td>\n",
       "    </tr>\n",
       "  </tbody>\n",
       "</table>\n",
       "<p>1000 rows × 34 columns</p>\n",
       "</div>"
      ],
      "text/plain": [
       "          Incident Datetime Incident Date Incident Time  Incident Year  \\\n",
       "0    2021/07/25 12:00:00 AM    2021/07/25         00:00           2021   \n",
       "1    2022/06/28 11:58:00 PM    2022/06/28         23:58           2022   \n",
       "2    2022/03/11 10:30:00 AM    2022/03/11         10:30           2022   \n",
       "3    2021/05/15 05:47:00 PM    2021/05/15         17:47           2021   \n",
       "4    2022/06/28 05:22:00 PM    2022/06/28         17:22           2022   \n",
       "..                      ...           ...           ...            ...   \n",
       "995  2021/08/04 04:30:00 PM    2021/08/04         16:30           2021   \n",
       "996  2021/08/04 06:00:00 PM    2021/08/04         18:00           2021   \n",
       "997  2021/08/05 03:00:00 AM    2021/08/05         03:00           2021   \n",
       "998  2021/04/25 07:50:00 AM    2021/04/25         07:50           2021   \n",
       "999  2021/08/05 08:26:00 PM    2021/08/05         20:26           2021   \n",
       "\n",
       "    Incident Day of Week         Report Datetime        Row ID  Incident ID  \\\n",
       "0                 Sunday  2021/07/25 01:41:00 PM  105718906372      1057189   \n",
       "1                Tuesday  2022/06/28 11:58:00 PM  116554371012      1165543   \n",
       "2                 Friday  2022/03/11 08:03:00 PM  113048071000      1130480   \n",
       "3               Saturday  2021/05/15 05:47:00 PM  103051807043      1030518   \n",
       "4                Tuesday  2022/06/28 05:22:00 PM  116535107041      1165351   \n",
       "..                   ...                     ...           ...          ...   \n",
       "995            Wednesday  2021/08/05 09:23:00 AM  105728307021      1057283   \n",
       "996            Wednesday  2021/08/05 07:48:00 AM  105730705153      1057307   \n",
       "997             Thursday  2021/08/05 03:43:00 PM  105739364070      1057393   \n",
       "998               Sunday  2021/04/26 01:38:00 PM  103098428150      1030984   \n",
       "999             Thursday  2021/08/05 08:26:00 PM  105746265010      1057462   \n",
       "\n",
       "     Incident Number   CAD Number Report Type Code Report Type Description  \\\n",
       "0          216105573          NaN               II        Coplogic Initial   \n",
       "1          220264913          NaN               VS      Vehicle Supplement   \n",
       "2          226040232          NaN               II        Coplogic Initial   \n",
       "3          210183345          NaN               VS      Vehicle Supplement   \n",
       "4          220361741          NaN               VS      Vehicle Supplement   \n",
       "..               ...          ...              ...                     ...   \n",
       "995        210496063  212170912.0               VI         Vehicle Initial   \n",
       "996        210495974  212170634.0               II                 Initial   \n",
       "997        210497005  212171871.0               II                 Initial   \n",
       "998        216054986          NaN               II        Coplogic Initial   \n",
       "999        210497873  212173075.0               II                 Initial   \n",
       "\n",
       "    Filed Online  Incident Code         Incident Category  \\\n",
       "0           True           6372             Larceny Theft   \n",
       "1            NaN          71012            Other Offenses   \n",
       "2           True          71000             Lost Property   \n",
       "3            NaN           7043         Recovered Vehicle   \n",
       "4            NaN           7041         Recovered Vehicle   \n",
       "..           ...            ...                       ...   \n",
       "995          NaN           7021       Motor Vehicle Theft   \n",
       "996          NaN           5153                  Burglary   \n",
       "997          NaN          64070            Suspicious Occ   \n",
       "998         True          28150        Malicious Mischief   \n",
       "999          NaN          65010  Traffic Violation Arrest   \n",
       "\n",
       "         Incident Subcategory                       Incident Description  \\\n",
       "0       Larceny Theft - Other            Theft, Other Property, $50-$200   \n",
       "1              Other Offenses                   License Plate, Recovered   \n",
       "2               Lost Property                              Lost Property   \n",
       "3           Recovered Vehicle             Vehicle, Recovered, Motorcycle   \n",
       "4           Recovered Vehicle                   Vehicle, Recovered, Auto   \n",
       "..                        ...                                        ...   \n",
       "995       Motor Vehicle Theft                      Vehicle, Stolen, Auto   \n",
       "996          Burglary - Other  Burglary, Non-residential, Unlawful Entry   \n",
       "997            Suspicious Occ                      Suspicious Occurrence   \n",
       "998                 Vandalism  Malicious Mischief, Vandalism to Property   \n",
       "999  Traffic Violation Arrest                   Traffic Violation Arrest   \n",
       "\n",
       "               Resolution              Intersection         CNN  \\\n",
       "0          Open or Active                       NaN         NaN   \n",
       "1          Open or Active                       NaN         NaN   \n",
       "2          Open or Active                       NaN         NaN   \n",
       "3          Open or Active                       NaN         NaN   \n",
       "4          Open or Active                       NaN         NaN   \n",
       "..                    ...                       ...         ...   \n",
       "995        Open or Active     REVERE AVE \\ CRISP RD  20076000.0   \n",
       "996        Open or Active   CHESTNUT ST \\ PIERCE ST  26964000.0   \n",
       "997        Open or Active  STOCKTON ST \\ CAMPTON PL  24907000.0   \n",
       "998        Open or Active                       NaN         NaN   \n",
       "999  Cite or Arrest Adult   LOOMIS ST \\ OAKDALE AVE  20813000.0   \n",
       "\n",
       "    Police District           Analysis Neighborhood  Supervisor District  \\\n",
       "0          Southern                             NaN                  NaN   \n",
       "1         Out of SF                             NaN                  NaN   \n",
       "2           Central                             NaN                  NaN   \n",
       "3         Out of SF                             NaN                  NaN   \n",
       "4         Out of SF                             NaN                  NaN   \n",
       "..              ...                             ...                  ...   \n",
       "995         Bayview           Bayview Hunters Point                 10.0   \n",
       "996        Northern                          Marina                  2.0   \n",
       "997         Central  Financial District/South Beach                  3.0   \n",
       "998        Southern                             NaN                  NaN   \n",
       "999         Bayview           Bayview Hunters Point                 10.0   \n",
       "\n",
       "      Latitude   Longitude                                           Point  \\\n",
       "0          NaN         NaN                                             NaN   \n",
       "1          NaN         NaN                                             NaN   \n",
       "2          NaN         NaN                                             NaN   \n",
       "3          NaN         NaN                                             NaN   \n",
       "4          NaN         NaN                                             NaN   \n",
       "..         ...         ...                                             ...   \n",
       "995  37.727217 -122.382320   POINT (-122.38232027891799 37.72721672799317)   \n",
       "996  37.800403 -122.439504   POINT (-122.43950417286405 37.80040342900427)   \n",
       "997  37.788986 -122.406865  POINT (-122.40686503276359 37.788986292481376)   \n",
       "998        NaN         NaN                                             NaN   \n",
       "999  37.742521 -122.404306      POINT (-122.40430629342 37.74252073319404)   \n",
       "\n",
       "     Neighborhoods  ESNCAG - Boundary File  \\\n",
       "0              NaN                     NaN   \n",
       "1              NaN                     NaN   \n",
       "2              NaN                     NaN   \n",
       "3              NaN                     NaN   \n",
       "4              NaN                     NaN   \n",
       "..             ...                     ...   \n",
       "995           78.0                     NaN   \n",
       "996           17.0                     NaN   \n",
       "997           19.0                     NaN   \n",
       "998            NaN                     NaN   \n",
       "999           82.0                     NaN   \n",
       "\n",
       "     Central Market/Tenderloin Boundary Polygon - Updated  \\\n",
       "0                                                  NaN      \n",
       "1                                                  NaN      \n",
       "2                                                  NaN      \n",
       "3                                                  NaN      \n",
       "4                                                  NaN      \n",
       "..                                                 ...      \n",
       "995                                                NaN      \n",
       "996                                                NaN      \n",
       "997                                                NaN      \n",
       "998                                                NaN      \n",
       "999                                                NaN      \n",
       "\n",
       "     Civic Center Harm Reduction Project Boundary  \\\n",
       "0                                             NaN   \n",
       "1                                             NaN   \n",
       "2                                             NaN   \n",
       "3                                             NaN   \n",
       "4                                             NaN   \n",
       "..                                            ...   \n",
       "995                                           NaN   \n",
       "996                                           NaN   \n",
       "997                                           NaN   \n",
       "998                                           NaN   \n",
       "999                                           NaN   \n",
       "\n",
       "     HSOC Zones as of 2018-06-05  Invest In Neighborhoods (IIN) Areas  \\\n",
       "0                            NaN                                  NaN   \n",
       "1                            NaN                                  NaN   \n",
       "2                            NaN                                  NaN   \n",
       "3                            NaN                                  NaN   \n",
       "4                            NaN                                  NaN   \n",
       "..                           ...                                  ...   \n",
       "995                          NaN                                  NaN   \n",
       "996                          NaN                                  NaN   \n",
       "997                          NaN                                  NaN   \n",
       "998                          NaN                                  NaN   \n",
       "999                          NaN                                  NaN   \n",
       "\n",
       "     Current Supervisor Districts  Current Police Districts  \n",
       "0                             NaN                       NaN  \n",
       "1                             NaN                       NaN  \n",
       "2                             NaN                       NaN  \n",
       "3                             NaN                       NaN  \n",
       "4                             NaN                       NaN  \n",
       "..                            ...                       ...  \n",
       "995                           9.0                       2.0  \n",
       "996                           6.0                       4.0  \n",
       "997                           3.0                       6.0  \n",
       "998                           NaN                       NaN  \n",
       "999                           9.0                       2.0  \n",
       "\n",
       "[1000 rows x 34 columns]"
      ]
     },
     "execution_count": 12,
     "metadata": {},
     "output_type": "execute_result"
    }
   ],
   "source": [
    "pd.set_option('display.max_columns', None)\n",
    "df_pd"
   ]
  },
  {
   "cell_type": "code",
   "execution_count": 21,
   "id": "e04037c8",
   "metadata": {},
   "outputs": [],
   "source": [
    "cols = ['Incident Datetime', 'Incident Date', 'Incident Time', 'Incident Year',\n",
    "'Incident Day of Week', 'Report Datetime', 'Row ID', 'Incident ID',\n",
    "'Incident Number', 'CAD Number', 'Report Type Code',\n",
    "'Report Type Description', 'Incident Code',\n",
    "'Incident Category', 'Incident Subcategory', 'Incident Description',\n",
    "'Resolution', 'CNN', 'Police District', 'Supervisor District', 'Latitude', 'Longitude',\n",
    "'Neighborhoods', 'ESNCAG - Boundary File',\n",
    "'Central Market/Tenderloin Boundary Polygon - Updated',\n",
    "'Civic Center Harm Reduction Project Boundary',\n",
    "'HSOC Zones as of 2018-06-05', 'Invest In Neighborhoods (IIN) Areas',\n",
    "'Current Supervisor Districts', 'Current Police Districts']\n",
    "df_pd = pd.read_csv('rows.csv?accessType=DOWNLOAD.4', nrows=1000, usecols=cols)"
   ]
  },
  {
   "cell_type": "markdown",
   "id": "f2ee772d",
   "metadata": {},
   "source": [
    "### initial commands for all (1 cell each)\n",
    "Commands:\n",
    "```\n",
    "df_pd = pd.read_csv('rows.csv?accessType=DOWNLOAD.1', nrows=1000)\n",
    "df_pd.columns\n",
    "```\n",
    "get output, then:\n",
    "```\n",
    "spark.createDataFrame(df_pd).schema\n",
    "```\n",
    "if with error, then:\n",
    "```\n",
    "cols = <PASTE COLUMN LIST HERE, REMOVE PROBLEMATIC COL>\n",
    "\n",
    "df_pd = pd.read_csv('<EDIT FILENAME>', nrows=1000, usecols=cols)\n",
    "```\n",
    "\n",
    "### for Chicago because of `TypeError: Can not merge type (pandas string to spark double) for 'Location Description', 'location' fields`\n",
    "```\n",
    "cols = ['Case Number', 'Date', 'Block', 'IUCR', 'Primary Type', 'Description', 'Arrest', 'Domestic', 'Beat', 'Ward', 'FBI Code', 'X Coordinate', 'Y Coordinate', 'Year', 'Latitude', 'Longitude']\n",
    "```\n",
    "\n",
    "### for Los Angeles because of `TypeError: Can not merge type (pandas string/double to spark double/string) for 'Cross Street', 'Weapon Desc', 'Mocodes', 'Vict Sex', 'Vict Descent'`\n",
    "Commands:\n",
    "```\n",
    "cols = ['DR_NO', 'Date Rptd', 'DATE OCC', 'TIME OCC', 'AREA ', 'AREA NAME', 'Rpt Dist No', 'Part 1-2', 'Crm Cd', 'Crm Cd Desc', 'Vict Age', 'Premis Cd', 'Premis Desc', 'Weapon Used Cd', 'Status', 'Status Desc', 'Crm Cd 1', 'Crm Cd 2', 'Crm Cd 3', 'Crm Cd 4', 'LOCATION', 'LAT', 'LON']\n",
    "```\n",
    "\n",
    "### for Austin because of `TypeError: Can not merge type (pandas string to spark double) for 'Clearance Status', 'Clearance Date', 'GO Location' fields`\n",
    "Commands:\n",
    "```\n",
    "cols = ['GO Primary Key', 'Council District', 'GO Highest Offense Desc', 'Highest NIBRS/UCR Offense Description', 'GO Report Date', 'GO District', 'GO Location Zip', 'GO Census Tract', 'GO X Coordinate', 'GO Y Coordinate']\n",
    "```"
   ]
  },
  {
   "cell_type": "code",
   "execution_count": 22,
   "id": "5977e52d",
   "metadata": {
    "scrolled": true
   },
   "outputs": [
    {
     "ename": "TypeError",
     "evalue": "field Incident Category: Can not merge type <class 'pyspark.sql.types.StringType'> and <class 'pyspark.sql.types.DoubleType'>",
     "output_type": "error",
     "traceback": [
      "\u001b[0;31m---------------------------------------------------------------------------\u001b[0m",
      "\u001b[0;31mTypeError\u001b[0m                                 Traceback (most recent call last)",
      "Input \u001b[0;32mIn [22]\u001b[0m, in \u001b[0;36m<cell line: 1>\u001b[0;34m()\u001b[0m\n\u001b[0;32m----> 1\u001b[0m \u001b[43mspark\u001b[49m\u001b[38;5;241;43m.\u001b[39;49m\u001b[43mcreateDataFrame\u001b[49m\u001b[43m(\u001b[49m\u001b[43mdf_pd\u001b[49m\u001b[43m)\u001b[49m\u001b[38;5;241m.\u001b[39mschema\n",
      "File \u001b[0;32m/opt/spark-3.3.1-bin-hadoop3/python/pyspark/sql/session.py:891\u001b[0m, in \u001b[0;36mSparkSession.createDataFrame\u001b[0;34m(self, data, schema, samplingRatio, verifySchema)\u001b[0m\n\u001b[1;32m    888\u001b[0m     has_pandas \u001b[38;5;241m=\u001b[39m \u001b[38;5;28;01mFalse\u001b[39;00m\n\u001b[1;32m    889\u001b[0m \u001b[38;5;28;01mif\u001b[39;00m has_pandas \u001b[38;5;129;01mand\u001b[39;00m \u001b[38;5;28misinstance\u001b[39m(data, pandas\u001b[38;5;241m.\u001b[39mDataFrame):\n\u001b[1;32m    890\u001b[0m     \u001b[38;5;66;03m# Create a DataFrame from pandas DataFrame.\u001b[39;00m\n\u001b[0;32m--> 891\u001b[0m     \u001b[38;5;28;01mreturn\u001b[39;00m \u001b[38;5;28;43msuper\u001b[39;49m\u001b[43m(\u001b[49m\u001b[43mSparkSession\u001b[49m\u001b[43m,\u001b[49m\u001b[43m \u001b[49m\u001b[38;5;28;43mself\u001b[39;49m\u001b[43m)\u001b[49m\u001b[38;5;241;43m.\u001b[39;49m\u001b[43mcreateDataFrame\u001b[49m\u001b[43m(\u001b[49m\u001b[43m  \u001b[49m\u001b[38;5;66;43;03m# type: ignore[call-overload]\u001b[39;49;00m\n\u001b[1;32m    892\u001b[0m \u001b[43m        \u001b[49m\u001b[43mdata\u001b[49m\u001b[43m,\u001b[49m\u001b[43m \u001b[49m\u001b[43mschema\u001b[49m\u001b[43m,\u001b[49m\u001b[43m \u001b[49m\u001b[43msamplingRatio\u001b[49m\u001b[43m,\u001b[49m\u001b[43m \u001b[49m\u001b[43mverifySchema\u001b[49m\n\u001b[1;32m    893\u001b[0m \u001b[43m    \u001b[49m\u001b[43m)\u001b[49m\n\u001b[1;32m    894\u001b[0m \u001b[38;5;28;01mreturn\u001b[39;00m \u001b[38;5;28mself\u001b[39m\u001b[38;5;241m.\u001b[39m_create_dataframe(\n\u001b[1;32m    895\u001b[0m     data, schema, samplingRatio, verifySchema  \u001b[38;5;66;03m# type: ignore[arg-type]\u001b[39;00m\n\u001b[1;32m    896\u001b[0m )\n",
      "File \u001b[0;32m/opt/spark-3.3.1-bin-hadoop3/python/pyspark/sql/pandas/conversion.py:437\u001b[0m, in \u001b[0;36mSparkConversionMixin.createDataFrame\u001b[0;34m(self, data, schema, samplingRatio, verifySchema)\u001b[0m\n\u001b[1;32m    435\u001b[0m             \u001b[38;5;28;01mraise\u001b[39;00m\n\u001b[1;32m    436\u001b[0m converted_data \u001b[38;5;241m=\u001b[39m \u001b[38;5;28mself\u001b[39m\u001b[38;5;241m.\u001b[39m_convert_from_pandas(data, schema, timezone)\n\u001b[0;32m--> 437\u001b[0m \u001b[38;5;28;01mreturn\u001b[39;00m \u001b[38;5;28;43mself\u001b[39;49m\u001b[38;5;241;43m.\u001b[39;49m\u001b[43m_create_dataframe\u001b[49m\u001b[43m(\u001b[49m\u001b[43mconverted_data\u001b[49m\u001b[43m,\u001b[49m\u001b[43m \u001b[49m\u001b[43mschema\u001b[49m\u001b[43m,\u001b[49m\u001b[43m \u001b[49m\u001b[43msamplingRatio\u001b[49m\u001b[43m,\u001b[49m\u001b[43m \u001b[49m\u001b[43mverifySchema\u001b[49m\u001b[43m)\u001b[49m\n",
      "File \u001b[0;32m/opt/spark-3.3.1-bin-hadoop3/python/pyspark/sql/session.py:936\u001b[0m, in \u001b[0;36mSparkSession._create_dataframe\u001b[0;34m(self, data, schema, samplingRatio, verifySchema)\u001b[0m\n\u001b[1;32m    934\u001b[0m     rdd, struct \u001b[38;5;241m=\u001b[39m \u001b[38;5;28mself\u001b[39m\u001b[38;5;241m.\u001b[39m_createFromRDD(data\u001b[38;5;241m.\u001b[39mmap(prepare), schema, samplingRatio)\n\u001b[1;32m    935\u001b[0m \u001b[38;5;28;01melse\u001b[39;00m:\n\u001b[0;32m--> 936\u001b[0m     rdd, struct \u001b[38;5;241m=\u001b[39m \u001b[38;5;28;43mself\u001b[39;49m\u001b[38;5;241;43m.\u001b[39;49m\u001b[43m_createFromLocal\u001b[49m\u001b[43m(\u001b[49m\u001b[38;5;28;43mmap\u001b[39;49m\u001b[43m(\u001b[49m\u001b[43mprepare\u001b[49m\u001b[43m,\u001b[49m\u001b[43m \u001b[49m\u001b[43mdata\u001b[49m\u001b[43m)\u001b[49m\u001b[43m,\u001b[49m\u001b[43m \u001b[49m\u001b[43mschema\u001b[49m\u001b[43m)\u001b[49m\n\u001b[1;32m    937\u001b[0m \u001b[38;5;28;01massert\u001b[39;00m \u001b[38;5;28mself\u001b[39m\u001b[38;5;241m.\u001b[39m_jvm \u001b[38;5;129;01mis\u001b[39;00m \u001b[38;5;129;01mnot\u001b[39;00m \u001b[38;5;28;01mNone\u001b[39;00m\n\u001b[1;32m    938\u001b[0m jrdd \u001b[38;5;241m=\u001b[39m \u001b[38;5;28mself\u001b[39m\u001b[38;5;241m.\u001b[39m_jvm\u001b[38;5;241m.\u001b[39mSerDeUtil\u001b[38;5;241m.\u001b[39mtoJavaArray(rdd\u001b[38;5;241m.\u001b[39m_to_java_object_rdd())\n",
      "File \u001b[0;32m/opt/spark-3.3.1-bin-hadoop3/python/pyspark/sql/session.py:631\u001b[0m, in \u001b[0;36mSparkSession._createFromLocal\u001b[0;34m(self, data, schema)\u001b[0m\n\u001b[1;32m    628\u001b[0m     data \u001b[38;5;241m=\u001b[39m \u001b[38;5;28mlist\u001b[39m(data)\n\u001b[1;32m    630\u001b[0m \u001b[38;5;28;01mif\u001b[39;00m schema \u001b[38;5;129;01mis\u001b[39;00m \u001b[38;5;28;01mNone\u001b[39;00m \u001b[38;5;129;01mor\u001b[39;00m \u001b[38;5;28misinstance\u001b[39m(schema, (\u001b[38;5;28mlist\u001b[39m, \u001b[38;5;28mtuple\u001b[39m)):\n\u001b[0;32m--> 631\u001b[0m     struct \u001b[38;5;241m=\u001b[39m \u001b[38;5;28;43mself\u001b[39;49m\u001b[38;5;241;43m.\u001b[39;49m\u001b[43m_inferSchemaFromList\u001b[49m\u001b[43m(\u001b[49m\u001b[43mdata\u001b[49m\u001b[43m,\u001b[49m\u001b[43m \u001b[49m\u001b[43mnames\u001b[49m\u001b[38;5;241;43m=\u001b[39;49m\u001b[43mschema\u001b[49m\u001b[43m)\u001b[49m\n\u001b[1;32m    632\u001b[0m     converter \u001b[38;5;241m=\u001b[39m _create_converter(struct)\n\u001b[1;32m    633\u001b[0m     tupled_data: Iterable[Tuple] \u001b[38;5;241m=\u001b[39m \u001b[38;5;28mmap\u001b[39m(converter, data)\n",
      "File \u001b[0;32m/opt/spark-3.3.1-bin-hadoop3/python/pyspark/sql/session.py:517\u001b[0m, in \u001b[0;36mSparkSession._inferSchemaFromList\u001b[0;34m(self, data, names)\u001b[0m\n\u001b[1;32m    515\u001b[0m infer_dict_as_struct \u001b[38;5;241m=\u001b[39m \u001b[38;5;28mself\u001b[39m\u001b[38;5;241m.\u001b[39m_jconf\u001b[38;5;241m.\u001b[39minferDictAsStruct()\n\u001b[1;32m    516\u001b[0m prefer_timestamp_ntz \u001b[38;5;241m=\u001b[39m is_timestamp_ntz_preferred()\n\u001b[0;32m--> 517\u001b[0m schema \u001b[38;5;241m=\u001b[39m \u001b[43mreduce\u001b[49m\u001b[43m(\u001b[49m\n\u001b[1;32m    518\u001b[0m \u001b[43m    \u001b[49m\u001b[43m_merge_type\u001b[49m\u001b[43m,\u001b[49m\n\u001b[1;32m    519\u001b[0m \u001b[43m    \u001b[49m\u001b[43m(\u001b[49m\u001b[43m_infer_schema\u001b[49m\u001b[43m(\u001b[49m\u001b[43mrow\u001b[49m\u001b[43m,\u001b[49m\u001b[43m \u001b[49m\u001b[43mnames\u001b[49m\u001b[43m,\u001b[49m\u001b[43m \u001b[49m\u001b[43minfer_dict_as_struct\u001b[49m\u001b[43m,\u001b[49m\u001b[43m \u001b[49m\u001b[43mprefer_timestamp_ntz\u001b[49m\u001b[43m)\u001b[49m\u001b[43m \u001b[49m\u001b[38;5;28;43;01mfor\u001b[39;49;00m\u001b[43m \u001b[49m\u001b[43mrow\u001b[49m\u001b[43m \u001b[49m\u001b[38;5;129;43;01min\u001b[39;49;00m\u001b[43m \u001b[49m\u001b[43mdata\u001b[49m\u001b[43m)\u001b[49m\u001b[43m,\u001b[49m\n\u001b[1;32m    520\u001b[0m \u001b[43m\u001b[49m\u001b[43m)\u001b[49m\n\u001b[1;32m    521\u001b[0m \u001b[38;5;28;01mif\u001b[39;00m _has_nulltype(schema):\n\u001b[1;32m    522\u001b[0m     \u001b[38;5;28;01mraise\u001b[39;00m \u001b[38;5;167;01mValueError\u001b[39;00m(\u001b[38;5;124m\"\u001b[39m\u001b[38;5;124mSome of types cannot be determined after inferring\u001b[39m\u001b[38;5;124m\"\u001b[39m)\n",
      "File \u001b[0;32m/opt/spark-3.3.1-bin-hadoop3/python/pyspark/sql/types.py:1383\u001b[0m, in \u001b[0;36m_merge_type\u001b[0;34m(a, b, name)\u001b[0m\n\u001b[1;32m   1381\u001b[0m \u001b[38;5;28;01mif\u001b[39;00m \u001b[38;5;28misinstance\u001b[39m(a, StructType):\n\u001b[1;32m   1382\u001b[0m     nfs \u001b[38;5;241m=\u001b[39m \u001b[38;5;28mdict\u001b[39m((f\u001b[38;5;241m.\u001b[39mname, f\u001b[38;5;241m.\u001b[39mdataType) \u001b[38;5;28;01mfor\u001b[39;00m f \u001b[38;5;129;01min\u001b[39;00m cast(StructType, b)\u001b[38;5;241m.\u001b[39mfields)\n\u001b[0;32m-> 1383\u001b[0m     fields \u001b[38;5;241m=\u001b[39m [\n\u001b[1;32m   1384\u001b[0m         StructField(\n\u001b[1;32m   1385\u001b[0m             f\u001b[38;5;241m.\u001b[39mname, _merge_type(f\u001b[38;5;241m.\u001b[39mdataType, nfs\u001b[38;5;241m.\u001b[39mget(f\u001b[38;5;241m.\u001b[39mname, NullType()), name\u001b[38;5;241m=\u001b[39mnew_name(f\u001b[38;5;241m.\u001b[39mname))\n\u001b[1;32m   1386\u001b[0m         )\n\u001b[1;32m   1387\u001b[0m         \u001b[38;5;28;01mfor\u001b[39;00m f \u001b[38;5;129;01min\u001b[39;00m a\u001b[38;5;241m.\u001b[39mfields\n\u001b[1;32m   1388\u001b[0m     ]\n\u001b[1;32m   1389\u001b[0m     names \u001b[38;5;241m=\u001b[39m \u001b[38;5;28mset\u001b[39m([f\u001b[38;5;241m.\u001b[39mname \u001b[38;5;28;01mfor\u001b[39;00m f \u001b[38;5;129;01min\u001b[39;00m fields])\n\u001b[1;32m   1390\u001b[0m     \u001b[38;5;28;01mfor\u001b[39;00m n \u001b[38;5;129;01min\u001b[39;00m nfs:\n",
      "File \u001b[0;32m/opt/spark-3.3.1-bin-hadoop3/python/pyspark/sql/types.py:1385\u001b[0m, in \u001b[0;36m<listcomp>\u001b[0;34m(.0)\u001b[0m\n\u001b[1;32m   1381\u001b[0m \u001b[38;5;28;01mif\u001b[39;00m \u001b[38;5;28misinstance\u001b[39m(a, StructType):\n\u001b[1;32m   1382\u001b[0m     nfs \u001b[38;5;241m=\u001b[39m \u001b[38;5;28mdict\u001b[39m((f\u001b[38;5;241m.\u001b[39mname, f\u001b[38;5;241m.\u001b[39mdataType) \u001b[38;5;28;01mfor\u001b[39;00m f \u001b[38;5;129;01min\u001b[39;00m cast(StructType, b)\u001b[38;5;241m.\u001b[39mfields)\n\u001b[1;32m   1383\u001b[0m     fields \u001b[38;5;241m=\u001b[39m [\n\u001b[1;32m   1384\u001b[0m         StructField(\n\u001b[0;32m-> 1385\u001b[0m             f\u001b[38;5;241m.\u001b[39mname, \u001b[43m_merge_type\u001b[49m\u001b[43m(\u001b[49m\u001b[43mf\u001b[49m\u001b[38;5;241;43m.\u001b[39;49m\u001b[43mdataType\u001b[49m\u001b[43m,\u001b[49m\u001b[43m \u001b[49m\u001b[43mnfs\u001b[49m\u001b[38;5;241;43m.\u001b[39;49m\u001b[43mget\u001b[49m\u001b[43m(\u001b[49m\u001b[43mf\u001b[49m\u001b[38;5;241;43m.\u001b[39;49m\u001b[43mname\u001b[49m\u001b[43m,\u001b[49m\u001b[43m \u001b[49m\u001b[43mNullType\u001b[49m\u001b[43m(\u001b[49m\u001b[43m)\u001b[49m\u001b[43m)\u001b[49m\u001b[43m,\u001b[49m\u001b[43m \u001b[49m\u001b[43mname\u001b[49m\u001b[38;5;241;43m=\u001b[39;49m\u001b[43mnew_name\u001b[49m\u001b[43m(\u001b[49m\u001b[43mf\u001b[49m\u001b[38;5;241;43m.\u001b[39;49m\u001b[43mname\u001b[49m\u001b[43m)\u001b[49m\u001b[43m)\u001b[49m\n\u001b[1;32m   1386\u001b[0m         )\n\u001b[1;32m   1387\u001b[0m         \u001b[38;5;28;01mfor\u001b[39;00m f \u001b[38;5;129;01min\u001b[39;00m a\u001b[38;5;241m.\u001b[39mfields\n\u001b[1;32m   1388\u001b[0m     ]\n\u001b[1;32m   1389\u001b[0m     names \u001b[38;5;241m=\u001b[39m \u001b[38;5;28mset\u001b[39m([f\u001b[38;5;241m.\u001b[39mname \u001b[38;5;28;01mfor\u001b[39;00m f \u001b[38;5;129;01min\u001b[39;00m fields])\n\u001b[1;32m   1390\u001b[0m     \u001b[38;5;28;01mfor\u001b[39;00m n \u001b[38;5;129;01min\u001b[39;00m nfs:\n",
      "File \u001b[0;32m/opt/spark-3.3.1-bin-hadoop3/python/pyspark/sql/types.py:1378\u001b[0m, in \u001b[0;36m_merge_type\u001b[0;34m(a, b, name)\u001b[0m\n\u001b[1;32m   1375\u001b[0m     \u001b[38;5;28;01mreturn\u001b[39;00m b\n\u001b[1;32m   1376\u001b[0m \u001b[38;5;28;01melif\u001b[39;00m \u001b[38;5;28mtype\u001b[39m(a) \u001b[38;5;129;01mis\u001b[39;00m \u001b[38;5;129;01mnot\u001b[39;00m \u001b[38;5;28mtype\u001b[39m(b):\n\u001b[1;32m   1377\u001b[0m     \u001b[38;5;66;03m# TODO: type cast (such as int -> long)\u001b[39;00m\n\u001b[0;32m-> 1378\u001b[0m     \u001b[38;5;28;01mraise\u001b[39;00m \u001b[38;5;167;01mTypeError\u001b[39;00m(new_msg(\u001b[38;5;124m\"\u001b[39m\u001b[38;5;124mCan not merge type \u001b[39m\u001b[38;5;132;01m%s\u001b[39;00m\u001b[38;5;124m and \u001b[39m\u001b[38;5;132;01m%s\u001b[39;00m\u001b[38;5;124m\"\u001b[39m \u001b[38;5;241m%\u001b[39m (\u001b[38;5;28mtype\u001b[39m(a), \u001b[38;5;28mtype\u001b[39m(b))))\n\u001b[1;32m   1380\u001b[0m \u001b[38;5;66;03m# same type\u001b[39;00m\n\u001b[1;32m   1381\u001b[0m \u001b[38;5;28;01mif\u001b[39;00m \u001b[38;5;28misinstance\u001b[39m(a, StructType):\n",
      "\u001b[0;31mTypeError\u001b[0m: field Incident Category: Can not merge type <class 'pyspark.sql.types.StringType'> and <class 'pyspark.sql.types.DoubleType'>"
     ]
    }
   ],
   "source": [
    "spark.createDataFrame(df_pd).schema"
   ]
  },
  {
   "cell_type": "markdown",
   "id": "286e7c07",
   "metadata": {},
   "source": [
    "### modify schema output above and removed columns, based on sample output before, then add template below"
   ]
  },
  {
   "cell_type": "markdown",
   "id": "f53fe796",
   "metadata": {},
   "source": [
    "### Replace below with me:\n",
    "```\n",
    "df_csv = spark.read \\\n",
    "    .option(\"header\", \"true\") \\\n",
    "    .schema(schema_template) \\\n",
    "    .csv(f'{gcs_bkt}/raw/{city}/{fname}')\n",
    "```"
   ]
  },
  {
   "cell_type": "code",
   "execution_count": 61,
   "id": "377b7d66",
   "metadata": {},
   "outputs": [],
   "source": [
    "df_csv = spark.read \\\n",
    "    .option(\"header\", \"true\") \\\n",
    "    .schema(dict_city['schema_template']) \\\n",
    "    .csv(f'{gcs_bkt}/raw/{city}/' + 'Crime_Data_from_2010_to_2019.csv')"
   ]
  },
  {
   "cell_type": "code",
   "execution_count": 63,
   "id": "32861bf6",
   "metadata": {},
   "outputs": [
    {
     "data": {
      "text/plain": [
       "[Row(DR_NO=1307355, Date Rptd='02/20/2010 12:00:00 AM', DATE OCC='02/20/2010 12:00:00 AM', TIME OCC=1350, AREA =13, AREA NAME='Newton', Rpt Dist No=1385, Part 1-2=2, Crm Cd=900, Crm Cd Desc='VIOLATION OF COURT ORDER', Mocodes='0913 1814 2000', Vict Age=48, Vict Sex='M', Vict Descent='H', Premis Cd=501, Premis Desc='SINGLE FAMILY DWELLING', Weapon Used Cd=None, Weapon Desc=None, Status='AA', Status Desc='Adult Arrest', Crm Cd 1=900, Crm Cd 2=None, Crm Cd 3=None, Crm Cd 4=None, LOCATION='300 E  GAGE                         AV', Cross Street=None, LAT=33.98249816894531, LON=-118.26950073242188),\n",
       " Row(DR_NO=11401303, Date Rptd='09/13/2010 12:00:00 AM', DATE OCC='09/12/2010 12:00:00 AM', TIME OCC=45, AREA =14, AREA NAME='Pacific', Rpt Dist No=1485, Part 1-2=2, Crm Cd=740, Crm Cd Desc='VANDALISM - FELONY ($400 & OVER, ALL CHURCH VANDALISMS)', Mocodes='0329', Vict Age=0, Vict Sex='M', Vict Descent='W', Premis Cd=101, Premis Desc='STREET', Weapon Used Cd=None, Weapon Desc=None, Status='IC', Status Desc='Invest Cont', Crm Cd 1=740, Crm Cd 2=None, Crm Cd 3=None, Crm Cd 4=None, LOCATION='SEPULVEDA                    BL', Cross Street='MANCHESTER                   AV', LAT=33.95989990234375, LON=-118.39620208740234),\n",
       " Row(DR_NO=70309629, Date Rptd='08/09/2010 12:00:00 AM', DATE OCC='08/09/2010 12:00:00 AM', TIME OCC=1515, AREA =13, AREA NAME='Newton', Rpt Dist No=1324, Part 1-2=2, Crm Cd=946, Crm Cd Desc='OTHER MISCELLANEOUS CRIME', Mocodes='0344', Vict Age=0, Vict Sex='M', Vict Descent='H', Premis Cd=103, Premis Desc='ALLEY', Weapon Used Cd=None, Weapon Desc=None, Status='IC', Status Desc='Invest Cont', Crm Cd 1=946, Crm Cd 2=None, Crm Cd 3=None, Crm Cd 4=None, LOCATION='1300 E  21ST                         ST', Cross Street=None, LAT=34.02239990234375, LON=-118.25240325927734),\n",
       " Row(DR_NO=90631215, Date Rptd='01/05/2010 12:00:00 AM', DATE OCC='01/05/2010 12:00:00 AM', TIME OCC=150, AREA =6, AREA NAME='Hollywood', Rpt Dist No=646, Part 1-2=2, Crm Cd=900, Crm Cd Desc='VIOLATION OF COURT ORDER', Mocodes='1100 0400 1402', Vict Age=47, Vict Sex='F', Vict Descent='W', Premis Cd=101, Premis Desc='STREET', Weapon Used Cd=102, Weapon Desc='HAND GUN', Status='IC', Status Desc='Invest Cont', Crm Cd 1=900, Crm Cd 2=998, Crm Cd 3=None, Crm Cd 4=None, LOCATION='CAHUENGA                     BL', Cross Street='HOLLYWOOD                    BL', LAT=34.101600646972656, LON=-118.32949829101562),\n",
       " Row(DR_NO=100100501, Date Rptd='01/03/2010 12:00:00 AM', DATE OCC='01/02/2010 12:00:00 AM', TIME OCC=2100, AREA =1, AREA NAME='Central', Rpt Dist No=176, Part 1-2=1, Crm Cd=122, Crm Cd Desc='RAPE, ATTEMPTED', Mocodes='0400', Vict Age=47, Vict Sex='F', Vict Descent='H', Premis Cd=103, Premis Desc='ALLEY', Weapon Used Cd=400, Weapon Desc='STRONG-ARM (HANDS, FIST, FEET OR BODILY FORCE)', Status='IC', Status Desc='Invest Cont', Crm Cd 1=122, Crm Cd 2=None, Crm Cd 3=None, Crm Cd 4=None, LOCATION='8TH                          ST', Cross Street='SAN PEDRO                    ST', LAT=34.038700103759766, LON=-118.2488021850586),\n",
       " Row(DR_NO=100100506, Date Rptd='01/05/2010 12:00:00 AM', DATE OCC='01/04/2010 12:00:00 AM', TIME OCC=1650, AREA =1, AREA NAME='Central', Rpt Dist No=162, Part 1-2=1, Crm Cd=442, Crm Cd Desc='SHOPLIFTING - PETTY THEFT ($950 & UNDER)', Mocodes='0344 1402', Vict Age=23, Vict Sex='M', Vict Descent='B', Premis Cd=404, Premis Desc='DEPARTMENT STORE', Weapon Used Cd=None, Weapon Desc=None, Status='AA', Status Desc='Adult Arrest', Crm Cd 1=442, Crm Cd 2=None, Crm Cd 3=None, Crm Cd 4=None, LOCATION='700 W  7TH                          ST', Cross Street=None, LAT=34.04800033569336, LON=-118.25769805908203),\n",
       " Row(DR_NO=100100508, Date Rptd='01/08/2010 12:00:00 AM', DATE OCC='01/07/2010 12:00:00 AM', TIME OCC=2005, AREA =1, AREA NAME='Central', Rpt Dist No=182, Part 1-2=1, Crm Cd=330, Crm Cd Desc='BURGLARY FROM VEHICLE', Mocodes='0344', Vict Age=46, Vict Sex='M', Vict Descent='H', Premis Cd=101, Premis Desc='STREET', Weapon Used Cd=None, Weapon Desc=None, Status='IC', Status Desc='Invest Cont', Crm Cd 1=330, Crm Cd 2=None, Crm Cd 3=None, Crm Cd 4=None, LOCATION='PICO                         BL', Cross Street='GRAND                        AV', LAT=34.03889846801758, LON=-118.26429748535156),\n",
       " Row(DR_NO=100100509, Date Rptd='01/09/2010 12:00:00 AM', DATE OCC='01/08/2010 12:00:00 AM', TIME OCC=2100, AREA =1, AREA NAME='Central', Rpt Dist No=157, Part 1-2=1, Crm Cd=230, Crm Cd Desc='ASSAULT WITH DEADLY WEAPON, AGGRAVATED ASSAULT', Mocodes='0416', Vict Age=51, Vict Sex='M', Vict Descent='B', Premis Cd=710, Premis Desc='OTHER PREMISE', Weapon Used Cd=500, Weapon Desc='UNKNOWN WEAPON/OTHER WEAPON', Status='AA', Status Desc='Adult Arrest', Crm Cd 1=230, Crm Cd 2=None, Crm Cd 3=None, Crm Cd 4=None, LOCATION='500    CROCKER                      ST', Cross Street=None, LAT=34.04349899291992, LON=-118.2426986694336),\n",
       " Row(DR_NO=100100510, Date Rptd='01/09/2010 12:00:00 AM', DATE OCC='01/09/2010 12:00:00 AM', TIME OCC=230, AREA =1, AREA NAME='Central', Rpt Dist No=171, Part 1-2=1, Crm Cd=230, Crm Cd Desc='ASSAULT WITH DEADLY WEAPON, AGGRAVATED ASSAULT', Mocodes='0400 0416', Vict Age=30, Vict Sex='M', Vict Descent='H', Premis Cd=108, Premis Desc='PARKING LOT', Weapon Used Cd=400, Weapon Desc='STRONG-ARM (HANDS, FIST, FEET OR BODILY FORCE)', Status='IC', Status Desc='Invest Cont', Crm Cd 1=230, Crm Cd 2=None, Crm Cd 3=None, Crm Cd 4=None, LOCATION='800 W  OLYMPIC                      BL', Cross Street=None, LAT=34.04499816894531, LON=-118.26399993896484),\n",
       " Row(DR_NO=100100511, Date Rptd='01/09/2010 12:00:00 AM', DATE OCC='01/06/2010 12:00:00 AM', TIME OCC=2100, AREA =1, AREA NAME='Central', Rpt Dist No=132, Part 1-2=1, Crm Cd=341, Crm Cd Desc='THEFT-GRAND ($950.01 & OVER)EXCPT,GUNS,FOWL,LIVESTK,PROD', Mocodes='0344 1402', Vict Age=55, Vict Sex='M', Vict Descent='W', Premis Cd=710, Premis Desc='OTHER PREMISE', Weapon Used Cd=None, Weapon Desc=None, Status='IC', Status Desc='Invest Cont', Crm Cd 1=341, Crm Cd 2=998, Crm Cd 3=None, Crm Cd 4=None, LOCATION='200 S  OLIVE                        ST', Cross Street=None, LAT=34.05379867553711, LON=-118.2488021850586)]"
      ]
     },
     "execution_count": 63,
     "metadata": {},
     "output_type": "execute_result"
    }
   ],
   "source": [
    "df_csv.head(10)"
   ]
  },
  {
   "cell_type": "code",
   "execution_count": 59,
   "id": "ecec6c4b",
   "metadata": {},
   "outputs": [
    {
     "name": "stderr",
     "output_type": "stream",
     "text": [
      "                                                                                \r"
     ]
    },
    {
     "data": {
      "text/plain": [
       "2119797"
      ]
     },
     "execution_count": 59,
     "metadata": {},
     "output_type": "execute_result"
    }
   ],
   "source": [
    "df_csv.count()"
   ]
  },
  {
   "cell_type": "markdown",
   "id": "b9f1dd45",
   "metadata": {},
   "source": [
    "### check count here: original df\n",
    "Command:\n",
    "`df_csv.count()`\n",
    "\n",
    "Output:\n",
    "`485853`"
   ]
  },
  {
   "cell_type": "markdown",
   "id": "f1be2c77",
   "metadata": {},
   "source": [
    "### inspect data\n",
    "Command:\n",
    "```\n",
    "df_csv.head(10)\n",
    "```"
   ]
  },
  {
   "cell_type": "code",
   "execution_count": 65,
   "id": "63866a88",
   "metadata": {},
   "outputs": [],
   "source": [
    "def parse_dt(dt_str):\n",
    "    \"\"\"\n",
    "    parse datetime object from given date string of specific format\n",
    "    \"\"\"\n",
    "    return pdl.from_format(dt_str, dict_city['date_format'])\n",
    "\n",
    "parse_dt_udf = F.udf(parse_dt, returnType=types.TimestampType())"
   ]
  },
  {
   "cell_type": "code",
   "execution_count": 66,
   "id": "b57c558c",
   "metadata": {
    "scrolled": true
   },
   "outputs": [],
   "source": [
    "# parse datetime out of provided date column\n",
    "df_time = df_csv.withColumn('Timestamp', parse_dt_udf(F.col(dict_city['date_string_col'])))\n",
    "\n",
    "if dict_city['with_year_col']:\n",
    "    years_rows = df_time \\\n",
    "        .select('Year')\n",
    "else:\n",
    "    years_rows = df_time \\\n",
    "        .select(F.year('Timestamp').alias('Year'))"
   ]
  },
  {
   "cell_type": "code",
   "execution_count": 67,
   "id": "51b27465",
   "metadata": {},
   "outputs": [
    {
     "name": "stderr",
     "output_type": "stream",
     "text": [
      "                                                                                \r"
     ]
    },
    {
     "data": {
      "text/plain": [
       "[Row(DR_NO=1307355, Date Rptd='02/20/2010 12:00:00 AM', DATE OCC='02/20/2010 12:00:00 AM', TIME OCC=1350, AREA =13, AREA NAME='Newton', Rpt Dist No=1385, Part 1-2=2, Crm Cd=900, Crm Cd Desc='VIOLATION OF COURT ORDER', Mocodes='0913 1814 2000', Vict Age=48, Vict Sex='M', Vict Descent='H', Premis Cd=501, Premis Desc='SINGLE FAMILY DWELLING', Weapon Used Cd=None, Weapon Desc=None, Status='AA', Status Desc='Adult Arrest', Crm Cd 1=900, Crm Cd 2=None, Crm Cd 3=None, Crm Cd 4=None, LOCATION='300 E  GAGE                         AV', Cross Street=None, LAT=33.98249816894531, LON=-118.26950073242188, Timestamp=datetime.datetime(2010, 2, 20, 0, 0)),\n",
       " Row(DR_NO=11401303, Date Rptd='09/13/2010 12:00:00 AM', DATE OCC='09/12/2010 12:00:00 AM', TIME OCC=45, AREA =14, AREA NAME='Pacific', Rpt Dist No=1485, Part 1-2=2, Crm Cd=740, Crm Cd Desc='VANDALISM - FELONY ($400 & OVER, ALL CHURCH VANDALISMS)', Mocodes='0329', Vict Age=0, Vict Sex='M', Vict Descent='W', Premis Cd=101, Premis Desc='STREET', Weapon Used Cd=None, Weapon Desc=None, Status='IC', Status Desc='Invest Cont', Crm Cd 1=740, Crm Cd 2=None, Crm Cd 3=None, Crm Cd 4=None, LOCATION='SEPULVEDA                    BL', Cross Street='MANCHESTER                   AV', LAT=33.95989990234375, LON=-118.39620208740234, Timestamp=datetime.datetime(2010, 9, 12, 0, 0)),\n",
       " Row(DR_NO=70309629, Date Rptd='08/09/2010 12:00:00 AM', DATE OCC='08/09/2010 12:00:00 AM', TIME OCC=1515, AREA =13, AREA NAME='Newton', Rpt Dist No=1324, Part 1-2=2, Crm Cd=946, Crm Cd Desc='OTHER MISCELLANEOUS CRIME', Mocodes='0344', Vict Age=0, Vict Sex='M', Vict Descent='H', Premis Cd=103, Premis Desc='ALLEY', Weapon Used Cd=None, Weapon Desc=None, Status='IC', Status Desc='Invest Cont', Crm Cd 1=946, Crm Cd 2=None, Crm Cd 3=None, Crm Cd 4=None, LOCATION='1300 E  21ST                         ST', Cross Street=None, LAT=34.02239990234375, LON=-118.25240325927734, Timestamp=datetime.datetime(2010, 8, 9, 0, 0)),\n",
       " Row(DR_NO=90631215, Date Rptd='01/05/2010 12:00:00 AM', DATE OCC='01/05/2010 12:00:00 AM', TIME OCC=150, AREA =6, AREA NAME='Hollywood', Rpt Dist No=646, Part 1-2=2, Crm Cd=900, Crm Cd Desc='VIOLATION OF COURT ORDER', Mocodes='1100 0400 1402', Vict Age=47, Vict Sex='F', Vict Descent='W', Premis Cd=101, Premis Desc='STREET', Weapon Used Cd=102, Weapon Desc='HAND GUN', Status='IC', Status Desc='Invest Cont', Crm Cd 1=900, Crm Cd 2=998, Crm Cd 3=None, Crm Cd 4=None, LOCATION='CAHUENGA                     BL', Cross Street='HOLLYWOOD                    BL', LAT=34.101600646972656, LON=-118.32949829101562, Timestamp=datetime.datetime(2010, 1, 5, 0, 0)),\n",
       " Row(DR_NO=100100501, Date Rptd='01/03/2010 12:00:00 AM', DATE OCC='01/02/2010 12:00:00 AM', TIME OCC=2100, AREA =1, AREA NAME='Central', Rpt Dist No=176, Part 1-2=1, Crm Cd=122, Crm Cd Desc='RAPE, ATTEMPTED', Mocodes='0400', Vict Age=47, Vict Sex='F', Vict Descent='H', Premis Cd=103, Premis Desc='ALLEY', Weapon Used Cd=400, Weapon Desc='STRONG-ARM (HANDS, FIST, FEET OR BODILY FORCE)', Status='IC', Status Desc='Invest Cont', Crm Cd 1=122, Crm Cd 2=None, Crm Cd 3=None, Crm Cd 4=None, LOCATION='8TH                          ST', Cross Street='SAN PEDRO                    ST', LAT=34.038700103759766, LON=-118.2488021850586, Timestamp=datetime.datetime(2010, 1, 2, 0, 0)),\n",
       " Row(DR_NO=100100506, Date Rptd='01/05/2010 12:00:00 AM', DATE OCC='01/04/2010 12:00:00 AM', TIME OCC=1650, AREA =1, AREA NAME='Central', Rpt Dist No=162, Part 1-2=1, Crm Cd=442, Crm Cd Desc='SHOPLIFTING - PETTY THEFT ($950 & UNDER)', Mocodes='0344 1402', Vict Age=23, Vict Sex='M', Vict Descent='B', Premis Cd=404, Premis Desc='DEPARTMENT STORE', Weapon Used Cd=None, Weapon Desc=None, Status='AA', Status Desc='Adult Arrest', Crm Cd 1=442, Crm Cd 2=None, Crm Cd 3=None, Crm Cd 4=None, LOCATION='700 W  7TH                          ST', Cross Street=None, LAT=34.04800033569336, LON=-118.25769805908203, Timestamp=datetime.datetime(2010, 1, 4, 0, 0)),\n",
       " Row(DR_NO=100100508, Date Rptd='01/08/2010 12:00:00 AM', DATE OCC='01/07/2010 12:00:00 AM', TIME OCC=2005, AREA =1, AREA NAME='Central', Rpt Dist No=182, Part 1-2=1, Crm Cd=330, Crm Cd Desc='BURGLARY FROM VEHICLE', Mocodes='0344', Vict Age=46, Vict Sex='M', Vict Descent='H', Premis Cd=101, Premis Desc='STREET', Weapon Used Cd=None, Weapon Desc=None, Status='IC', Status Desc='Invest Cont', Crm Cd 1=330, Crm Cd 2=None, Crm Cd 3=None, Crm Cd 4=None, LOCATION='PICO                         BL', Cross Street='GRAND                        AV', LAT=34.03889846801758, LON=-118.26429748535156, Timestamp=datetime.datetime(2010, 1, 7, 0, 0)),\n",
       " Row(DR_NO=100100509, Date Rptd='01/09/2010 12:00:00 AM', DATE OCC='01/08/2010 12:00:00 AM', TIME OCC=2100, AREA =1, AREA NAME='Central', Rpt Dist No=157, Part 1-2=1, Crm Cd=230, Crm Cd Desc='ASSAULT WITH DEADLY WEAPON, AGGRAVATED ASSAULT', Mocodes='0416', Vict Age=51, Vict Sex='M', Vict Descent='B', Premis Cd=710, Premis Desc='OTHER PREMISE', Weapon Used Cd=500, Weapon Desc='UNKNOWN WEAPON/OTHER WEAPON', Status='AA', Status Desc='Adult Arrest', Crm Cd 1=230, Crm Cd 2=None, Crm Cd 3=None, Crm Cd 4=None, LOCATION='500    CROCKER                      ST', Cross Street=None, LAT=34.04349899291992, LON=-118.2426986694336, Timestamp=datetime.datetime(2010, 1, 8, 0, 0)),\n",
       " Row(DR_NO=100100510, Date Rptd='01/09/2010 12:00:00 AM', DATE OCC='01/09/2010 12:00:00 AM', TIME OCC=230, AREA =1, AREA NAME='Central', Rpt Dist No=171, Part 1-2=1, Crm Cd=230, Crm Cd Desc='ASSAULT WITH DEADLY WEAPON, AGGRAVATED ASSAULT', Mocodes='0400 0416', Vict Age=30, Vict Sex='M', Vict Descent='H', Premis Cd=108, Premis Desc='PARKING LOT', Weapon Used Cd=400, Weapon Desc='STRONG-ARM (HANDS, FIST, FEET OR BODILY FORCE)', Status='IC', Status Desc='Invest Cont', Crm Cd 1=230, Crm Cd 2=None, Crm Cd 3=None, Crm Cd 4=None, LOCATION='800 W  OLYMPIC                      BL', Cross Street=None, LAT=34.04499816894531, LON=-118.26399993896484, Timestamp=datetime.datetime(2010, 1, 9, 0, 0)),\n",
       " Row(DR_NO=100100511, Date Rptd='01/09/2010 12:00:00 AM', DATE OCC='01/06/2010 12:00:00 AM', TIME OCC=2100, AREA =1, AREA NAME='Central', Rpt Dist No=132, Part 1-2=1, Crm Cd=341, Crm Cd Desc='THEFT-GRAND ($950.01 & OVER)EXCPT,GUNS,FOWL,LIVESTK,PROD', Mocodes='0344 1402', Vict Age=55, Vict Sex='M', Vict Descent='W', Premis Cd=710, Premis Desc='OTHER PREMISE', Weapon Used Cd=None, Weapon Desc=None, Status='IC', Status Desc='Invest Cont', Crm Cd 1=341, Crm Cd 2=998, Crm Cd 3=None, Crm Cd 4=None, LOCATION='200 S  OLIVE                        ST', Cross Street=None, LAT=34.05379867553711, LON=-118.2488021850586, Timestamp=datetime.datetime(2010, 1, 6, 0, 0))]"
      ]
     },
     "execution_count": 67,
     "metadata": {},
     "output_type": "execute_result"
    }
   ],
   "source": [
    "df_time.head(10)"
   ]
  },
  {
   "cell_type": "code",
   "execution_count": 68,
   "id": "b8224ea1",
   "metadata": {
    "scrolled": true
   },
   "outputs": [
    {
     "name": "stderr",
     "output_type": "stream",
     "text": [
      "                                                                                \r"
     ]
    }
   ],
   "source": [
    "years_rows = years_rows \\\n",
    "    .dropna() \\\n",
    "    .dropDuplicates(['Year']) \\\n",
    "    .collect()\n",
    "\n",
    "years = [row.Year for row in years_rows]\n",
    "years.sort()"
   ]
  },
  {
   "cell_type": "code",
   "execution_count": 69,
   "id": "a185aecd",
   "metadata": {},
   "outputs": [
    {
     "data": {
      "text/plain": [
       "[2010, 2011, 2012, 2013, 2014, 2015, 2016, 2017, 2018, 2019]"
      ]
     },
     "execution_count": 69,
     "metadata": {},
     "output_type": "execute_result"
    }
   ],
   "source": [
    "years"
   ]
  },
  {
   "cell_type": "markdown",
   "id": "685264d3",
   "metadata": {},
   "source": [
    "### check parsed years\n",
    "Command:\n",
    "`print(years)`\n",
    "\n",
    "Output:\n",
    "`[2001]`"
   ]
  },
  {
   "cell_type": "code",
   "execution_count": 70,
   "id": "b51b19c4",
   "metadata": {},
   "outputs": [
    {
     "name": "stderr",
     "output_type": "stream",
     "text": [
      "                                                                                \r"
     ]
    },
    {
     "data": {
      "text/plain": [
       "183674"
      ]
     },
     "execution_count": 70,
     "metadata": {},
     "output_type": "execute_result"
    }
   ],
   "source": [
    "df_test = df_time \\\n",
    "    .repartition(24) \\\n",
    "    .filter(F.month('Timestamp') == 1)\n",
    "\n",
    "df_test.count()"
   ]
  },
  {
   "cell_type": "markdown",
   "id": "ef055959",
   "metadata": {},
   "source": [
    "### check count Jan: csv df, strdate col\n",
    "Command:\n",
    "```\n",
    "df_test = df_time \\\n",
    "    .filter(F.month('Timestamp') == 1)\n",
    "\n",
    "df_test.count()\n",
    "```\n",
    "chicago: `38114` san_francisco: `189723` los_angeles: `183674` austin: `3098`"
   ]
  },
  {
   "cell_type": "markdown",
   "id": "411d81a0",
   "metadata": {
    "scrolled": true
   },
   "source": [
    "### check date Jan1: csv df, strdate col\n",
    "Command:\n",
    "```\n",
    "df_test \\\n",
    "    .filter(F.dayofmonth('Timestamp') == 1) \\\n",
    "    .count()\n",
    "```\n",
    "chicago: `1825` san_francisco: ` ` los_angeles: ` ` austin: `97`"
   ]
  },
  {
   "cell_type": "code",
   "execution_count": 76,
   "id": "013e2c3c",
   "metadata": {
    "scrolled": true
   },
   "outputs": [
    {
     "name": "stderr",
     "output_type": "stream",
     "text": [
      "ERROR:root:KeyboardInterrupt while sending command.                 (0 + 2) / 4]\n",
      "Traceback (most recent call last):\n",
      "  File \"/opt/spark-3.3.0-bin-hadoop3/python/lib/py4j-0.10.9.5-src.zip/py4j/java_gateway.py\", line 1038, in send_command\n",
      "    response = connection.send_command(command)\n",
      "  File \"/opt/spark-3.3.0-bin-hadoop3/python/lib/py4j-0.10.9.5-src.zip/py4j/clientserver.py\", line 511, in send_command\n",
      "    answer = smart_decode(self.stream.readline()[:-1])\n",
      "  File \"/opt/conda/lib/python3.9/socket.py\", line 704, in readinto\n",
      "    return self._sock.recv_into(b)\n",
      "KeyboardInterrupt\n"
     ]
    },
    {
     "ename": "KeyboardInterrupt",
     "evalue": "",
     "output_type": "error",
     "traceback": [
      "\u001b[0;31m---------------------------------------------------------------------------\u001b[0m",
      "\u001b[0;31mKeyboardInterrupt\u001b[0m                         Traceback (most recent call last)",
      "Input \u001b[0;32mIn [76]\u001b[0m, in \u001b[0;36m<cell line: 4>\u001b[0;34m()\u001b[0m\n\u001b[1;32m     12\u001b[0m \u001b[38;5;28;01melif\u001b[39;00m city \u001b[38;5;241m==\u001b[39m f_cities[\u001b[38;5;241m2\u001b[39m]:\n\u001b[1;32m     13\u001b[0m     df_month \u001b[38;5;241m=\u001b[39m df_month\u001b[38;5;241m.\u001b[39mrepartition(\u001b[38;5;241m24\u001b[39m)\n\u001b[0;32m---> 14\u001b[0m \u001b[43mdf_month\u001b[49m\u001b[43m \u001b[49m\u001b[43m\\\u001b[49m\n\u001b[1;32m     15\u001b[0m \u001b[43m    \u001b[49m\u001b[38;5;241;43m.\u001b[39;49m\u001b[43mdrop\u001b[49m\u001b[43m(\u001b[49m\u001b[38;5;124;43m'\u001b[39;49m\u001b[38;5;124;43mTimestamp\u001b[39;49m\u001b[38;5;124;43m'\u001b[39;49m\u001b[43m,\u001b[49m\u001b[43m \u001b[49m\u001b[43mdt_str_col\u001b[49m\u001b[43m[\u001b[49m\u001b[43mcity\u001b[49m\u001b[43m]\u001b[49m\u001b[43m)\u001b[49m\u001b[43m \u001b[49m\u001b[43m\\\u001b[49m\n\u001b[1;32m     16\u001b[0m \u001b[43m    \u001b[49m\u001b[38;5;241;43m.\u001b[39;49m\u001b[43mwrite\u001b[49m\u001b[38;5;241;43m.\u001b[39;49m\u001b[43mparquet\u001b[49m\u001b[43m(\u001b[49m\u001b[38;5;124;43mf\u001b[39;49m\u001b[38;5;124;43m'\u001b[39;49m\u001b[38;5;132;43;01m{\u001b[39;49;00m\u001b[43mgcs_bkt\u001b[49m\u001b[38;5;132;43;01m}\u001b[39;49;00m\u001b[38;5;124;43m/pq/\u001b[39;49m\u001b[38;5;132;43;01m{\u001b[39;49;00m\u001b[43mcity\u001b[49m\u001b[38;5;132;43;01m}\u001b[39;49;00m\u001b[38;5;124;43m/\u001b[39;49m\u001b[38;5;132;43;01m{\u001b[39;49;00m\u001b[43myear\u001b[49m\u001b[38;5;132;43;01m}\u001b[39;49;00m\u001b[38;5;124;43m/\u001b[39;49m\u001b[38;5;132;43;01m{\u001b[39;49;00m\u001b[43mmonth\u001b[49m\u001b[38;5;132;43;01m}\u001b[39;49;00m\u001b[38;5;124;43m'\u001b[39;49m\u001b[43m,\u001b[49m\u001b[43m \u001b[49m\u001b[43mmode\u001b[49m\u001b[38;5;241;43m=\u001b[39;49m\u001b[38;5;124;43m'\u001b[39;49m\u001b[38;5;124;43moverwrite\u001b[39;49m\u001b[38;5;124;43m'\u001b[39;49m\u001b[43m)\u001b[49m\n",
      "File \u001b[0;32m/opt/spark-3.3.0-bin-hadoop3/python/pyspark/sql/readwriter.py:1140\u001b[0m, in \u001b[0;36mDataFrameWriter.parquet\u001b[0;34m(self, path, mode, partitionBy, compression)\u001b[0m\n\u001b[1;32m   1138\u001b[0m     \u001b[38;5;28mself\u001b[39m\u001b[38;5;241m.\u001b[39mpartitionBy(partitionBy)\n\u001b[1;32m   1139\u001b[0m \u001b[38;5;28mself\u001b[39m\u001b[38;5;241m.\u001b[39m_set_opts(compression\u001b[38;5;241m=\u001b[39mcompression)\n\u001b[0;32m-> 1140\u001b[0m \u001b[38;5;28;43mself\u001b[39;49m\u001b[38;5;241;43m.\u001b[39;49m\u001b[43m_jwrite\u001b[49m\u001b[38;5;241;43m.\u001b[39;49m\u001b[43mparquet\u001b[49m\u001b[43m(\u001b[49m\u001b[43mpath\u001b[49m\u001b[43m)\u001b[49m\n",
      "File \u001b[0;32m/opt/spark-3.3.0-bin-hadoop3/python/lib/py4j-0.10.9.5-src.zip/py4j/java_gateway.py:1320\u001b[0m, in \u001b[0;36mJavaMember.__call__\u001b[0;34m(self, *args)\u001b[0m\n\u001b[1;32m   1313\u001b[0m args_command, temp_args \u001b[38;5;241m=\u001b[39m \u001b[38;5;28mself\u001b[39m\u001b[38;5;241m.\u001b[39m_build_args(\u001b[38;5;241m*\u001b[39margs)\n\u001b[1;32m   1315\u001b[0m command \u001b[38;5;241m=\u001b[39m proto\u001b[38;5;241m.\u001b[39mCALL_COMMAND_NAME \u001b[38;5;241m+\u001b[39m\\\n\u001b[1;32m   1316\u001b[0m     \u001b[38;5;28mself\u001b[39m\u001b[38;5;241m.\u001b[39mcommand_header \u001b[38;5;241m+\u001b[39m\\\n\u001b[1;32m   1317\u001b[0m     args_command \u001b[38;5;241m+\u001b[39m\\\n\u001b[1;32m   1318\u001b[0m     proto\u001b[38;5;241m.\u001b[39mEND_COMMAND_PART\n\u001b[0;32m-> 1320\u001b[0m answer \u001b[38;5;241m=\u001b[39m \u001b[38;5;28;43mself\u001b[39;49m\u001b[38;5;241;43m.\u001b[39;49m\u001b[43mgateway_client\u001b[49m\u001b[38;5;241;43m.\u001b[39;49m\u001b[43msend_command\u001b[49m\u001b[43m(\u001b[49m\u001b[43mcommand\u001b[49m\u001b[43m)\u001b[49m\n\u001b[1;32m   1321\u001b[0m return_value \u001b[38;5;241m=\u001b[39m get_return_value(\n\u001b[1;32m   1322\u001b[0m     answer, \u001b[38;5;28mself\u001b[39m\u001b[38;5;241m.\u001b[39mgateway_client, \u001b[38;5;28mself\u001b[39m\u001b[38;5;241m.\u001b[39mtarget_id, \u001b[38;5;28mself\u001b[39m\u001b[38;5;241m.\u001b[39mname)\n\u001b[1;32m   1324\u001b[0m \u001b[38;5;28;01mfor\u001b[39;00m temp_arg \u001b[38;5;129;01min\u001b[39;00m temp_args:\n",
      "File \u001b[0;32m/opt/spark-3.3.0-bin-hadoop3/python/lib/py4j-0.10.9.5-src.zip/py4j/java_gateway.py:1038\u001b[0m, in \u001b[0;36mGatewayClient.send_command\u001b[0;34m(self, command, retry, binary)\u001b[0m\n\u001b[1;32m   1036\u001b[0m connection \u001b[38;5;241m=\u001b[39m \u001b[38;5;28mself\u001b[39m\u001b[38;5;241m.\u001b[39m_get_connection()\n\u001b[1;32m   1037\u001b[0m \u001b[38;5;28;01mtry\u001b[39;00m:\n\u001b[0;32m-> 1038\u001b[0m     response \u001b[38;5;241m=\u001b[39m \u001b[43mconnection\u001b[49m\u001b[38;5;241;43m.\u001b[39;49m\u001b[43msend_command\u001b[49m\u001b[43m(\u001b[49m\u001b[43mcommand\u001b[49m\u001b[43m)\u001b[49m\n\u001b[1;32m   1039\u001b[0m     \u001b[38;5;28;01mif\u001b[39;00m binary:\n\u001b[1;32m   1040\u001b[0m         \u001b[38;5;28;01mreturn\u001b[39;00m response, \u001b[38;5;28mself\u001b[39m\u001b[38;5;241m.\u001b[39m_create_connection_guard(connection)\n",
      "File \u001b[0;32m/opt/spark-3.3.0-bin-hadoop3/python/lib/py4j-0.10.9.5-src.zip/py4j/clientserver.py:511\u001b[0m, in \u001b[0;36mClientServerConnection.send_command\u001b[0;34m(self, command)\u001b[0m\n\u001b[1;32m    509\u001b[0m \u001b[38;5;28;01mtry\u001b[39;00m:\n\u001b[1;32m    510\u001b[0m     \u001b[38;5;28;01mwhile\u001b[39;00m \u001b[38;5;28;01mTrue\u001b[39;00m:\n\u001b[0;32m--> 511\u001b[0m         answer \u001b[38;5;241m=\u001b[39m smart_decode(\u001b[38;5;28;43mself\u001b[39;49m\u001b[38;5;241;43m.\u001b[39;49m\u001b[43mstream\u001b[49m\u001b[38;5;241;43m.\u001b[39;49m\u001b[43mreadline\u001b[49m\u001b[43m(\u001b[49m\u001b[43m)\u001b[49m[:\u001b[38;5;241m-\u001b[39m\u001b[38;5;241m1\u001b[39m])\n\u001b[1;32m    512\u001b[0m         logger\u001b[38;5;241m.\u001b[39mdebug(\u001b[38;5;124m\"\u001b[39m\u001b[38;5;124mAnswer received: \u001b[39m\u001b[38;5;132;01m{0}\u001b[39;00m\u001b[38;5;124m\"\u001b[39m\u001b[38;5;241m.\u001b[39mformat(answer))\n\u001b[1;32m    513\u001b[0m         \u001b[38;5;66;03m# Happens when a the other end is dead. There might be an empty\u001b[39;00m\n\u001b[1;32m    514\u001b[0m         \u001b[38;5;66;03m# answer before the socket raises an error.\u001b[39;00m\n",
      "File \u001b[0;32m/opt/conda/lib/python3.9/socket.py:704\u001b[0m, in \u001b[0;36mSocketIO.readinto\u001b[0;34m(self, b)\u001b[0m\n\u001b[1;32m    702\u001b[0m \u001b[38;5;28;01mwhile\u001b[39;00m \u001b[38;5;28;01mTrue\u001b[39;00m:\n\u001b[1;32m    703\u001b[0m     \u001b[38;5;28;01mtry\u001b[39;00m:\n\u001b[0;32m--> 704\u001b[0m         \u001b[38;5;28;01mreturn\u001b[39;00m \u001b[38;5;28;43mself\u001b[39;49m\u001b[38;5;241;43m.\u001b[39;49m\u001b[43m_sock\u001b[49m\u001b[38;5;241;43m.\u001b[39;49m\u001b[43mrecv_into\u001b[49m\u001b[43m(\u001b[49m\u001b[43mb\u001b[49m\u001b[43m)\u001b[49m\n\u001b[1;32m    705\u001b[0m     \u001b[38;5;28;01mexcept\u001b[39;00m timeout:\n\u001b[1;32m    706\u001b[0m         \u001b[38;5;28mself\u001b[39m\u001b[38;5;241m.\u001b[39m_timeout_occurred \u001b[38;5;241m=\u001b[39m \u001b[38;5;28;01mTrue\u001b[39;00m\n",
      "\u001b[0;31mKeyboardInterrupt\u001b[0m: "
     ]
    }
   ],
   "source": [
    "o_cols = df_time.columns\n",
    "cols = [col.lower().replace(' ', '_') for col in o_cols]\n",
    "\n",
    "for year in years:\n",
    "    df = df_time.filter(F.year('Timestamp') == year)\n",
    "    for month in range(1, 13):\n",
    "        df_month = df.filter(F.month('Timestamp') == month)\n",
    "        for i in range(len(o_cols)):\n",
    "            df_month = df_month.withColumnRenamed(o_cols[i], cols[i])\n",
    "        if dict_city['partitions'] > 1:\n",
    "            df_month = df_month.repartition(dict_city['partitions'])\n",
    "        df_month \\\n",
    "            .drop('Timestamp', dt_str_col[city]) \\\n",
    "            .write.parquet(f'{gcs_bkt}/pq/{city}/{year}/{month}', mode='overwrite')"
   ]
  },
  {
   "cell_type": "code",
   "execution_count": 80,
   "id": "a4af3715",
   "metadata": {},
   "outputs": [],
   "source": [
    "sc.stop()"
   ]
  },
  {
   "cell_type": "code",
   "execution_count": null,
   "id": "99affc65",
   "metadata": {},
   "outputs": [],
   "source": []
  }
 ],
 "metadata": {
  "kernelspec": {
   "display_name": "Python 3 (ipykernel)",
   "language": "python",
   "name": "python3"
  },
  "language_info": {
   "codemirror_mode": {
    "name": "ipython",
    "version": 3
   },
   "file_extension": ".py",
   "mimetype": "text/x-python",
   "name": "python",
   "nbconvert_exporter": "python",
   "pygments_lexer": "ipython3",
   "version": "3.9.12"
  }
 },
 "nbformat": 4,
 "nbformat_minor": 5
}
