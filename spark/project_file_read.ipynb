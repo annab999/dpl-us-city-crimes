{
 "cells": [
  {
   "cell_type": "code",
   "execution_count": 1,
   "id": "707d2ca1",
   "metadata": {},
   "outputs": [],
   "source": [
    "from pyspark.sql import SparkSession\n",
    "from pyspark.conf import SparkConf\n",
    "from pyspark.context import SparkContext"
   ]
  },
  {
   "cell_type": "code",
   "execution_count": 2,
   "id": "96f09ea1",
   "metadata": {},
   "outputs": [],
   "source": [
    "from pyspark.sql import types\n",
    "from pyspark.sql import functions as F"
   ]
  },
  {
   "cell_type": "code",
   "execution_count": 3,
   "id": "a2431242",
   "metadata": {},
   "outputs": [],
   "source": [
    "import os\n",
    "import pandas as pd\n",
    "import pendulum as pdl"
   ]
  },
  {
   "cell_type": "code",
   "execution_count": null,
   "id": "49438451",
   "metadata": {},
   "outputs": [],
   "source": [
    "from city_vars import dict_cities"
   ]
  },
  {
   "cell_type": "markdown",
   "id": "86e89877",
   "metadata": {},
   "source": [
    "# inputs\n",
    "- city\n",
    "- fname"
   ]
  },
  {
   "cell_type": "code",
   "execution_count": 5,
   "id": "db295039",
   "metadata": {},
   "outputs": [],
   "source": [
    "city = 'los_angeles'\n",
    "fname = ''"
   ]
  },
  {
   "cell_type": "code",
   "execution_count": 6,
   "id": "d435ec37",
   "metadata": {},
   "outputs": [],
   "source": [
    "# for city-specific data\n",
    "cities = ['Chicago', 'San Francisco', 'Los Angeles', 'Austin']\n",
    "f_cities = [c.replace(' ', '_').lower() for c in cities]\n",
    "\n",
    "dict_city = dict_cities[city]"
   ]
  },
  {
   "cell_type": "code",
   "execution_count": 7,
   "id": "0f8c447b",
   "metadata": {},
   "outputs": [],
   "source": [
    "gcs_bkt = os.getenv('GCP_GCS_BUCKET')"
   ]
  },
  {
   "cell_type": "code",
   "execution_count": 8,
   "id": "5b3026f9",
   "metadata": {},
   "outputs": [],
   "source": [
    "jar_path = os.getenv('JAR_FILE_LOC')\n",
    "creds_path = os.getenv('GOOGLE_APPLICATION_CREDENTIALS')\n",
    "\n",
    "conf = SparkConf() \\\n",
    "    .setMaster('local[*]') \\\n",
    "    .setAppName('proj_file_read') \\\n",
    "    .set(\"spark.jars\", jar_path)"
   ]
  },
  {
   "cell_type": "markdown",
   "id": "d7b43a2e",
   "metadata": {},
   "source": [
    "### Only if an existing one already runs:\n",
    "`sc.stop()`"
   ]
  },
  {
   "cell_type": "code",
   "execution_count": 9,
   "id": "624e4674",
   "metadata": {},
   "outputs": [
    {
     "name": "stdout",
     "output_type": "stream",
     "text": [
      "22/10/27 14:12:16 WARN NativeCodeLoader: Unable to load native-hadoop library for your platform... using builtin-java classes where applicable\n"
     ]
    },
    {
     "name": "stderr",
     "output_type": "stream",
     "text": [
      "Setting default log level to \"WARN\".\n",
      "To adjust logging level use sc.setLogLevel(newLevel). For SparkR, use setLogLevel(newLevel).\n"
     ]
    }
   ],
   "source": [
    "sc = SparkContext(conf=conf)"
   ]
  },
  {
   "cell_type": "code",
   "execution_count": 10,
   "id": "44a3fb16",
   "metadata": {},
   "outputs": [],
   "source": [
    "hconf = sc._jsc.hadoopConfiguration()\n",
    "\n",
    "hconf.set(\"fs.AbstractFileSystem.gs.impl\", \"com.google.cloud.hadoop.fs.gcs.GoogleHadoopFS\")\n",
    "hconf.set(\"fs.gs.impl\", \"com.google.cloud.hadoop.fs.gcs.GoogleHadoopFileSystem\")\n",
    "hconf.set(\"fs.gs.auth.service.account.json.keyfile\", creds_path)\n",
    "hconf.set(\"fs.gs.auth.service.account.enable\", \"true\")"
   ]
  },
  {
   "cell_type": "code",
   "execution_count": 11,
   "id": "50e9c26e",
   "metadata": {},
   "outputs": [],
   "source": [
    "spark = SparkSession.builder \\\n",
    "    .config(conf=sc.getConf()) \\\n",
    "    .getOrCreate()"
   ]
  },
  {
   "cell_type": "markdown",
   "id": "2081160d",
   "metadata": {},
   "source": [
    "***"
   ]
  },
  {
   "cell_type": "markdown",
   "id": "2ce8ddf3",
   "metadata": {},
   "source": [
    "### first, open dataset page and check data dictionary on columns"
   ]
  },
  {
   "cell_type": "markdown",
   "id": "b0e4bbef",
   "metadata": {
    "scrolled": true
   },
   "source": [
    "### 1-time sample download for pandas reading to infer schema for everything else:\n",
    "\n",
    "command:\n",
    "`!wget https://data.cityofchicago.org/api/views/hx8q-mf9v/rows.csv?accessType=DOWNLOAD`\n",
    "\n",
    "note: file is `Crimes_-_2012.csv`\n",
    "\n",
    "output:\n",
    "```\n",
    "--2022-10-22 08:53:42--  https://data.cityofchicago.org/api/views/hx8q-mf9v/rows.csv?accessType=DOWNLOAD\n",
    "Resolving data.cityofchicago.org (data.cityofchicago.org)... 52.206.140.205, 52.206.68.26, 52.206.140.199\n",
    "Connecting to data.cityofchicago.org (data.cityofchicago.org)|52.206.140.205|:443... connected.\n",
    "HTTP request sent, awaiting response... 200 OK\n",
    "Length: unspecified [text/csv]\n",
    "Saving to: ‘rows.csv?accessType=DOWNLOAD’\n",
    "\n",
    "rows.csv?accessType     [          <=>       ]  75.99M  2.54MB/s    in 28s     \n",
    "\n",
    "2022-10-22 08:54:11 (2.68 MB/s) - ‘rows.csv?accessType=DOWNLOAD’ saved [79677853]\n",
    "```"
   ]
  },
  {
   "cell_type": "code",
   "execution_count": 12,
   "id": "b10f9258",
   "metadata": {},
   "outputs": [
    {
     "name": "stdout",
     "output_type": "stream",
     "text": [
      "--2022-10-27 14:12:57--  https://data.lacity.org/api/views/63jg-8b9z/rows.csv?accessType=DOWNLOAD\n",
      "Resolving data.lacity.org (data.lacity.org)... 52.206.140.205, 52.206.68.26, 52.206.140.199\n",
      "Connecting to data.lacity.org (data.lacity.org)|52.206.140.205|:443... connected.\n",
      "HTTP request sent, awaiting response... 200 OK\n",
      "Length: unspecified [text/csv]\n",
      "Saving to: ‘rows.csv?accessType=DOWNLOAD.3’\n",
      "\n",
      "rows.csv?accessType     [           <=>      ] 511.52M  5.12MB/s    in 99s     \n",
      "\n",
      "2022-10-27 14:14:36 (5.16 MB/s) - ‘rows.csv?accessType=DOWNLOAD.3’ saved [536364291]\n",
      "\n"
     ]
    }
   ],
   "source": [
    "!wget https://data.lacity.org/api/views/63jg-8b9z/rows.csv?accessType=DOWNLOAD"
   ]
  },
  {
   "cell_type": "markdown",
   "id": "e2cf5a7c",
   "metadata": {},
   "source": [
    "### check count here: raw csv file\n",
    "command:\n",
    "`!wc -l rows.csv?accessType=DOWNLOAD`\n",
    "\n",
    "chicago1: `485854 rows.csv?accessType=DOWNLOAD`\n",
    "chicago12: `336247 rows.csv?accessType=DOWNLOAD`\n",
    "austin: `35098 rows.csv?accessType=DOWNLOAD.1`\n",
    "los angeles: `2119798 rows.csv?accessType=DOWNLOAD.3`\n",
    "san francisco: `2129526 rows.csv?accessType=DOWNLOAD.2`"
   ]
  },
  {
   "cell_type": "code",
   "execution_count": 13,
   "id": "c142a4b2",
   "metadata": {
    "scrolled": true
   },
   "outputs": [
    {
     "name": "stdout",
     "output_type": "stream",
     "text": [
      "2119798 rows.csv?accessType=DOWNLOAD.3\r\n"
     ]
    }
   ],
   "source": [
    "!wc -l rows.csv?accessType=DOWNLOAD.3"
   ]
  },
  {
   "cell_type": "code",
   "execution_count": 14,
   "id": "e3988734",
   "metadata": {},
   "outputs": [
    {
     "data": {
      "text/plain": [
       "Index(['DR_NO', 'Date Rptd', 'DATE OCC', 'TIME OCC', 'AREA ', 'AREA NAME',\n",
       "       'Rpt Dist No', 'Part 1-2', 'Crm Cd', 'Crm Cd Desc', 'Mocodes',\n",
       "       'Vict Age', 'Vict Sex', 'Vict Descent', 'Premis Cd', 'Premis Desc',\n",
       "       'Weapon Used Cd', 'Weapon Desc', 'Status', 'Status Desc', 'Crm Cd 1',\n",
       "       'Crm Cd 2', 'Crm Cd 3', 'Crm Cd 4', 'LOCATION', 'Cross Street', 'LAT',\n",
       "       'LON'],\n",
       "      dtype='object')"
      ]
     },
     "execution_count": 14,
     "metadata": {},
     "output_type": "execute_result"
    }
   ],
   "source": [
    "df_pd = pd.read_csv('rows.csv?accessType=DOWNLOAD.3', nrows=1000)\n",
    "df_pd.columns"
   ]
  },
  {
   "cell_type": "markdown",
   "id": "deebdbfb",
   "metadata": {},
   "source": [
    "### see sample of data\n",
    "Command: `df_pd`"
   ]
  },
  {
   "cell_type": "code",
   "execution_count": 50,
   "id": "99e75bb1",
   "metadata": {
    "scrolled": false
   },
   "outputs": [
    {
     "data": {
      "text/html": [
       "<div>\n",
       "<style scoped>\n",
       "    .dataframe tbody tr th:only-of-type {\n",
       "        vertical-align: middle;\n",
       "    }\n",
       "\n",
       "    .dataframe tbody tr th {\n",
       "        vertical-align: top;\n",
       "    }\n",
       "\n",
       "    .dataframe thead th {\n",
       "        text-align: right;\n",
       "    }\n",
       "</style>\n",
       "<table border=\"1\" class=\"dataframe\">\n",
       "  <thead>\n",
       "    <tr style=\"text-align: right;\">\n",
       "      <th></th>\n",
       "      <th>DR_NO</th>\n",
       "      <th>Date Rptd</th>\n",
       "      <th>DATE OCC</th>\n",
       "      <th>TIME OCC</th>\n",
       "      <th>AREA</th>\n",
       "      <th>AREA NAME</th>\n",
       "      <th>Rpt Dist No</th>\n",
       "      <th>Part 1-2</th>\n",
       "      <th>Crm Cd</th>\n",
       "      <th>Crm Cd Desc</th>\n",
       "      <th>Vict Age</th>\n",
       "      <th>Premis Cd</th>\n",
       "      <th>Premis Desc</th>\n",
       "      <th>Weapon Used Cd</th>\n",
       "      <th>Status</th>\n",
       "      <th>Status Desc</th>\n",
       "      <th>Crm Cd 1</th>\n",
       "      <th>Crm Cd 2</th>\n",
       "      <th>Crm Cd 3</th>\n",
       "      <th>Crm Cd 4</th>\n",
       "      <th>LOCATION</th>\n",
       "      <th>LAT</th>\n",
       "      <th>LON</th>\n",
       "    </tr>\n",
       "  </thead>\n",
       "  <tbody>\n",
       "    <tr>\n",
       "      <th>0</th>\n",
       "      <td>1307355</td>\n",
       "      <td>02/20/2010 12:00:00 AM</td>\n",
       "      <td>02/20/2010 12:00:00 AM</td>\n",
       "      <td>1350</td>\n",
       "      <td>13</td>\n",
       "      <td>Newton</td>\n",
       "      <td>1385</td>\n",
       "      <td>2</td>\n",
       "      <td>900</td>\n",
       "      <td>VIOLATION OF COURT ORDER</td>\n",
       "      <td>48</td>\n",
       "      <td>501</td>\n",
       "      <td>SINGLE FAMILY DWELLING</td>\n",
       "      <td>NaN</td>\n",
       "      <td>AA</td>\n",
       "      <td>Adult Arrest</td>\n",
       "      <td>900</td>\n",
       "      <td>NaN</td>\n",
       "      <td>NaN</td>\n",
       "      <td>NaN</td>\n",
       "      <td>300 E  GAGE                         AV</td>\n",
       "      <td>33.9825</td>\n",
       "      <td>-118.2695</td>\n",
       "    </tr>\n",
       "    <tr>\n",
       "      <th>1</th>\n",
       "      <td>11401303</td>\n",
       "      <td>09/13/2010 12:00:00 AM</td>\n",
       "      <td>09/12/2010 12:00:00 AM</td>\n",
       "      <td>45</td>\n",
       "      <td>14</td>\n",
       "      <td>Pacific</td>\n",
       "      <td>1485</td>\n",
       "      <td>2</td>\n",
       "      <td>740</td>\n",
       "      <td>VANDALISM - FELONY ($400 &amp; OVER, ALL CHURCH VA...</td>\n",
       "      <td>0</td>\n",
       "      <td>101</td>\n",
       "      <td>STREET</td>\n",
       "      <td>NaN</td>\n",
       "      <td>IC</td>\n",
       "      <td>Invest Cont</td>\n",
       "      <td>740</td>\n",
       "      <td>NaN</td>\n",
       "      <td>NaN</td>\n",
       "      <td>NaN</td>\n",
       "      <td>SEPULVEDA                    BL</td>\n",
       "      <td>33.9599</td>\n",
       "      <td>-118.3962</td>\n",
       "    </tr>\n",
       "    <tr>\n",
       "      <th>2</th>\n",
       "      <td>70309629</td>\n",
       "      <td>08/09/2010 12:00:00 AM</td>\n",
       "      <td>08/09/2010 12:00:00 AM</td>\n",
       "      <td>1515</td>\n",
       "      <td>13</td>\n",
       "      <td>Newton</td>\n",
       "      <td>1324</td>\n",
       "      <td>2</td>\n",
       "      <td>946</td>\n",
       "      <td>OTHER MISCELLANEOUS CRIME</td>\n",
       "      <td>0</td>\n",
       "      <td>103</td>\n",
       "      <td>ALLEY</td>\n",
       "      <td>NaN</td>\n",
       "      <td>IC</td>\n",
       "      <td>Invest Cont</td>\n",
       "      <td>946</td>\n",
       "      <td>NaN</td>\n",
       "      <td>NaN</td>\n",
       "      <td>NaN</td>\n",
       "      <td>1300 E  21ST                         ST</td>\n",
       "      <td>34.0224</td>\n",
       "      <td>-118.2524</td>\n",
       "    </tr>\n",
       "    <tr>\n",
       "      <th>3</th>\n",
       "      <td>90631215</td>\n",
       "      <td>01/05/2010 12:00:00 AM</td>\n",
       "      <td>01/05/2010 12:00:00 AM</td>\n",
       "      <td>150</td>\n",
       "      <td>6</td>\n",
       "      <td>Hollywood</td>\n",
       "      <td>646</td>\n",
       "      <td>2</td>\n",
       "      <td>900</td>\n",
       "      <td>VIOLATION OF COURT ORDER</td>\n",
       "      <td>47</td>\n",
       "      <td>101</td>\n",
       "      <td>STREET</td>\n",
       "      <td>102.0</td>\n",
       "      <td>IC</td>\n",
       "      <td>Invest Cont</td>\n",
       "      <td>900</td>\n",
       "      <td>998.0</td>\n",
       "      <td>NaN</td>\n",
       "      <td>NaN</td>\n",
       "      <td>CAHUENGA                     BL</td>\n",
       "      <td>34.1016</td>\n",
       "      <td>-118.3295</td>\n",
       "    </tr>\n",
       "    <tr>\n",
       "      <th>4</th>\n",
       "      <td>100100501</td>\n",
       "      <td>01/03/2010 12:00:00 AM</td>\n",
       "      <td>01/02/2010 12:00:00 AM</td>\n",
       "      <td>2100</td>\n",
       "      <td>1</td>\n",
       "      <td>Central</td>\n",
       "      <td>176</td>\n",
       "      <td>1</td>\n",
       "      <td>122</td>\n",
       "      <td>RAPE, ATTEMPTED</td>\n",
       "      <td>47</td>\n",
       "      <td>103</td>\n",
       "      <td>ALLEY</td>\n",
       "      <td>400.0</td>\n",
       "      <td>IC</td>\n",
       "      <td>Invest Cont</td>\n",
       "      <td>122</td>\n",
       "      <td>NaN</td>\n",
       "      <td>NaN</td>\n",
       "      <td>NaN</td>\n",
       "      <td>8TH                          ST</td>\n",
       "      <td>34.0387</td>\n",
       "      <td>-118.2488</td>\n",
       "    </tr>\n",
       "    <tr>\n",
       "      <th>...</th>\n",
       "      <td>...</td>\n",
       "      <td>...</td>\n",
       "      <td>...</td>\n",
       "      <td>...</td>\n",
       "      <td>...</td>\n",
       "      <td>...</td>\n",
       "      <td>...</td>\n",
       "      <td>...</td>\n",
       "      <td>...</td>\n",
       "      <td>...</td>\n",
       "      <td>...</td>\n",
       "      <td>...</td>\n",
       "      <td>...</td>\n",
       "      <td>...</td>\n",
       "      <td>...</td>\n",
       "      <td>...</td>\n",
       "      <td>...</td>\n",
       "      <td>...</td>\n",
       "      <td>...</td>\n",
       "      <td>...</td>\n",
       "      <td>...</td>\n",
       "      <td>...</td>\n",
       "      <td>...</td>\n",
       "    </tr>\n",
       "    <tr>\n",
       "      <th>995</th>\n",
       "      <td>100105888</td>\n",
       "      <td>02/05/2010 12:00:00 AM</td>\n",
       "      <td>02/05/2010 12:00:00 AM</td>\n",
       "      <td>1345</td>\n",
       "      <td>1</td>\n",
       "      <td>Central</td>\n",
       "      <td>152</td>\n",
       "      <td>2</td>\n",
       "      <td>762</td>\n",
       "      <td>LEWD CONDUCT</td>\n",
       "      <td>24</td>\n",
       "      <td>738</td>\n",
       "      <td>LIBRARY</td>\n",
       "      <td>NaN</td>\n",
       "      <td>IC</td>\n",
       "      <td>Invest Cont</td>\n",
       "      <td>762</td>\n",
       "      <td>NaN</td>\n",
       "      <td>NaN</td>\n",
       "      <td>NaN</td>\n",
       "      <td>600 W  5TH                          ST</td>\n",
       "      <td>34.0502</td>\n",
       "      <td>-118.2540</td>\n",
       "    </tr>\n",
       "    <tr>\n",
       "      <th>996</th>\n",
       "      <td>100105889</td>\n",
       "      <td>02/05/2010 12:00:00 AM</td>\n",
       "      <td>02/05/2010 12:00:00 AM</td>\n",
       "      <td>1230</td>\n",
       "      <td>1</td>\n",
       "      <td>Central</td>\n",
       "      <td>164</td>\n",
       "      <td>2</td>\n",
       "      <td>745</td>\n",
       "      <td>VANDALISM - MISDEAMEANOR ($399 OR UNDER)</td>\n",
       "      <td>23</td>\n",
       "      <td>203</td>\n",
       "      <td>OTHER BUSINESS</td>\n",
       "      <td>NaN</td>\n",
       "      <td>IC</td>\n",
       "      <td>Invest Cont</td>\n",
       "      <td>745</td>\n",
       "      <td>NaN</td>\n",
       "      <td>NaN</td>\n",
       "      <td>NaN</td>\n",
       "      <td>100 E  7TH                          ST</td>\n",
       "      <td>34.0439</td>\n",
       "      <td>-118.2514</td>\n",
       "    </tr>\n",
       "    <tr>\n",
       "      <th>997</th>\n",
       "      <td>100105894</td>\n",
       "      <td>02/05/2010 12:00:00 AM</td>\n",
       "      <td>02/05/2010 12:00:00 AM</td>\n",
       "      <td>645</td>\n",
       "      <td>1</td>\n",
       "      <td>Central</td>\n",
       "      <td>157</td>\n",
       "      <td>1</td>\n",
       "      <td>330</td>\n",
       "      <td>BURGLARY FROM VEHICLE</td>\n",
       "      <td>40</td>\n",
       "      <td>101</td>\n",
       "      <td>STREET</td>\n",
       "      <td>NaN</td>\n",
       "      <td>IC</td>\n",
       "      <td>Invest Cont</td>\n",
       "      <td>330</td>\n",
       "      <td>NaN</td>\n",
       "      <td>NaN</td>\n",
       "      <td>NaN</td>\n",
       "      <td>7TH</td>\n",
       "      <td>34.0390</td>\n",
       "      <td>-118.2444</td>\n",
       "    </tr>\n",
       "    <tr>\n",
       "      <th>998</th>\n",
       "      <td>100105899</td>\n",
       "      <td>02/05/2010 12:00:00 AM</td>\n",
       "      <td>02/01/2010 12:00:00 AM</td>\n",
       "      <td>1000</td>\n",
       "      <td>1</td>\n",
       "      <td>Central</td>\n",
       "      <td>153</td>\n",
       "      <td>2</td>\n",
       "      <td>946</td>\n",
       "      <td>OTHER MISCELLANEOUS CRIME</td>\n",
       "      <td>70</td>\n",
       "      <td>201</td>\n",
       "      <td>JEWELRY STORE</td>\n",
       "      <td>NaN</td>\n",
       "      <td>IC</td>\n",
       "      <td>Invest Cont</td>\n",
       "      <td>946</td>\n",
       "      <td>NaN</td>\n",
       "      <td>NaN</td>\n",
       "      <td>NaN</td>\n",
       "      <td>600 S  HILL                         ST</td>\n",
       "      <td>34.0474</td>\n",
       "      <td>-118.2531</td>\n",
       "    </tr>\n",
       "    <tr>\n",
       "      <th>999</th>\n",
       "      <td>100105902</td>\n",
       "      <td>02/06/2010 12:00:00 AM</td>\n",
       "      <td>02/06/2010 12:00:00 AM</td>\n",
       "      <td>100</td>\n",
       "      <td>1</td>\n",
       "      <td>Central</td>\n",
       "      <td>101</td>\n",
       "      <td>1</td>\n",
       "      <td>510</td>\n",
       "      <td>VEHICLE - STOLEN</td>\n",
       "      <td>0</td>\n",
       "      <td>101</td>\n",
       "      <td>STREET</td>\n",
       "      <td>NaN</td>\n",
       "      <td>IC</td>\n",
       "      <td>Invest Cont</td>\n",
       "      <td>510</td>\n",
       "      <td>NaN</td>\n",
       "      <td>NaN</td>\n",
       "      <td>NaN</td>\n",
       "      <td>1000    ALPINE                       ST</td>\n",
       "      <td>34.0649</td>\n",
       "      <td>-118.2465</td>\n",
       "    </tr>\n",
       "  </tbody>\n",
       "</table>\n",
       "<p>1000 rows × 23 columns</p>\n",
       "</div>"
      ],
      "text/plain": [
       "         DR_NO               Date Rptd                DATE OCC  TIME OCC  \\\n",
       "0      1307355  02/20/2010 12:00:00 AM  02/20/2010 12:00:00 AM      1350   \n",
       "1     11401303  09/13/2010 12:00:00 AM  09/12/2010 12:00:00 AM        45   \n",
       "2     70309629  08/09/2010 12:00:00 AM  08/09/2010 12:00:00 AM      1515   \n",
       "3     90631215  01/05/2010 12:00:00 AM  01/05/2010 12:00:00 AM       150   \n",
       "4    100100501  01/03/2010 12:00:00 AM  01/02/2010 12:00:00 AM      2100   \n",
       "..         ...                     ...                     ...       ...   \n",
       "995  100105888  02/05/2010 12:00:00 AM  02/05/2010 12:00:00 AM      1345   \n",
       "996  100105889  02/05/2010 12:00:00 AM  02/05/2010 12:00:00 AM      1230   \n",
       "997  100105894  02/05/2010 12:00:00 AM  02/05/2010 12:00:00 AM       645   \n",
       "998  100105899  02/05/2010 12:00:00 AM  02/01/2010 12:00:00 AM      1000   \n",
       "999  100105902  02/06/2010 12:00:00 AM  02/06/2010 12:00:00 AM       100   \n",
       "\n",
       "     AREA   AREA NAME  Rpt Dist No  Part 1-2  Crm Cd  \\\n",
       "0       13     Newton         1385         2     900   \n",
       "1       14    Pacific         1485         2     740   \n",
       "2       13     Newton         1324         2     946   \n",
       "3        6  Hollywood          646         2     900   \n",
       "4        1    Central          176         1     122   \n",
       "..     ...        ...          ...       ...     ...   \n",
       "995      1    Central          152         2     762   \n",
       "996      1    Central          164         2     745   \n",
       "997      1    Central          157         1     330   \n",
       "998      1    Central          153         2     946   \n",
       "999      1    Central          101         1     510   \n",
       "\n",
       "                                           Crm Cd Desc  Vict Age  Premis Cd  \\\n",
       "0                             VIOLATION OF COURT ORDER        48        501   \n",
       "1    VANDALISM - FELONY ($400 & OVER, ALL CHURCH VA...         0        101   \n",
       "2                            OTHER MISCELLANEOUS CRIME         0        103   \n",
       "3                             VIOLATION OF COURT ORDER        47        101   \n",
       "4                                      RAPE, ATTEMPTED        47        103   \n",
       "..                                                 ...       ...        ...   \n",
       "995                                       LEWD CONDUCT        24        738   \n",
       "996           VANDALISM - MISDEAMEANOR ($399 OR UNDER)        23        203   \n",
       "997                              BURGLARY FROM VEHICLE        40        101   \n",
       "998                          OTHER MISCELLANEOUS CRIME        70        201   \n",
       "999                                   VEHICLE - STOLEN         0        101   \n",
       "\n",
       "                Premis Desc  Weapon Used Cd Status   Status Desc  Crm Cd 1  \\\n",
       "0    SINGLE FAMILY DWELLING             NaN     AA  Adult Arrest       900   \n",
       "1                    STREET             NaN     IC   Invest Cont       740   \n",
       "2                     ALLEY             NaN     IC   Invest Cont       946   \n",
       "3                    STREET           102.0     IC   Invest Cont       900   \n",
       "4                     ALLEY           400.0     IC   Invest Cont       122   \n",
       "..                      ...             ...    ...           ...       ...   \n",
       "995                 LIBRARY             NaN     IC   Invest Cont       762   \n",
       "996          OTHER BUSINESS             NaN     IC   Invest Cont       745   \n",
       "997                  STREET             NaN     IC   Invest Cont       330   \n",
       "998           JEWELRY STORE             NaN     IC   Invest Cont       946   \n",
       "999                  STREET             NaN     IC   Invest Cont       510   \n",
       "\n",
       "     Crm Cd 2  Crm Cd 3  Crm Cd 4                                 LOCATION  \\\n",
       "0         NaN       NaN       NaN   300 E  GAGE                         AV   \n",
       "1         NaN       NaN       NaN          SEPULVEDA                    BL   \n",
       "2         NaN       NaN       NaN  1300 E  21ST                         ST   \n",
       "3       998.0       NaN       NaN          CAHUENGA                     BL   \n",
       "4         NaN       NaN       NaN          8TH                          ST   \n",
       "..        ...       ...       ...                                      ...   \n",
       "995       NaN       NaN       NaN   600 W  5TH                          ST   \n",
       "996       NaN       NaN       NaN   100 E  7TH                          ST   \n",
       "997       NaN       NaN       NaN                                      7TH   \n",
       "998       NaN       NaN       NaN   600 S  HILL                         ST   \n",
       "999       NaN       NaN       NaN  1000    ALPINE                       ST   \n",
       "\n",
       "         LAT       LON  \n",
       "0    33.9825 -118.2695  \n",
       "1    33.9599 -118.3962  \n",
       "2    34.0224 -118.2524  \n",
       "3    34.1016 -118.3295  \n",
       "4    34.0387 -118.2488  \n",
       "..       ...       ...  \n",
       "995  34.0502 -118.2540  \n",
       "996  34.0439 -118.2514  \n",
       "997  34.0390 -118.2444  \n",
       "998  34.0474 -118.2531  \n",
       "999  34.0649 -118.2465  \n",
       "\n",
       "[1000 rows x 23 columns]"
      ]
     },
     "execution_count": 50,
     "metadata": {},
     "output_type": "execute_result"
    }
   ],
   "source": [
    "pd.set_option('display.max_columns', None)\n",
    "df_pd"
   ]
  },
  {
   "cell_type": "code",
   "execution_count": 41,
   "id": "e04037c8",
   "metadata": {},
   "outputs": [],
   "source": [
    "cols = ['DR_NO', 'Date Rptd', 'DATE OCC', 'TIME OCC', 'AREA ', 'AREA NAME', 'Rpt Dist No', 'Part 1-2', 'Crm Cd', 'Crm Cd Desc', 'Vict Age', 'Premis Cd', 'Premis Desc', 'Weapon Used Cd', 'Status', 'Status Desc', 'Crm Cd 1', 'Crm Cd 2', 'Crm Cd 3', 'Crm Cd 4', 'LOCATION', 'LAT', 'LON']\n",
    "\n",
    "df_pd = pd.read_csv('rows.csv?accessType=DOWNLOAD.3', nrows=1000, usecols=cols)"
   ]
  },
  {
   "cell_type": "markdown",
   "id": "f2ee772d",
   "metadata": {},
   "source": [
    "### initial commands for all (1 cell each)\n",
    "Commands:\n",
    "```\n",
    "df_pd = pd.read_csv('rows.csv?accessType=DOWNLOAD.1', nrows=1000)\n",
    "df_pd.columns\n",
    "```\n",
    "get output, then:\n",
    "```\n",
    "spark.createDataFrame(df_pd).schema\n",
    "```\n",
    "if with error, then:\n",
    "```\n",
    "cols = <PASTE COLUMN LIST HERE, REMOVE PROBLEMATIC COL>\n",
    "\n",
    "df_pd = pd.read_csv('<EDIT FILENAME>', nrows=1000, usecols=cols)\n",
    "```\n",
    "\n",
    "### for Chicago because of `TypeError: Can not merge type (pandas string to spark double) for 'Location Description', 'location' fields`\n",
    "```\n",
    "cols = ['Case Number', 'Date', 'Block', 'IUCR', 'Primary Type', 'Description', 'Arrest', 'Domestic', 'Beat', 'Ward', 'FBI Code', 'X Coordinate', 'Y Coordinate', 'Year', 'Latitude', 'Longitude']\n",
    "```\n",
    "\n",
    "### for Los Angeles because of `TypeError: Can not merge type (pandas string/double to spark double/string) for 'Cross Street', 'Weapon Desc', 'Mocodes', 'Vict Sex', 'Vict Descent'`\n",
    "Commands:\n",
    "```\n",
    "cols = ['DR_NO', 'Date Rptd', 'DATE OCC', 'TIME OCC', 'AREA ', 'AREA NAME', 'Rpt Dist No', 'Part 1-2', 'Crm Cd', 'Crm Cd Desc', 'Vict Age', 'Premis Cd', 'Premis Desc', 'Weapon Used Cd', 'Status', 'Status Desc', 'Crm Cd 1', 'Crm Cd 2', 'Crm Cd 3', 'Crm Cd 4', 'LOCATION', 'LAT', 'LON']\n",
    "```\n",
    "\n",
    "### for Austin because of `TypeError: Can not merge type (pandas string to spark double) for 'Clearance Status', 'Clearance Date', 'GO Location' fields`\n",
    "Commands:\n",
    "```\n",
    "cols = ['GO Primary Key', 'Council District', 'GO Highest Offense Desc', 'Highest NIBRS/UCR Offense Description', 'GO Report Date', 'GO District', 'GO Location Zip', 'GO Census Tract', 'GO X Coordinate', 'GO Y Coordinate']\n",
    "```"
   ]
  },
  {
   "cell_type": "code",
   "execution_count": 37,
   "id": "5977e52d",
   "metadata": {
    "scrolled": true
   },
   "outputs": [
    {
     "data": {
      "text/plain": [
       "StructType([StructField('DR_NO', LongType(), True), StructField('Date Rptd', StringType(), True), StructField('DATE OCC', StringType(), True), StructField('TIME OCC', LongType(), True), StructField('AREA ', LongType(), True), StructField('AREA NAME', StringType(), True), StructField('Rpt Dist No', LongType(), True), StructField('Part 1-2', LongType(), True), StructField('Crm Cd', LongType(), True), StructField('Crm Cd Desc', StringType(), True), StructField('Vict Age', LongType(), True), StructField('Premis Cd', LongType(), True), StructField('Premis Desc', StringType(), True), StructField('Weapon Used Cd', DoubleType(), True), StructField('Status', StringType(), True), StructField('Status Desc', StringType(), True), StructField('Crm Cd 1', LongType(), True), StructField('Crm Cd 2', DoubleType(), True), StructField('Crm Cd 3', DoubleType(), True), StructField('Crm Cd 4', DoubleType(), True), StructField('LOCATION', StringType(), True), StructField('LAT', DoubleType(), True), StructField('LON', DoubleType(), True)])"
      ]
     },
     "execution_count": 37,
     "metadata": {},
     "output_type": "execute_result"
    }
   ],
   "source": [
    "spark.createDataFrame(df_pd).schema"
   ]
  },
  {
   "cell_type": "markdown",
   "id": "286e7c07",
   "metadata": {},
   "source": [
    "### modify schema output above and removed columns, based on sample output before, then add template below"
   ]
  },
  {
   "cell_type": "markdown",
   "id": "f53fe796",
   "metadata": {},
   "source": [
    "### Replace below with me:\n",
    "```\n",
    "df_csv = spark.read \\\n",
    "    .option(\"header\", \"true\") \\\n",
    "    .schema(schema_template) \\\n",
    "    .csv(f'{gcs_bkt}/raw/{city}/{fname}')\n",
    "```"
   ]
  },
  {
   "cell_type": "code",
   "execution_count": 61,
   "id": "377b7d66",
   "metadata": {},
   "outputs": [],
   "source": [
    "df_csv = spark.read \\\n",
    "    .option(\"header\", \"true\") \\\n",
    "    .schema(dict_city['schema_template']) \\\n",
    "    .csv(f'{gcs_bkt}/raw/{city}/' + 'Crime_Data_from_2010_to_2019.csv')"
   ]
  },
  {
   "cell_type": "code",
   "execution_count": 63,
   "id": "32861bf6",
   "metadata": {},
   "outputs": [
    {
     "data": {
      "text/plain": [
       "[Row(DR_NO=1307355, Date Rptd='02/20/2010 12:00:00 AM', DATE OCC='02/20/2010 12:00:00 AM', TIME OCC=1350, AREA =13, AREA NAME='Newton', Rpt Dist No=1385, Part 1-2=2, Crm Cd=900, Crm Cd Desc='VIOLATION OF COURT ORDER', Mocodes='0913 1814 2000', Vict Age=48, Vict Sex='M', Vict Descent='H', Premis Cd=501, Premis Desc='SINGLE FAMILY DWELLING', Weapon Used Cd=None, Weapon Desc=None, Status='AA', Status Desc='Adult Arrest', Crm Cd 1=900, Crm Cd 2=None, Crm Cd 3=None, Crm Cd 4=None, LOCATION='300 E  GAGE                         AV', Cross Street=None, LAT=33.98249816894531, LON=-118.26950073242188),\n",
       " Row(DR_NO=11401303, Date Rptd='09/13/2010 12:00:00 AM', DATE OCC='09/12/2010 12:00:00 AM', TIME OCC=45, AREA =14, AREA NAME='Pacific', Rpt Dist No=1485, Part 1-2=2, Crm Cd=740, Crm Cd Desc='VANDALISM - FELONY ($400 & OVER, ALL CHURCH VANDALISMS)', Mocodes='0329', Vict Age=0, Vict Sex='M', Vict Descent='W', Premis Cd=101, Premis Desc='STREET', Weapon Used Cd=None, Weapon Desc=None, Status='IC', Status Desc='Invest Cont', Crm Cd 1=740, Crm Cd 2=None, Crm Cd 3=None, Crm Cd 4=None, LOCATION='SEPULVEDA                    BL', Cross Street='MANCHESTER                   AV', LAT=33.95989990234375, LON=-118.39620208740234),\n",
       " Row(DR_NO=70309629, Date Rptd='08/09/2010 12:00:00 AM', DATE OCC='08/09/2010 12:00:00 AM', TIME OCC=1515, AREA =13, AREA NAME='Newton', Rpt Dist No=1324, Part 1-2=2, Crm Cd=946, Crm Cd Desc='OTHER MISCELLANEOUS CRIME', Mocodes='0344', Vict Age=0, Vict Sex='M', Vict Descent='H', Premis Cd=103, Premis Desc='ALLEY', Weapon Used Cd=None, Weapon Desc=None, Status='IC', Status Desc='Invest Cont', Crm Cd 1=946, Crm Cd 2=None, Crm Cd 3=None, Crm Cd 4=None, LOCATION='1300 E  21ST                         ST', Cross Street=None, LAT=34.02239990234375, LON=-118.25240325927734),\n",
       " Row(DR_NO=90631215, Date Rptd='01/05/2010 12:00:00 AM', DATE OCC='01/05/2010 12:00:00 AM', TIME OCC=150, AREA =6, AREA NAME='Hollywood', Rpt Dist No=646, Part 1-2=2, Crm Cd=900, Crm Cd Desc='VIOLATION OF COURT ORDER', Mocodes='1100 0400 1402', Vict Age=47, Vict Sex='F', Vict Descent='W', Premis Cd=101, Premis Desc='STREET', Weapon Used Cd=102, Weapon Desc='HAND GUN', Status='IC', Status Desc='Invest Cont', Crm Cd 1=900, Crm Cd 2=998, Crm Cd 3=None, Crm Cd 4=None, LOCATION='CAHUENGA                     BL', Cross Street='HOLLYWOOD                    BL', LAT=34.101600646972656, LON=-118.32949829101562),\n",
       " Row(DR_NO=100100501, Date Rptd='01/03/2010 12:00:00 AM', DATE OCC='01/02/2010 12:00:00 AM', TIME OCC=2100, AREA =1, AREA NAME='Central', Rpt Dist No=176, Part 1-2=1, Crm Cd=122, Crm Cd Desc='RAPE, ATTEMPTED', Mocodes='0400', Vict Age=47, Vict Sex='F', Vict Descent='H', Premis Cd=103, Premis Desc='ALLEY', Weapon Used Cd=400, Weapon Desc='STRONG-ARM (HANDS, FIST, FEET OR BODILY FORCE)', Status='IC', Status Desc='Invest Cont', Crm Cd 1=122, Crm Cd 2=None, Crm Cd 3=None, Crm Cd 4=None, LOCATION='8TH                          ST', Cross Street='SAN PEDRO                    ST', LAT=34.038700103759766, LON=-118.2488021850586),\n",
       " Row(DR_NO=100100506, Date Rptd='01/05/2010 12:00:00 AM', DATE OCC='01/04/2010 12:00:00 AM', TIME OCC=1650, AREA =1, AREA NAME='Central', Rpt Dist No=162, Part 1-2=1, Crm Cd=442, Crm Cd Desc='SHOPLIFTING - PETTY THEFT ($950 & UNDER)', Mocodes='0344 1402', Vict Age=23, Vict Sex='M', Vict Descent='B', Premis Cd=404, Premis Desc='DEPARTMENT STORE', Weapon Used Cd=None, Weapon Desc=None, Status='AA', Status Desc='Adult Arrest', Crm Cd 1=442, Crm Cd 2=None, Crm Cd 3=None, Crm Cd 4=None, LOCATION='700 W  7TH                          ST', Cross Street=None, LAT=34.04800033569336, LON=-118.25769805908203),\n",
       " Row(DR_NO=100100508, Date Rptd='01/08/2010 12:00:00 AM', DATE OCC='01/07/2010 12:00:00 AM', TIME OCC=2005, AREA =1, AREA NAME='Central', Rpt Dist No=182, Part 1-2=1, Crm Cd=330, Crm Cd Desc='BURGLARY FROM VEHICLE', Mocodes='0344', Vict Age=46, Vict Sex='M', Vict Descent='H', Premis Cd=101, Premis Desc='STREET', Weapon Used Cd=None, Weapon Desc=None, Status='IC', Status Desc='Invest Cont', Crm Cd 1=330, Crm Cd 2=None, Crm Cd 3=None, Crm Cd 4=None, LOCATION='PICO                         BL', Cross Street='GRAND                        AV', LAT=34.03889846801758, LON=-118.26429748535156),\n",
       " Row(DR_NO=100100509, Date Rptd='01/09/2010 12:00:00 AM', DATE OCC='01/08/2010 12:00:00 AM', TIME OCC=2100, AREA =1, AREA NAME='Central', Rpt Dist No=157, Part 1-2=1, Crm Cd=230, Crm Cd Desc='ASSAULT WITH DEADLY WEAPON, AGGRAVATED ASSAULT', Mocodes='0416', Vict Age=51, Vict Sex='M', Vict Descent='B', Premis Cd=710, Premis Desc='OTHER PREMISE', Weapon Used Cd=500, Weapon Desc='UNKNOWN WEAPON/OTHER WEAPON', Status='AA', Status Desc='Adult Arrest', Crm Cd 1=230, Crm Cd 2=None, Crm Cd 3=None, Crm Cd 4=None, LOCATION='500    CROCKER                      ST', Cross Street=None, LAT=34.04349899291992, LON=-118.2426986694336),\n",
       " Row(DR_NO=100100510, Date Rptd='01/09/2010 12:00:00 AM', DATE OCC='01/09/2010 12:00:00 AM', TIME OCC=230, AREA =1, AREA NAME='Central', Rpt Dist No=171, Part 1-2=1, Crm Cd=230, Crm Cd Desc='ASSAULT WITH DEADLY WEAPON, AGGRAVATED ASSAULT', Mocodes='0400 0416', Vict Age=30, Vict Sex='M', Vict Descent='H', Premis Cd=108, Premis Desc='PARKING LOT', Weapon Used Cd=400, Weapon Desc='STRONG-ARM (HANDS, FIST, FEET OR BODILY FORCE)', Status='IC', Status Desc='Invest Cont', Crm Cd 1=230, Crm Cd 2=None, Crm Cd 3=None, Crm Cd 4=None, LOCATION='800 W  OLYMPIC                      BL', Cross Street=None, LAT=34.04499816894531, LON=-118.26399993896484),\n",
       " Row(DR_NO=100100511, Date Rptd='01/09/2010 12:00:00 AM', DATE OCC='01/06/2010 12:00:00 AM', TIME OCC=2100, AREA =1, AREA NAME='Central', Rpt Dist No=132, Part 1-2=1, Crm Cd=341, Crm Cd Desc='THEFT-GRAND ($950.01 & OVER)EXCPT,GUNS,FOWL,LIVESTK,PROD', Mocodes='0344 1402', Vict Age=55, Vict Sex='M', Vict Descent='W', Premis Cd=710, Premis Desc='OTHER PREMISE', Weapon Used Cd=None, Weapon Desc=None, Status='IC', Status Desc='Invest Cont', Crm Cd 1=341, Crm Cd 2=998, Crm Cd 3=None, Crm Cd 4=None, LOCATION='200 S  OLIVE                        ST', Cross Street=None, LAT=34.05379867553711, LON=-118.2488021850586)]"
      ]
     },
     "execution_count": 63,
     "metadata": {},
     "output_type": "execute_result"
    }
   ],
   "source": [
    "df_csv.head(10)"
   ]
  },
  {
   "cell_type": "code",
   "execution_count": 59,
   "id": "ecec6c4b",
   "metadata": {},
   "outputs": [
    {
     "name": "stderr",
     "output_type": "stream",
     "text": [
      "                                                                                \r"
     ]
    },
    {
     "data": {
      "text/plain": [
       "2119797"
      ]
     },
     "execution_count": 59,
     "metadata": {},
     "output_type": "execute_result"
    }
   ],
   "source": [
    "df_csv.count()"
   ]
  },
  {
   "cell_type": "markdown",
   "id": "b9f1dd45",
   "metadata": {},
   "source": [
    "### check count here: original df\n",
    "Command:\n",
    "`df_csv.count()`\n",
    "\n",
    "Output:\n",
    "`485853`"
   ]
  },
  {
   "cell_type": "markdown",
   "id": "f1be2c77",
   "metadata": {},
   "source": [
    "### inspect data\n",
    "Command:\n",
    "```\n",
    "df_csv.head(10)\n",
    "```"
   ]
  },
  {
   "cell_type": "code",
   "execution_count": 65,
   "id": "63866a88",
   "metadata": {},
   "outputs": [],
   "source": [
    "def parse_dt(dt_str):\n",
    "    \"\"\"\n",
    "    parse datetime object from given date string of specific format\n",
    "    \"\"\"\n",
    "    return pdl.from_format(dt_str, dict_city['date_format'])\n",
    "\n",
    "parse_dt_udf = F.udf(parse_dt, returnType=types.TimestampType())"
   ]
  },
  {
   "cell_type": "code",
   "execution_count": 66,
   "id": "b57c558c",
   "metadata": {
    "scrolled": true
   },
   "outputs": [],
   "source": [
    "# parse datetime out of provided date column\n",
    "df_time = df_csv.withColumn('Timestamp', parse_dt_udf(F.col(dict_city['date_string_col'])))\n",
    "\n",
    "if dict_city['with_year_col']:\n",
    "    years_rows = df_time \\\n",
    "        .select('Year')\n",
    "else:\n",
    "    years_rows = df_time \\\n",
    "        .select(F.year('Timestamp').alias('Year'))"
   ]
  },
  {
   "cell_type": "code",
   "execution_count": 67,
   "id": "51b27465",
   "metadata": {},
   "outputs": [
    {
     "name": "stderr",
     "output_type": "stream",
     "text": [
      "                                                                                \r"
     ]
    },
    {
     "data": {
      "text/plain": [
       "[Row(DR_NO=1307355, Date Rptd='02/20/2010 12:00:00 AM', DATE OCC='02/20/2010 12:00:00 AM', TIME OCC=1350, AREA =13, AREA NAME='Newton', Rpt Dist No=1385, Part 1-2=2, Crm Cd=900, Crm Cd Desc='VIOLATION OF COURT ORDER', Mocodes='0913 1814 2000', Vict Age=48, Vict Sex='M', Vict Descent='H', Premis Cd=501, Premis Desc='SINGLE FAMILY DWELLING', Weapon Used Cd=None, Weapon Desc=None, Status='AA', Status Desc='Adult Arrest', Crm Cd 1=900, Crm Cd 2=None, Crm Cd 3=None, Crm Cd 4=None, LOCATION='300 E  GAGE                         AV', Cross Street=None, LAT=33.98249816894531, LON=-118.26950073242188, Timestamp=datetime.datetime(2010, 2, 20, 0, 0)),\n",
       " Row(DR_NO=11401303, Date Rptd='09/13/2010 12:00:00 AM', DATE OCC='09/12/2010 12:00:00 AM', TIME OCC=45, AREA =14, AREA NAME='Pacific', Rpt Dist No=1485, Part 1-2=2, Crm Cd=740, Crm Cd Desc='VANDALISM - FELONY ($400 & OVER, ALL CHURCH VANDALISMS)', Mocodes='0329', Vict Age=0, Vict Sex='M', Vict Descent='W', Premis Cd=101, Premis Desc='STREET', Weapon Used Cd=None, Weapon Desc=None, Status='IC', Status Desc='Invest Cont', Crm Cd 1=740, Crm Cd 2=None, Crm Cd 3=None, Crm Cd 4=None, LOCATION='SEPULVEDA                    BL', Cross Street='MANCHESTER                   AV', LAT=33.95989990234375, LON=-118.39620208740234, Timestamp=datetime.datetime(2010, 9, 12, 0, 0)),\n",
       " Row(DR_NO=70309629, Date Rptd='08/09/2010 12:00:00 AM', DATE OCC='08/09/2010 12:00:00 AM', TIME OCC=1515, AREA =13, AREA NAME='Newton', Rpt Dist No=1324, Part 1-2=2, Crm Cd=946, Crm Cd Desc='OTHER MISCELLANEOUS CRIME', Mocodes='0344', Vict Age=0, Vict Sex='M', Vict Descent='H', Premis Cd=103, Premis Desc='ALLEY', Weapon Used Cd=None, Weapon Desc=None, Status='IC', Status Desc='Invest Cont', Crm Cd 1=946, Crm Cd 2=None, Crm Cd 3=None, Crm Cd 4=None, LOCATION='1300 E  21ST                         ST', Cross Street=None, LAT=34.02239990234375, LON=-118.25240325927734, Timestamp=datetime.datetime(2010, 8, 9, 0, 0)),\n",
       " Row(DR_NO=90631215, Date Rptd='01/05/2010 12:00:00 AM', DATE OCC='01/05/2010 12:00:00 AM', TIME OCC=150, AREA =6, AREA NAME='Hollywood', Rpt Dist No=646, Part 1-2=2, Crm Cd=900, Crm Cd Desc='VIOLATION OF COURT ORDER', Mocodes='1100 0400 1402', Vict Age=47, Vict Sex='F', Vict Descent='W', Premis Cd=101, Premis Desc='STREET', Weapon Used Cd=102, Weapon Desc='HAND GUN', Status='IC', Status Desc='Invest Cont', Crm Cd 1=900, Crm Cd 2=998, Crm Cd 3=None, Crm Cd 4=None, LOCATION='CAHUENGA                     BL', Cross Street='HOLLYWOOD                    BL', LAT=34.101600646972656, LON=-118.32949829101562, Timestamp=datetime.datetime(2010, 1, 5, 0, 0)),\n",
       " Row(DR_NO=100100501, Date Rptd='01/03/2010 12:00:00 AM', DATE OCC='01/02/2010 12:00:00 AM', TIME OCC=2100, AREA =1, AREA NAME='Central', Rpt Dist No=176, Part 1-2=1, Crm Cd=122, Crm Cd Desc='RAPE, ATTEMPTED', Mocodes='0400', Vict Age=47, Vict Sex='F', Vict Descent='H', Premis Cd=103, Premis Desc='ALLEY', Weapon Used Cd=400, Weapon Desc='STRONG-ARM (HANDS, FIST, FEET OR BODILY FORCE)', Status='IC', Status Desc='Invest Cont', Crm Cd 1=122, Crm Cd 2=None, Crm Cd 3=None, Crm Cd 4=None, LOCATION='8TH                          ST', Cross Street='SAN PEDRO                    ST', LAT=34.038700103759766, LON=-118.2488021850586, Timestamp=datetime.datetime(2010, 1, 2, 0, 0)),\n",
       " Row(DR_NO=100100506, Date Rptd='01/05/2010 12:00:00 AM', DATE OCC='01/04/2010 12:00:00 AM', TIME OCC=1650, AREA =1, AREA NAME='Central', Rpt Dist No=162, Part 1-2=1, Crm Cd=442, Crm Cd Desc='SHOPLIFTING - PETTY THEFT ($950 & UNDER)', Mocodes='0344 1402', Vict Age=23, Vict Sex='M', Vict Descent='B', Premis Cd=404, Premis Desc='DEPARTMENT STORE', Weapon Used Cd=None, Weapon Desc=None, Status='AA', Status Desc='Adult Arrest', Crm Cd 1=442, Crm Cd 2=None, Crm Cd 3=None, Crm Cd 4=None, LOCATION='700 W  7TH                          ST', Cross Street=None, LAT=34.04800033569336, LON=-118.25769805908203, Timestamp=datetime.datetime(2010, 1, 4, 0, 0)),\n",
       " Row(DR_NO=100100508, Date Rptd='01/08/2010 12:00:00 AM', DATE OCC='01/07/2010 12:00:00 AM', TIME OCC=2005, AREA =1, AREA NAME='Central', Rpt Dist No=182, Part 1-2=1, Crm Cd=330, Crm Cd Desc='BURGLARY FROM VEHICLE', Mocodes='0344', Vict Age=46, Vict Sex='M', Vict Descent='H', Premis Cd=101, Premis Desc='STREET', Weapon Used Cd=None, Weapon Desc=None, Status='IC', Status Desc='Invest Cont', Crm Cd 1=330, Crm Cd 2=None, Crm Cd 3=None, Crm Cd 4=None, LOCATION='PICO                         BL', Cross Street='GRAND                        AV', LAT=34.03889846801758, LON=-118.26429748535156, Timestamp=datetime.datetime(2010, 1, 7, 0, 0)),\n",
       " Row(DR_NO=100100509, Date Rptd='01/09/2010 12:00:00 AM', DATE OCC='01/08/2010 12:00:00 AM', TIME OCC=2100, AREA =1, AREA NAME='Central', Rpt Dist No=157, Part 1-2=1, Crm Cd=230, Crm Cd Desc='ASSAULT WITH DEADLY WEAPON, AGGRAVATED ASSAULT', Mocodes='0416', Vict Age=51, Vict Sex='M', Vict Descent='B', Premis Cd=710, Premis Desc='OTHER PREMISE', Weapon Used Cd=500, Weapon Desc='UNKNOWN WEAPON/OTHER WEAPON', Status='AA', Status Desc='Adult Arrest', Crm Cd 1=230, Crm Cd 2=None, Crm Cd 3=None, Crm Cd 4=None, LOCATION='500    CROCKER                      ST', Cross Street=None, LAT=34.04349899291992, LON=-118.2426986694336, Timestamp=datetime.datetime(2010, 1, 8, 0, 0)),\n",
       " Row(DR_NO=100100510, Date Rptd='01/09/2010 12:00:00 AM', DATE OCC='01/09/2010 12:00:00 AM', TIME OCC=230, AREA =1, AREA NAME='Central', Rpt Dist No=171, Part 1-2=1, Crm Cd=230, Crm Cd Desc='ASSAULT WITH DEADLY WEAPON, AGGRAVATED ASSAULT', Mocodes='0400 0416', Vict Age=30, Vict Sex='M', Vict Descent='H', Premis Cd=108, Premis Desc='PARKING LOT', Weapon Used Cd=400, Weapon Desc='STRONG-ARM (HANDS, FIST, FEET OR BODILY FORCE)', Status='IC', Status Desc='Invest Cont', Crm Cd 1=230, Crm Cd 2=None, Crm Cd 3=None, Crm Cd 4=None, LOCATION='800 W  OLYMPIC                      BL', Cross Street=None, LAT=34.04499816894531, LON=-118.26399993896484, Timestamp=datetime.datetime(2010, 1, 9, 0, 0)),\n",
       " Row(DR_NO=100100511, Date Rptd='01/09/2010 12:00:00 AM', DATE OCC='01/06/2010 12:00:00 AM', TIME OCC=2100, AREA =1, AREA NAME='Central', Rpt Dist No=132, Part 1-2=1, Crm Cd=341, Crm Cd Desc='THEFT-GRAND ($950.01 & OVER)EXCPT,GUNS,FOWL,LIVESTK,PROD', Mocodes='0344 1402', Vict Age=55, Vict Sex='M', Vict Descent='W', Premis Cd=710, Premis Desc='OTHER PREMISE', Weapon Used Cd=None, Weapon Desc=None, Status='IC', Status Desc='Invest Cont', Crm Cd 1=341, Crm Cd 2=998, Crm Cd 3=None, Crm Cd 4=None, LOCATION='200 S  OLIVE                        ST', Cross Street=None, LAT=34.05379867553711, LON=-118.2488021850586, Timestamp=datetime.datetime(2010, 1, 6, 0, 0))]"
      ]
     },
     "execution_count": 67,
     "metadata": {},
     "output_type": "execute_result"
    }
   ],
   "source": [
    "df_time.head(10)"
   ]
  },
  {
   "cell_type": "code",
   "execution_count": 68,
   "id": "b8224ea1",
   "metadata": {
    "scrolled": true
   },
   "outputs": [
    {
     "name": "stderr",
     "output_type": "stream",
     "text": [
      "                                                                                \r"
     ]
    }
   ],
   "source": [
    "years_rows = years_rows \\\n",
    "    .dropna() \\\n",
    "    .dropDuplicates(['Year']) \\\n",
    "    .collect()\n",
    "\n",
    "years = [row.Year for row in years_rows]\n",
    "years.sort()"
   ]
  },
  {
   "cell_type": "code",
   "execution_count": 69,
   "id": "a185aecd",
   "metadata": {},
   "outputs": [
    {
     "data": {
      "text/plain": [
       "[2010, 2011, 2012, 2013, 2014, 2015, 2016, 2017, 2018, 2019]"
      ]
     },
     "execution_count": 69,
     "metadata": {},
     "output_type": "execute_result"
    }
   ],
   "source": [
    "years"
   ]
  },
  {
   "cell_type": "markdown",
   "id": "685264d3",
   "metadata": {},
   "source": [
    "### check parsed years\n",
    "Command:\n",
    "`print(years)`\n",
    "\n",
    "Output:\n",
    "`[2001]`"
   ]
  },
  {
   "cell_type": "code",
   "execution_count": 70,
   "id": "b51b19c4",
   "metadata": {},
   "outputs": [
    {
     "name": "stderr",
     "output_type": "stream",
     "text": [
      "                                                                                \r"
     ]
    },
    {
     "data": {
      "text/plain": [
       "183674"
      ]
     },
     "execution_count": 70,
     "metadata": {},
     "output_type": "execute_result"
    }
   ],
   "source": [
    "df_test = df_time \\\n",
    "    .repartition(24) \\\n",
    "    .filter(F.month('Timestamp') == 1)\n",
    "\n",
    "df_test.count()"
   ]
  },
  {
   "cell_type": "markdown",
   "id": "ef055959",
   "metadata": {},
   "source": [
    "### check count Jan: csv df, strdate col\n",
    "Command:\n",
    "```\n",
    "df_test = df_time \\\n",
    "    .filter(F.month('Timestamp') == 1)\n",
    "\n",
    "df_test.count()\n",
    "```\n",
    "chicago: `38114` san_francisco: `189723` los_angeles: `183674` austin: `3098`"
   ]
  },
  {
   "cell_type": "markdown",
   "id": "411d81a0",
   "metadata": {
    "scrolled": true
   },
   "source": [
    "### check date Jan1: csv df, strdate col\n",
    "Command:\n",
    "```\n",
    "df_test \\\n",
    "    .filter(F.dayofmonth('Timestamp') == 1) \\\n",
    "    .count()\n",
    "```\n",
    "chicago: `1825` san_francisco: ` ` los_angeles: ` ` austin: `97`"
   ]
  },
  {
   "cell_type": "code",
   "execution_count": 76,
   "id": "013e2c3c",
   "metadata": {
    "scrolled": true
   },
   "outputs": [
    {
     "name": "stderr",
     "output_type": "stream",
     "text": [
      "ERROR:root:KeyboardInterrupt while sending command.                 (0 + 2) / 4]\n",
      "Traceback (most recent call last):\n",
      "  File \"/opt/spark-3.3.0-bin-hadoop3/python/lib/py4j-0.10.9.5-src.zip/py4j/java_gateway.py\", line 1038, in send_command\n",
      "    response = connection.send_command(command)\n",
      "  File \"/opt/spark-3.3.0-bin-hadoop3/python/lib/py4j-0.10.9.5-src.zip/py4j/clientserver.py\", line 511, in send_command\n",
      "    answer = smart_decode(self.stream.readline()[:-1])\n",
      "  File \"/opt/conda/lib/python3.9/socket.py\", line 704, in readinto\n",
      "    return self._sock.recv_into(b)\n",
      "KeyboardInterrupt\n"
     ]
    },
    {
     "ename": "KeyboardInterrupt",
     "evalue": "",
     "output_type": "error",
     "traceback": [
      "\u001b[0;31m---------------------------------------------------------------------------\u001b[0m",
      "\u001b[0;31mKeyboardInterrupt\u001b[0m                         Traceback (most recent call last)",
      "Input \u001b[0;32mIn [76]\u001b[0m, in \u001b[0;36m<cell line: 4>\u001b[0;34m()\u001b[0m\n\u001b[1;32m     12\u001b[0m \u001b[38;5;28;01melif\u001b[39;00m city \u001b[38;5;241m==\u001b[39m f_cities[\u001b[38;5;241m2\u001b[39m]:\n\u001b[1;32m     13\u001b[0m     df_month \u001b[38;5;241m=\u001b[39m df_month\u001b[38;5;241m.\u001b[39mrepartition(\u001b[38;5;241m24\u001b[39m)\n\u001b[0;32m---> 14\u001b[0m \u001b[43mdf_month\u001b[49m\u001b[43m \u001b[49m\u001b[43m\\\u001b[49m\n\u001b[1;32m     15\u001b[0m \u001b[43m    \u001b[49m\u001b[38;5;241;43m.\u001b[39;49m\u001b[43mdrop\u001b[49m\u001b[43m(\u001b[49m\u001b[38;5;124;43m'\u001b[39;49m\u001b[38;5;124;43mTimestamp\u001b[39;49m\u001b[38;5;124;43m'\u001b[39;49m\u001b[43m,\u001b[49m\u001b[43m \u001b[49m\u001b[43mdt_str_col\u001b[49m\u001b[43m[\u001b[49m\u001b[43mcity\u001b[49m\u001b[43m]\u001b[49m\u001b[43m)\u001b[49m\u001b[43m \u001b[49m\u001b[43m\\\u001b[49m\n\u001b[1;32m     16\u001b[0m \u001b[43m    \u001b[49m\u001b[38;5;241;43m.\u001b[39;49m\u001b[43mwrite\u001b[49m\u001b[38;5;241;43m.\u001b[39;49m\u001b[43mparquet\u001b[49m\u001b[43m(\u001b[49m\u001b[38;5;124;43mf\u001b[39;49m\u001b[38;5;124;43m'\u001b[39;49m\u001b[38;5;132;43;01m{\u001b[39;49;00m\u001b[43mgcs_bkt\u001b[49m\u001b[38;5;132;43;01m}\u001b[39;49;00m\u001b[38;5;124;43m/pq/\u001b[39;49m\u001b[38;5;132;43;01m{\u001b[39;49;00m\u001b[43mcity\u001b[49m\u001b[38;5;132;43;01m}\u001b[39;49;00m\u001b[38;5;124;43m/\u001b[39;49m\u001b[38;5;132;43;01m{\u001b[39;49;00m\u001b[43myear\u001b[49m\u001b[38;5;132;43;01m}\u001b[39;49;00m\u001b[38;5;124;43m/\u001b[39;49m\u001b[38;5;132;43;01m{\u001b[39;49;00m\u001b[43mmonth\u001b[49m\u001b[38;5;132;43;01m}\u001b[39;49;00m\u001b[38;5;124;43m'\u001b[39;49m\u001b[43m,\u001b[49m\u001b[43m \u001b[49m\u001b[43mmode\u001b[49m\u001b[38;5;241;43m=\u001b[39;49m\u001b[38;5;124;43m'\u001b[39;49m\u001b[38;5;124;43moverwrite\u001b[39;49m\u001b[38;5;124;43m'\u001b[39;49m\u001b[43m)\u001b[49m\n",
      "File \u001b[0;32m/opt/spark-3.3.0-bin-hadoop3/python/pyspark/sql/readwriter.py:1140\u001b[0m, in \u001b[0;36mDataFrameWriter.parquet\u001b[0;34m(self, path, mode, partitionBy, compression)\u001b[0m\n\u001b[1;32m   1138\u001b[0m     \u001b[38;5;28mself\u001b[39m\u001b[38;5;241m.\u001b[39mpartitionBy(partitionBy)\n\u001b[1;32m   1139\u001b[0m \u001b[38;5;28mself\u001b[39m\u001b[38;5;241m.\u001b[39m_set_opts(compression\u001b[38;5;241m=\u001b[39mcompression)\n\u001b[0;32m-> 1140\u001b[0m \u001b[38;5;28;43mself\u001b[39;49m\u001b[38;5;241;43m.\u001b[39;49m\u001b[43m_jwrite\u001b[49m\u001b[38;5;241;43m.\u001b[39;49m\u001b[43mparquet\u001b[49m\u001b[43m(\u001b[49m\u001b[43mpath\u001b[49m\u001b[43m)\u001b[49m\n",
      "File \u001b[0;32m/opt/spark-3.3.0-bin-hadoop3/python/lib/py4j-0.10.9.5-src.zip/py4j/java_gateway.py:1320\u001b[0m, in \u001b[0;36mJavaMember.__call__\u001b[0;34m(self, *args)\u001b[0m\n\u001b[1;32m   1313\u001b[0m args_command, temp_args \u001b[38;5;241m=\u001b[39m \u001b[38;5;28mself\u001b[39m\u001b[38;5;241m.\u001b[39m_build_args(\u001b[38;5;241m*\u001b[39margs)\n\u001b[1;32m   1315\u001b[0m command \u001b[38;5;241m=\u001b[39m proto\u001b[38;5;241m.\u001b[39mCALL_COMMAND_NAME \u001b[38;5;241m+\u001b[39m\\\n\u001b[1;32m   1316\u001b[0m     \u001b[38;5;28mself\u001b[39m\u001b[38;5;241m.\u001b[39mcommand_header \u001b[38;5;241m+\u001b[39m\\\n\u001b[1;32m   1317\u001b[0m     args_command \u001b[38;5;241m+\u001b[39m\\\n\u001b[1;32m   1318\u001b[0m     proto\u001b[38;5;241m.\u001b[39mEND_COMMAND_PART\n\u001b[0;32m-> 1320\u001b[0m answer \u001b[38;5;241m=\u001b[39m \u001b[38;5;28;43mself\u001b[39;49m\u001b[38;5;241;43m.\u001b[39;49m\u001b[43mgateway_client\u001b[49m\u001b[38;5;241;43m.\u001b[39;49m\u001b[43msend_command\u001b[49m\u001b[43m(\u001b[49m\u001b[43mcommand\u001b[49m\u001b[43m)\u001b[49m\n\u001b[1;32m   1321\u001b[0m return_value \u001b[38;5;241m=\u001b[39m get_return_value(\n\u001b[1;32m   1322\u001b[0m     answer, \u001b[38;5;28mself\u001b[39m\u001b[38;5;241m.\u001b[39mgateway_client, \u001b[38;5;28mself\u001b[39m\u001b[38;5;241m.\u001b[39mtarget_id, \u001b[38;5;28mself\u001b[39m\u001b[38;5;241m.\u001b[39mname)\n\u001b[1;32m   1324\u001b[0m \u001b[38;5;28;01mfor\u001b[39;00m temp_arg \u001b[38;5;129;01min\u001b[39;00m temp_args:\n",
      "File \u001b[0;32m/opt/spark-3.3.0-bin-hadoop3/python/lib/py4j-0.10.9.5-src.zip/py4j/java_gateway.py:1038\u001b[0m, in \u001b[0;36mGatewayClient.send_command\u001b[0;34m(self, command, retry, binary)\u001b[0m\n\u001b[1;32m   1036\u001b[0m connection \u001b[38;5;241m=\u001b[39m \u001b[38;5;28mself\u001b[39m\u001b[38;5;241m.\u001b[39m_get_connection()\n\u001b[1;32m   1037\u001b[0m \u001b[38;5;28;01mtry\u001b[39;00m:\n\u001b[0;32m-> 1038\u001b[0m     response \u001b[38;5;241m=\u001b[39m \u001b[43mconnection\u001b[49m\u001b[38;5;241;43m.\u001b[39;49m\u001b[43msend_command\u001b[49m\u001b[43m(\u001b[49m\u001b[43mcommand\u001b[49m\u001b[43m)\u001b[49m\n\u001b[1;32m   1039\u001b[0m     \u001b[38;5;28;01mif\u001b[39;00m binary:\n\u001b[1;32m   1040\u001b[0m         \u001b[38;5;28;01mreturn\u001b[39;00m response, \u001b[38;5;28mself\u001b[39m\u001b[38;5;241m.\u001b[39m_create_connection_guard(connection)\n",
      "File \u001b[0;32m/opt/spark-3.3.0-bin-hadoop3/python/lib/py4j-0.10.9.5-src.zip/py4j/clientserver.py:511\u001b[0m, in \u001b[0;36mClientServerConnection.send_command\u001b[0;34m(self, command)\u001b[0m\n\u001b[1;32m    509\u001b[0m \u001b[38;5;28;01mtry\u001b[39;00m:\n\u001b[1;32m    510\u001b[0m     \u001b[38;5;28;01mwhile\u001b[39;00m \u001b[38;5;28;01mTrue\u001b[39;00m:\n\u001b[0;32m--> 511\u001b[0m         answer \u001b[38;5;241m=\u001b[39m smart_decode(\u001b[38;5;28;43mself\u001b[39;49m\u001b[38;5;241;43m.\u001b[39;49m\u001b[43mstream\u001b[49m\u001b[38;5;241;43m.\u001b[39;49m\u001b[43mreadline\u001b[49m\u001b[43m(\u001b[49m\u001b[43m)\u001b[49m[:\u001b[38;5;241m-\u001b[39m\u001b[38;5;241m1\u001b[39m])\n\u001b[1;32m    512\u001b[0m         logger\u001b[38;5;241m.\u001b[39mdebug(\u001b[38;5;124m\"\u001b[39m\u001b[38;5;124mAnswer received: \u001b[39m\u001b[38;5;132;01m{0}\u001b[39;00m\u001b[38;5;124m\"\u001b[39m\u001b[38;5;241m.\u001b[39mformat(answer))\n\u001b[1;32m    513\u001b[0m         \u001b[38;5;66;03m# Happens when a the other end is dead. There might be an empty\u001b[39;00m\n\u001b[1;32m    514\u001b[0m         \u001b[38;5;66;03m# answer before the socket raises an error.\u001b[39;00m\n",
      "File \u001b[0;32m/opt/conda/lib/python3.9/socket.py:704\u001b[0m, in \u001b[0;36mSocketIO.readinto\u001b[0;34m(self, b)\u001b[0m\n\u001b[1;32m    702\u001b[0m \u001b[38;5;28;01mwhile\u001b[39;00m \u001b[38;5;28;01mTrue\u001b[39;00m:\n\u001b[1;32m    703\u001b[0m     \u001b[38;5;28;01mtry\u001b[39;00m:\n\u001b[0;32m--> 704\u001b[0m         \u001b[38;5;28;01mreturn\u001b[39;00m \u001b[38;5;28;43mself\u001b[39;49m\u001b[38;5;241;43m.\u001b[39;49m\u001b[43m_sock\u001b[49m\u001b[38;5;241;43m.\u001b[39;49m\u001b[43mrecv_into\u001b[49m\u001b[43m(\u001b[49m\u001b[43mb\u001b[49m\u001b[43m)\u001b[49m\n\u001b[1;32m    705\u001b[0m     \u001b[38;5;28;01mexcept\u001b[39;00m timeout:\n\u001b[1;32m    706\u001b[0m         \u001b[38;5;28mself\u001b[39m\u001b[38;5;241m.\u001b[39m_timeout_occurred \u001b[38;5;241m=\u001b[39m \u001b[38;5;28;01mTrue\u001b[39;00m\n",
      "\u001b[0;31mKeyboardInterrupt\u001b[0m: "
     ]
    }
   ],
   "source": [
    "o_cols = df_time.columns\n",
    "cols = [col.lower().replace(' ', '_') for col in o_cols]\n",
    "\n",
    "for year in years:\n",
    "    df = df_time.filter(F.year('Timestamp') == year)\n",
    "    for month in range(1, 13):\n",
    "        df_month = df.filter(F.month('Timestamp') == month)\n",
    "        for i in range(len(o_cols)):\n",
    "            df_month = df_month.withColumnRenamed(o_cols[i], cols[i])\n",
    "        if dict_city['partitions'] > 1:\n",
    "            df_month = df_month.repartition(dict_city['partitions'])\n",
    "        df_month \\\n",
    "            .drop('Timestamp', dt_str_col[city]) \\\n",
    "            .write.parquet(f'{gcs_bkt}/pq/{city}/{year}/{month}', mode='overwrite')"
   ]
  },
  {
   "cell_type": "code",
   "execution_count": 80,
   "id": "a4af3715",
   "metadata": {},
   "outputs": [],
   "source": [
    "sc.stop()"
   ]
  },
  {
   "cell_type": "code",
   "execution_count": null,
   "id": "99affc65",
   "metadata": {},
   "outputs": [],
   "source": []
  }
 ],
 "metadata": {
  "kernelspec": {
   "display_name": "Python 3 (ipykernel)",
   "language": "python",
   "name": "python3"
  },
  "language_info": {
   "codemirror_mode": {
    "name": "ipython",
    "version": 3
   },
   "file_extension": ".py",
   "mimetype": "text/x-python",
   "name": "python",
   "nbconvert_exporter": "python",
   "pygments_lexer": "ipython3",
   "version": "3.9.12"
  }
 },
 "nbformat": 4,
 "nbformat_minor": 5
}
