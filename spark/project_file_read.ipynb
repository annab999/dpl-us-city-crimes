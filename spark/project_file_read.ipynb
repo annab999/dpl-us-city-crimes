{
 "cells": [
  {
   "cell_type": "code",
   "execution_count": 1,
   "id": "707d2ca1",
   "metadata": {},
   "outputs": [],
   "source": [
    "from pyspark.sql import SparkSession\n",
    "from pyspark.conf import SparkConf\n",
    "from pyspark.context import SparkContext"
   ]
  },
  {
   "cell_type": "code",
   "execution_count": 2,
   "id": "96f09ea1",
   "metadata": {},
   "outputs": [],
   "source": [
    "from pyspark.sql import types\n",
    "from pyspark.sql import functions as F"
   ]
  },
  {
   "cell_type": "code",
   "execution_count": 3,
   "id": "a2431242",
   "metadata": {},
   "outputs": [],
   "source": [
    "import os\n",
    "import pandas as pd\n",
    "import pendulum as pdl"
   ]
  },
  {
   "cell_type": "code",
   "execution_count": 4,
   "id": "49438451",
   "metadata": {},
   "outputs": [],
   "source": [
    "from city_vars import dict_cities"
   ]
  },
  {
   "cell_type": "markdown",
   "id": "86e89877",
   "metadata": {},
   "source": [
    "# inputs\n",
    "- city\n",
    "- fname"
   ]
  },
  {
   "cell_type": "code",
   "execution_count": 5,
   "id": "db295039",
   "metadata": {},
   "outputs": [],
   "source": [
    "city = 'Chicago'\n",
    "fname = ''\n",
    "dict_city = dict_cities[city]"
   ]
  },
  {
   "cell_type": "code",
   "execution_count": 7,
   "id": "d435ec37",
   "metadata": {},
   "outputs": [],
   "source": [
    "# for city-specific data\n",
    "cities = ['Chicago', 'San Francisco', 'Los Angeles', 'Austin']\n",
    "f_cities = [c.replace(' ', '_').lower() for c in cities]"
   ]
  },
  {
   "cell_type": "code",
   "execution_count": 6,
   "id": "0f8c447b",
   "metadata": {},
   "outputs": [],
   "source": [
    "gcs_bkt = os.getenv('GCP_GCS_BUCKET')"
   ]
  },
  {
   "cell_type": "code",
   "execution_count": 7,
   "id": "5b3026f9",
   "metadata": {},
   "outputs": [],
   "source": [
    "jar_path = os.getenv('JAR_FILE_LOC')\n",
    "creds_path = os.getenv('GOOGLE_APPLICATION_CREDENTIALS')\n",
    "\n",
    "conf = SparkConf() \\\n",
    "    .setMaster('spark://city-crimes-spark-1:7077') \\\n",
    "    .setAppName('proj_file_read') \\\n",
    "    .set(\"spark.jars\", jar_path)"
   ]
  },
  {
   "cell_type": "markdown",
   "id": "d7b43a2e",
   "metadata": {},
   "source": [
    "### Only if an existing one already runs:\n",
    "`sc.stop()`"
   ]
  },
  {
   "cell_type": "code",
   "execution_count": 10,
   "id": "154e8aac",
   "metadata": {},
   "outputs": [],
   "source": [
    "sc.stop()"
   ]
  },
  {
   "cell_type": "code",
   "execution_count": 11,
   "id": "624e4674",
   "metadata": {},
   "outputs": [],
   "source": [
    "sc = SparkContext(conf=conf)\n",
    "sc.addFile(\"chicago.csv\")\n",
    "sc.addPyFile(\"city_vars.py\")"
   ]
  },
  {
   "cell_type": "code",
   "execution_count": 31,
   "id": "90e8a048",
   "metadata": {},
   "outputs": [],
   "source": [
    "sc.addFile(\"chicago2020.csv\")"
   ]
  },
  {
   "cell_type": "code",
   "execution_count": 12,
   "id": "44a3fb16",
   "metadata": {},
   "outputs": [],
   "source": [
    "hconf = sc._jsc.hadoopConfiguration()\n",
    "\n",
    "hconf.set(\"fs.AbstractFileSystem.gs.impl\", \"com.google.cloud.hadoop.fs.gcs.GoogleHadoopFS\")\n",
    "hconf.set(\"fs.gs.impl\", \"com.google.cloud.hadoop.fs.gcs.GoogleHadoopFileSystem\")\n",
    "hconf.set(\"fs.gs.auth.service.account.json.keyfile\", creds_path)\n",
    "hconf.set(\"fs.gs.auth.service.account.enable\", \"true\")"
   ]
  },
  {
   "cell_type": "code",
   "execution_count": 13,
   "id": "50e9c26e",
   "metadata": {},
   "outputs": [],
   "source": [
    "spark = SparkSession.builder \\\n",
    "    .config(conf=sc.getConf()) \\\n",
    "    .getOrCreate()"
   ]
  },
  {
   "cell_type": "markdown",
   "id": "2081160d",
   "metadata": {},
   "source": [
    "***"
   ]
  },
  {
   "cell_type": "markdown",
   "id": "2ce8ddf3",
   "metadata": {},
   "source": [
    "### first, open dataset page and check data dictionary on columns"
   ]
  },
  {
   "cell_type": "markdown",
   "id": "b0e4bbef",
   "metadata": {
    "scrolled": true
   },
   "source": [
    "### 1-time sample download for pandas reading to infer schema for everything else:\n",
    "\n",
    "command:\n",
    "`!wget https://data.cityofchicago.org/api/views/hx8q-mf9v/rows.csv?accessType=DOWNLOAD`\n",
    "\n",
    "note: file is `Crimes_-_2012.csv`\n",
    "\n",
    "output:\n",
    "```\n",
    "--2022-10-22 08:53:42--  https://data.cityofchicago.org/api/views/hx8q-mf9v/rows.csv?accessType=DOWNLOAD\n",
    "Resolving data.cityofchicago.org (data.cityofchicago.org)... 52.206.140.205, 52.206.68.26, 52.206.140.199\n",
    "Connecting to data.cityofchicago.org (data.cityofchicago.org)|52.206.140.205|:443... connected.\n",
    "HTTP request sent, awaiting response... 200 OK\n",
    "Length: unspecified [text/csv]\n",
    "Saving to: ‘rows.csv?accessType=DOWNLOAD’\n",
    "\n",
    "rows.csv?accessType     [          <=>       ]  75.99M  2.54MB/s    in 28s     \n",
    "\n",
    "2022-10-22 08:54:11 (2.68 MB/s) - ‘rows.csv?accessType=DOWNLOAD’ saved [79677853]\n",
    "```"
   ]
  },
  {
   "cell_type": "code",
   "execution_count": 27,
   "id": "b10f9258",
   "metadata": {},
   "outputs": [
    {
     "name": "stdout",
     "output_type": "stream",
     "text": [
      "--2022-11-11 10:50:04--  https://data.cityofchicago.org/api/views/qzdf-xmn8/rows.csv?accessType=DOWNLOAD\n",
      "Resolving data.cityofchicago.org (data.cityofchicago.org)... 52.206.68.26, 52.206.140.199, 52.206.140.205\n",
      "Connecting to data.cityofchicago.org (data.cityofchicago.org)|52.206.68.26|:443... connected.\n",
      "HTTP request sent, awaiting response... 200 OK\n",
      "Length: unspecified [text/csv]\n",
      "Saving to: ‘chicago2020.csv’\n",
      "\n",
      "chicago2020.csv         [              <=>   ]  48.47M  1.50MB/s    in 27s     \n",
      "\n",
      "2022-11-11 10:50:32 (1.82 MB/s) - ‘chicago2020.csv’ saved [50827481]\n",
      "\n"
     ]
    }
   ],
   "source": [
    "!wget https://data.cityofchicago.org/api/views/qzdf-xmn8/rows.csv?accessType=DOWNLOAD -O chicago2020.csv"
   ]
  },
  {
   "cell_type": "markdown",
   "id": "e2cf5a7c",
   "metadata": {},
   "source": [
    "### check count here: raw csv file\n",
    "command:\n",
    "`!wc -l rows.csv?accessType=DOWNLOAD`\n",
    "\n",
    "chicago1: `485854 rows.csv?accessType=DOWNLOAD`\n",
    "chicago12: `336247 rows.csv?accessType=DOWNLOAD`\n",
    "chicago15: `264706 chicago.csv`\n",
    "chicago20: `211936 chicago2020.csv`\n",
    "\n",
    "austin: `35098 rows.csv?accessType=DOWNLOAD.1`\n",
    "los angeles: `2119798 rows.csv?accessType=DOWNLOAD.3`\n",
    "san francisco: `2129526 rows.csv?accessType=DOWNLOAD.2`"
   ]
  },
  {
   "cell_type": "code",
   "execution_count": 28,
   "id": "c142a4b2",
   "metadata": {
    "scrolled": true
   },
   "outputs": [
    {
     "name": "stdout",
     "output_type": "stream",
     "text": [
      "211936 chicago2020.csv\r\n"
     ]
    }
   ],
   "source": [
    "!wc -l chicago2020.csv"
   ]
  },
  {
   "cell_type": "code",
   "execution_count": 29,
   "id": "e3988734",
   "metadata": {},
   "outputs": [
    {
     "data": {
      "text/plain": [
       "Index(['ID', 'Case Number', 'Date', 'Block', 'IUCR', 'Primary Type',\n",
       "       'Description', 'Location Description', 'Arrest', 'Domestic', 'Beat',\n",
       "       'District', 'Ward', 'Community Area', 'FBI Code', 'X Coordinate',\n",
       "       'Y Coordinate', 'Year', 'Updated On', 'Latitude', 'Longitude',\n",
       "       'Location'],\n",
       "      dtype='object')"
      ]
     },
     "execution_count": 29,
     "metadata": {},
     "output_type": "execute_result"
    }
   ],
   "source": [
    "df_pd = pd.read_csv('chicago2020.csv', nrows=1000)\n",
    "df_pd.columns"
   ]
  },
  {
   "cell_type": "markdown",
   "id": "deebdbfb",
   "metadata": {},
   "source": [
    "### see sample of data\n",
    "Command: `df_pd`"
   ]
  },
  {
   "cell_type": "code",
   "execution_count": 30,
   "id": "fb49c8ee",
   "metadata": {},
   "outputs": [
    {
     "data": {
      "text/plain": [
       "0      03/17/2020 09:30:00 PM\n",
       "1      03/18/2020 02:03:00 AM\n",
       "2      03/18/2020 08:50:00 AM\n",
       "3      03/18/2020 01:00:00 PM\n",
       "4      03/18/2020 05:35:00 PM\n",
       "                ...          \n",
       "995    12/11/2020 09:30:00 AM\n",
       "996    08/07/2020 12:30:00 AM\n",
       "997    08/09/2020 06:40:00 AM\n",
       "998    08/09/2020 09:40:00 PM\n",
       "999    08/07/2020 11:00:00 PM\n",
       "Name: Date, Length: 1000, dtype: object"
      ]
     },
     "execution_count": 30,
     "metadata": {},
     "output_type": "execute_result"
    }
   ],
   "source": [
    "df_pd['Date']"
   ]
  },
  {
   "cell_type": "code",
   "execution_count": 21,
   "id": "99e75bb1",
   "metadata": {
    "scrolled": true
   },
   "outputs": [
    {
     "data": {
      "text/html": [
       "<div>\n",
       "<style scoped>\n",
       "    .dataframe tbody tr th:only-of-type {\n",
       "        vertical-align: middle;\n",
       "    }\n",
       "\n",
       "    .dataframe tbody tr th {\n",
       "        vertical-align: top;\n",
       "    }\n",
       "\n",
       "    .dataframe thead th {\n",
       "        text-align: right;\n",
       "    }\n",
       "</style>\n",
       "<table border=\"1\" class=\"dataframe\">\n",
       "  <thead>\n",
       "    <tr style=\"text-align: right;\">\n",
       "      <th></th>\n",
       "      <th>ID</th>\n",
       "      <th>Case Number</th>\n",
       "      <th>Date</th>\n",
       "      <th>Block</th>\n",
       "      <th>IUCR</th>\n",
       "      <th>Primary Type</th>\n",
       "      <th>Description</th>\n",
       "      <th>Location Description</th>\n",
       "      <th>Arrest</th>\n",
       "      <th>Domestic</th>\n",
       "      <th>Beat</th>\n",
       "      <th>District</th>\n",
       "      <th>Ward</th>\n",
       "      <th>Community Area</th>\n",
       "      <th>FBI Code</th>\n",
       "      <th>X Coordinate</th>\n",
       "      <th>Y Coordinate</th>\n",
       "      <th>Year</th>\n",
       "      <th>Updated On</th>\n",
       "      <th>Latitude</th>\n",
       "      <th>Longitude</th>\n",
       "      <th>Location</th>\n",
       "    </tr>\n",
       "  </thead>\n",
       "  <tbody>\n",
       "    <tr>\n",
       "      <th>0</th>\n",
       "      <td>10224738</td>\n",
       "      <td>HY411648</td>\n",
       "      <td>09/05/2015 01:30:00 PM</td>\n",
       "      <td>043XX S WOOD ST</td>\n",
       "      <td>0486</td>\n",
       "      <td>BATTERY</td>\n",
       "      <td>DOMESTIC BATTERY SIMPLE</td>\n",
       "      <td>RESIDENCE</td>\n",
       "      <td>False</td>\n",
       "      <td>True</td>\n",
       "      <td>924</td>\n",
       "      <td>9</td>\n",
       "      <td>12</td>\n",
       "      <td>61</td>\n",
       "      <td>08B</td>\n",
       "      <td>1165074.0</td>\n",
       "      <td>1875917.0</td>\n",
       "      <td>2015</td>\n",
       "      <td>02/10/2018 03:50:01 PM</td>\n",
       "      <td>41.815117</td>\n",
       "      <td>-87.670000</td>\n",
       "      <td>(41.815117282, -87.669999562)</td>\n",
       "    </tr>\n",
       "    <tr>\n",
       "      <th>1</th>\n",
       "      <td>10224739</td>\n",
       "      <td>HY411615</td>\n",
       "      <td>09/04/2015 11:30:00 AM</td>\n",
       "      <td>008XX N CENTRAL AVE</td>\n",
       "      <td>0870</td>\n",
       "      <td>THEFT</td>\n",
       "      <td>POCKET-PICKING</td>\n",
       "      <td>CTA BUS</td>\n",
       "      <td>False</td>\n",
       "      <td>False</td>\n",
       "      <td>1511</td>\n",
       "      <td>15</td>\n",
       "      <td>29</td>\n",
       "      <td>25</td>\n",
       "      <td>06</td>\n",
       "      <td>1138875.0</td>\n",
       "      <td>1904869.0</td>\n",
       "      <td>2015</td>\n",
       "      <td>02/10/2018 03:50:01 PM</td>\n",
       "      <td>41.895080</td>\n",
       "      <td>-87.765400</td>\n",
       "      <td>(41.895080471, -87.765400451)</td>\n",
       "    </tr>\n",
       "    <tr>\n",
       "      <th>2</th>\n",
       "      <td>10224740</td>\n",
       "      <td>HY411595</td>\n",
       "      <td>09/05/2015 12:45:00 PM</td>\n",
       "      <td>035XX W BARRY AVE</td>\n",
       "      <td>2023</td>\n",
       "      <td>NARCOTICS</td>\n",
       "      <td>POSS: HEROIN(BRN/TAN)</td>\n",
       "      <td>SIDEWALK</td>\n",
       "      <td>True</td>\n",
       "      <td>False</td>\n",
       "      <td>1412</td>\n",
       "      <td>14</td>\n",
       "      <td>35</td>\n",
       "      <td>21</td>\n",
       "      <td>18</td>\n",
       "      <td>1152037.0</td>\n",
       "      <td>1920384.0</td>\n",
       "      <td>2015</td>\n",
       "      <td>02/10/2018 03:50:01 PM</td>\n",
       "      <td>41.937406</td>\n",
       "      <td>-87.716650</td>\n",
       "      <td>(41.937405765, -87.716649687)</td>\n",
       "    </tr>\n",
       "    <tr>\n",
       "      <th>3</th>\n",
       "      <td>10224741</td>\n",
       "      <td>HY411610</td>\n",
       "      <td>09/05/2015 01:00:00 PM</td>\n",
       "      <td>0000X N LARAMIE AVE</td>\n",
       "      <td>0560</td>\n",
       "      <td>ASSAULT</td>\n",
       "      <td>SIMPLE</td>\n",
       "      <td>APARTMENT</td>\n",
       "      <td>False</td>\n",
       "      <td>True</td>\n",
       "      <td>1522</td>\n",
       "      <td>15</td>\n",
       "      <td>28</td>\n",
       "      <td>25</td>\n",
       "      <td>08A</td>\n",
       "      <td>1141706.0</td>\n",
       "      <td>1900086.0</td>\n",
       "      <td>2015</td>\n",
       "      <td>02/10/2018 03:50:01 PM</td>\n",
       "      <td>41.881903</td>\n",
       "      <td>-87.755121</td>\n",
       "      <td>(41.881903443, -87.755121152)</td>\n",
       "    </tr>\n",
       "    <tr>\n",
       "      <th>4</th>\n",
       "      <td>10224742</td>\n",
       "      <td>HY411435</td>\n",
       "      <td>09/05/2015 10:55:00 AM</td>\n",
       "      <td>082XX S LOOMIS BLVD</td>\n",
       "      <td>0610</td>\n",
       "      <td>BURGLARY</td>\n",
       "      <td>FORCIBLE ENTRY</td>\n",
       "      <td>RESIDENCE</td>\n",
       "      <td>False</td>\n",
       "      <td>False</td>\n",
       "      <td>614</td>\n",
       "      <td>6</td>\n",
       "      <td>21</td>\n",
       "      <td>71</td>\n",
       "      <td>05</td>\n",
       "      <td>1168430.0</td>\n",
       "      <td>1850165.0</td>\n",
       "      <td>2015</td>\n",
       "      <td>02/10/2018 03:50:01 PM</td>\n",
       "      <td>41.744379</td>\n",
       "      <td>-87.658431</td>\n",
       "      <td>(41.744378879, -87.658430635)</td>\n",
       "    </tr>\n",
       "    <tr>\n",
       "      <th>...</th>\n",
       "      <td>...</td>\n",
       "      <td>...</td>\n",
       "      <td>...</td>\n",
       "      <td>...</td>\n",
       "      <td>...</td>\n",
       "      <td>...</td>\n",
       "      <td>...</td>\n",
       "      <td>...</td>\n",
       "      <td>...</td>\n",
       "      <td>...</td>\n",
       "      <td>...</td>\n",
       "      <td>...</td>\n",
       "      <td>...</td>\n",
       "      <td>...</td>\n",
       "      <td>...</td>\n",
       "      <td>...</td>\n",
       "      <td>...</td>\n",
       "      <td>...</td>\n",
       "      <td>...</td>\n",
       "      <td>...</td>\n",
       "      <td>...</td>\n",
       "      <td>...</td>\n",
       "    </tr>\n",
       "    <tr>\n",
       "      <th>995</th>\n",
       "      <td>10225977</td>\n",
       "      <td>HY413363</td>\n",
       "      <td>09/06/2015 11:20:00 PM</td>\n",
       "      <td>080XX S MARQUETTE AVE</td>\n",
       "      <td>0486</td>\n",
       "      <td>BATTERY</td>\n",
       "      <td>DOMESTIC BATTERY SIMPLE</td>\n",
       "      <td>RESIDENCE PORCH/HALLWAY</td>\n",
       "      <td>False</td>\n",
       "      <td>True</td>\n",
       "      <td>422</td>\n",
       "      <td>4</td>\n",
       "      <td>7</td>\n",
       "      <td>46</td>\n",
       "      <td>08B</td>\n",
       "      <td>1195571.0</td>\n",
       "      <td>1852233.0</td>\n",
       "      <td>2015</td>\n",
       "      <td>02/10/2018 03:50:01 PM</td>\n",
       "      <td>41.749426</td>\n",
       "      <td>-87.558916</td>\n",
       "      <td>(41.749426458, -87.558916107)</td>\n",
       "    </tr>\n",
       "    <tr>\n",
       "      <th>996</th>\n",
       "      <td>10225978</td>\n",
       "      <td>HY413353</td>\n",
       "      <td>09/06/2015 10:22:00 PM</td>\n",
       "      <td>061XX W MONTROSE AVE</td>\n",
       "      <td>0560</td>\n",
       "      <td>ASSAULT</td>\n",
       "      <td>SIMPLE</td>\n",
       "      <td>RESIDENCE PORCH/HALLWAY</td>\n",
       "      <td>True</td>\n",
       "      <td>False</td>\n",
       "      <td>1622</td>\n",
       "      <td>16</td>\n",
       "      <td>38</td>\n",
       "      <td>15</td>\n",
       "      <td>08A</td>\n",
       "      <td>1134809.0</td>\n",
       "      <td>1928614.0</td>\n",
       "      <td>2015</td>\n",
       "      <td>02/10/2018 03:50:01 PM</td>\n",
       "      <td>41.960312</td>\n",
       "      <td>-87.779771</td>\n",
       "      <td>(41.960312361, -87.779771036)</td>\n",
       "    </tr>\n",
       "    <tr>\n",
       "      <th>997</th>\n",
       "      <td>10225979</td>\n",
       "      <td>HY413331</td>\n",
       "      <td>09/06/2015 10:36:00 PM</td>\n",
       "      <td>012XX S STATE ST</td>\n",
       "      <td>0486</td>\n",
       "      <td>BATTERY</td>\n",
       "      <td>DOMESTIC BATTERY SIMPLE</td>\n",
       "      <td>APARTMENT</td>\n",
       "      <td>False</td>\n",
       "      <td>True</td>\n",
       "      <td>131</td>\n",
       "      <td>1</td>\n",
       "      <td>2</td>\n",
       "      <td>33</td>\n",
       "      <td>08B</td>\n",
       "      <td>1176530.0</td>\n",
       "      <td>1894821.0</td>\n",
       "      <td>2015</td>\n",
       "      <td>02/10/2018 03:50:01 PM</td>\n",
       "      <td>41.866741</td>\n",
       "      <td>-87.627407</td>\n",
       "      <td>(41.866740943, -87.627407483)</td>\n",
       "    </tr>\n",
       "    <tr>\n",
       "      <th>998</th>\n",
       "      <td>10225980</td>\n",
       "      <td>HY434905</td>\n",
       "      <td>09/06/2015 08:49:00 PM</td>\n",
       "      <td>005XX S CENTRAL AVE</td>\n",
       "      <td>1811</td>\n",
       "      <td>NARCOTICS</td>\n",
       "      <td>POSS: CANNABIS 30GMS OR LESS</td>\n",
       "      <td>STREET</td>\n",
       "      <td>True</td>\n",
       "      <td>False</td>\n",
       "      <td>1522</td>\n",
       "      <td>15</td>\n",
       "      <td>29</td>\n",
       "      <td>25</td>\n",
       "      <td>18</td>\n",
       "      <td>1139141.0</td>\n",
       "      <td>1897027.0</td>\n",
       "      <td>2015</td>\n",
       "      <td>02/10/2018 03:50:01 PM</td>\n",
       "      <td>41.873556</td>\n",
       "      <td>-87.764614</td>\n",
       "      <td>(41.873556181, -87.764614362)</td>\n",
       "    </tr>\n",
       "    <tr>\n",
       "      <th>999</th>\n",
       "      <td>10225981</td>\n",
       "      <td>HY413333</td>\n",
       "      <td>09/06/2015 10:51:00 PM</td>\n",
       "      <td>044XX N KIMBALL AVE</td>\n",
       "      <td>051A</td>\n",
       "      <td>ASSAULT</td>\n",
       "      <td>AGGRAVATED: HANDGUN</td>\n",
       "      <td>STREET</td>\n",
       "      <td>True</td>\n",
       "      <td>False</td>\n",
       "      <td>1724</td>\n",
       "      <td>17</td>\n",
       "      <td>33</td>\n",
       "      <td>14</td>\n",
       "      <td>04A</td>\n",
       "      <td>1152918.0</td>\n",
       "      <td>1929399.0</td>\n",
       "      <td>2015</td>\n",
       "      <td>02/10/2018 03:50:01 PM</td>\n",
       "      <td>41.962126</td>\n",
       "      <td>-87.713172</td>\n",
       "      <td>(41.962126133, -87.713172111)</td>\n",
       "    </tr>\n",
       "  </tbody>\n",
       "</table>\n",
       "<p>1000 rows × 22 columns</p>\n",
       "</div>"
      ],
      "text/plain": [
       "           ID Case Number                    Date                  Block  \\\n",
       "0    10224738    HY411648  09/05/2015 01:30:00 PM        043XX S WOOD ST   \n",
       "1    10224739    HY411615  09/04/2015 11:30:00 AM    008XX N CENTRAL AVE   \n",
       "2    10224740    HY411595  09/05/2015 12:45:00 PM      035XX W BARRY AVE   \n",
       "3    10224741    HY411610  09/05/2015 01:00:00 PM    0000X N LARAMIE AVE   \n",
       "4    10224742    HY411435  09/05/2015 10:55:00 AM    082XX S LOOMIS BLVD   \n",
       "..        ...         ...                     ...                    ...   \n",
       "995  10225977    HY413363  09/06/2015 11:20:00 PM  080XX S MARQUETTE AVE   \n",
       "996  10225978    HY413353  09/06/2015 10:22:00 PM   061XX W MONTROSE AVE   \n",
       "997  10225979    HY413331  09/06/2015 10:36:00 PM       012XX S STATE ST   \n",
       "998  10225980    HY434905  09/06/2015 08:49:00 PM    005XX S CENTRAL AVE   \n",
       "999  10225981    HY413333  09/06/2015 10:51:00 PM    044XX N KIMBALL AVE   \n",
       "\n",
       "     IUCR Primary Type                   Description     Location Description  \\\n",
       "0    0486      BATTERY       DOMESTIC BATTERY SIMPLE                RESIDENCE   \n",
       "1    0870        THEFT                POCKET-PICKING                  CTA BUS   \n",
       "2    2023    NARCOTICS         POSS: HEROIN(BRN/TAN)                 SIDEWALK   \n",
       "3    0560      ASSAULT                        SIMPLE                APARTMENT   \n",
       "4    0610     BURGLARY                FORCIBLE ENTRY                RESIDENCE   \n",
       "..    ...          ...                           ...                      ...   \n",
       "995  0486      BATTERY       DOMESTIC BATTERY SIMPLE  RESIDENCE PORCH/HALLWAY   \n",
       "996  0560      ASSAULT                        SIMPLE  RESIDENCE PORCH/HALLWAY   \n",
       "997  0486      BATTERY       DOMESTIC BATTERY SIMPLE                APARTMENT   \n",
       "998  1811    NARCOTICS  POSS: CANNABIS 30GMS OR LESS                   STREET   \n",
       "999  051A      ASSAULT           AGGRAVATED: HANDGUN                   STREET   \n",
       "\n",
       "     Arrest  Domestic  Beat  District  Ward  Community Area FBI Code  \\\n",
       "0     False      True   924         9    12              61      08B   \n",
       "1     False     False  1511        15    29              25       06   \n",
       "2      True     False  1412        14    35              21       18   \n",
       "3     False      True  1522        15    28              25      08A   \n",
       "4     False     False   614         6    21              71       05   \n",
       "..      ...       ...   ...       ...   ...             ...      ...   \n",
       "995   False      True   422         4     7              46      08B   \n",
       "996    True     False  1622        16    38              15      08A   \n",
       "997   False      True   131         1     2              33      08B   \n",
       "998    True     False  1522        15    29              25       18   \n",
       "999    True     False  1724        17    33              14      04A   \n",
       "\n",
       "     X Coordinate  Y Coordinate  Year              Updated On   Latitude  \\\n",
       "0       1165074.0     1875917.0  2015  02/10/2018 03:50:01 PM  41.815117   \n",
       "1       1138875.0     1904869.0  2015  02/10/2018 03:50:01 PM  41.895080   \n",
       "2       1152037.0     1920384.0  2015  02/10/2018 03:50:01 PM  41.937406   \n",
       "3       1141706.0     1900086.0  2015  02/10/2018 03:50:01 PM  41.881903   \n",
       "4       1168430.0     1850165.0  2015  02/10/2018 03:50:01 PM  41.744379   \n",
       "..            ...           ...   ...                     ...        ...   \n",
       "995     1195571.0     1852233.0  2015  02/10/2018 03:50:01 PM  41.749426   \n",
       "996     1134809.0     1928614.0  2015  02/10/2018 03:50:01 PM  41.960312   \n",
       "997     1176530.0     1894821.0  2015  02/10/2018 03:50:01 PM  41.866741   \n",
       "998     1139141.0     1897027.0  2015  02/10/2018 03:50:01 PM  41.873556   \n",
       "999     1152918.0     1929399.0  2015  02/10/2018 03:50:01 PM  41.962126   \n",
       "\n",
       "     Longitude                       Location  \n",
       "0   -87.670000  (41.815117282, -87.669999562)  \n",
       "1   -87.765400  (41.895080471, -87.765400451)  \n",
       "2   -87.716650  (41.937405765, -87.716649687)  \n",
       "3   -87.755121  (41.881903443, -87.755121152)  \n",
       "4   -87.658431  (41.744378879, -87.658430635)  \n",
       "..         ...                            ...  \n",
       "995 -87.558916  (41.749426458, -87.558916107)  \n",
       "996 -87.779771  (41.960312361, -87.779771036)  \n",
       "997 -87.627407  (41.866740943, -87.627407483)  \n",
       "998 -87.764614  (41.873556181, -87.764614362)  \n",
       "999 -87.713172  (41.962126133, -87.713172111)  \n",
       "\n",
       "[1000 rows x 22 columns]"
      ]
     },
     "execution_count": 21,
     "metadata": {},
     "output_type": "execute_result"
    }
   ],
   "source": [
    "pd.set_option('display.max_columns', None)\n",
    "df_pd"
   ]
  },
  {
   "cell_type": "code",
   "execution_count": 16,
   "id": "99b18f50",
   "metadata": {},
   "outputs": [
    {
     "name": "stdout",
     "output_type": "stream",
     "text": [
      "total 61320\r\n",
      "drwxrwxr-x. 4 1108935039 root      194 Nov 10 16:35 .\r\n",
      "drwxr-xr-x. 1 spark-user root       75 Nov 10 06:14 ..\r\n",
      "drwxr-xr-x. 2 spark-user root       48 Nov 10 09:41 .ipynb_checkpoints\r\n",
      "-rw-rw-r--. 1 1108935039 root     2066 Nov  9 15:12 Dockerfile\r\n",
      "drwxr-xr-x. 2 spark-user root       38 Nov 10 09:54 __pycache__\r\n",
      "-rw-r--r--. 1 spark-user root 62663015 Nov  9 12:04 chicago.csv\r\n",
      "-rw-rw-r--. 1 1108935039 root     9597 Nov 10 04:45 city_vars.py\r\n",
      "-rw-rw-r--. 1 1108935039 root    91685 Nov 10 16:35 project_file_read.ipynb\r\n",
      "-rw-rw-r--. 1 1108935039 root     9481 Nov  8 07:46 project_year_read.ipynb\r\n",
      "-rw-rw-r--. 1 1108935039 root       15 Nov  8 07:44 requirements.txt\r\n"
     ]
    }
   ],
   "source": [
    "!ls -la"
   ]
  },
  {
   "cell_type": "code",
   "execution_count": 23,
   "id": "e04037c8",
   "metadata": {},
   "outputs": [],
   "source": [
    "cols = ['ID', 'Case Number', 'Date', 'Block', 'IUCR', 'Primary Type',\n",
    "    'Description', 'Arrest', 'Domestic', 'Beat',\n",
    "    'District', 'Ward', 'Community Area',\n",
    "    'FBI Code', 'X Coordinate', 'Y Coordinate', 'Year',\n",
    "    'Updated On', 'Latitude', 'Longitude']\n",
    "df_pd = pd.read_csv('rows.csv?accessType=DOWNLOAD', nrows=1000, usecols=cols)"
   ]
  },
  {
   "cell_type": "markdown",
   "id": "f2ee772d",
   "metadata": {},
   "source": [
    "### initial commands for all (1 cell each)\n",
    "Commands:\n",
    "```\n",
    "df_pd = pd.read_csv('rows.csv?accessType=DOWNLOAD.1', nrows=1000)\n",
    "df_pd.columns\n",
    "```\n",
    "get output, then:\n",
    "```\n",
    "spark.createDataFrame(df_pd).schema\n",
    "```\n",
    "if with error, then:\n",
    "```\n",
    "cols = <PASTE COLUMN LIST HERE, REMOVE PROBLEMATIC COL>\n",
    "\n",
    "df_pd = pd.read_csv('<EDIT FILENAME>', nrows=1000, usecols=cols)\n",
    "```\n",
    "\n",
    "### for Chicago because of `TypeError: Can not merge type (pandas string to spark double) for 'Location Description', 'location' fields`\n",
    "```\n",
    "cols = ['Case Number', 'Date', 'Block', 'IUCR', 'Primary Type', 'Description', 'Arrest', 'Domestic', 'Beat', 'Ward', 'FBI Code', 'X Coordinate', 'Y Coordinate', 'Year', 'Latitude', 'Longitude']\n",
    "```\n",
    "\n",
    "### for Los Angeles because of `TypeError: Can not merge type (pandas string/double to spark double/string) for 'Cross Street', 'Weapon Desc', 'Mocodes', 'Vict Sex', 'Vict Descent'`\n",
    "Commands:\n",
    "```\n",
    "cols = ['DR_NO', 'Date Rptd', 'DATE OCC', 'TIME OCC', 'AREA ', 'AREA NAME', 'Rpt Dist No', 'Part 1-2', 'Crm Cd', 'Crm Cd Desc', 'Vict Age', 'Premis Cd', 'Premis Desc', 'Weapon Used Cd', 'Status', 'Status Desc', 'Crm Cd 1', 'Crm Cd 2', 'Crm Cd 3', 'Crm Cd 4', 'LOCATION', 'LAT', 'LON']\n",
    "```\n",
    "\n",
    "### for Austin because of `TypeError: Can not merge type (pandas string to spark double) for 'Clearance Status', 'Clearance Date', 'GO Location' fields`\n",
    "Commands:\n",
    "```\n",
    "cols = ['GO Primary Key', 'Council District', 'GO Highest Offense Desc', 'Highest NIBRS/UCR Offense Description', 'GO Report Date', 'GO District', 'GO Location Zip', 'GO Census Tract', 'GO X Coordinate', 'GO Y Coordinate']\n",
    "```"
   ]
  },
  {
   "cell_type": "code",
   "execution_count": 15,
   "id": "5977e52d",
   "metadata": {
    "scrolled": true
   },
   "outputs": [],
   "source": [
    "schema_template = types.StructType([               # modified pattern from pandas schema\n",
    "    types.StructField('ID', types.IntegerType(), True),\n",
    "    types.StructField('Case Number', types.StringType(), True),\n",
    "    types.StructField('Date', types.StringType(), True),\n",
    "    types.StructField('Block', types.StringType(), True),\n",
    "    types.StructField('IUCR', types.StringType(), True),\n",
    "    types.StructField('Primary Type', types.StringType(), True),\n",
    "    types.StructField('Description', types.StringType(), True),\n",
    "    types.StructField('Location Description', types.StringType(), True),\n",
    "    types.StructField('Arrest', types.BooleanType(), True),\n",
    "    types.StructField('Domestic', types.BooleanType(), True),\n",
    "    types.StructField('Beat', types.StringType(), True),\n",
    "    types.StructField('District', types.StringType(), True),\n",
    "    types.StructField('Ward', types.IntegerType(), True),\n",
    "    types.StructField('Community Area', types.IntegerType(), True),\n",
    "    types.StructField('FBI Code', types.StringType(), True),\n",
    "    types.StructField('X Coordinate', types.FloatType(), True),\n",
    "    types.StructField('Y Coordinate', types.FloatType(), True),\n",
    "    types.StructField('Year', types.IntegerType(), True),\n",
    "    types.StructField('Updated On', types.StringType(), True),\n",
    "    types.StructField('Latitude', types.FloatType(), True),\n",
    "    types.StructField('Longitude', types.FloatType(), True),\n",
    "    types.StructField('Location', types.StringType(), True)\n",
    "])"
   ]
  },
  {
   "cell_type": "markdown",
   "id": "286e7c07",
   "metadata": {},
   "source": [
    "### modify schema output above and removed columns, based on sample output before, then add template below"
   ]
  },
  {
   "cell_type": "markdown",
   "id": "f53fe796",
   "metadata": {},
   "source": [
    "### Replace below with me:\n",
    "```\n",
    "df_csv = spark.read \\\n",
    "    .option(\"header\", \"true\") \\\n",
    "    .schema(schema_template) \\\n",
    "    .csv(f'{gcs_bkt}/raw/{city}/{fname}')\n",
    "```"
   ]
  },
  {
   "cell_type": "code",
   "execution_count": 32,
   "id": "377b7d66",
   "metadata": {},
   "outputs": [],
   "source": [
    "df_csv = spark.read \\\n",
    "    .option(\"header\", \"true\") \\\n",
    "    .schema(schema_template) \\\n",
    "    .csv('chicago2020.csv')"
   ]
  },
  {
   "cell_type": "code",
   "execution_count": 33,
   "id": "192c7f08",
   "metadata": {},
   "outputs": [
    {
     "name": "stdout",
     "output_type": "stream",
     "text": [
      "spark.master=spark://city-crimes-spark-1:7077\n",
      "spark.app.name=proj_file_read\n",
      "spark.jars=/opt/hadoop-lib/gcs-connector-hadoop3-latest.jar\n"
     ]
    }
   ],
   "source": [
    "print(conf.toDebugString())"
   ]
  },
  {
   "cell_type": "code",
   "execution_count": 34,
   "id": "d809899d",
   "metadata": {},
   "outputs": [
    {
     "data": {
      "text/plain": [
       "[('spark.driver.extraJavaOptions',\n",
       "  '-XX:+IgnoreUnrecognizedVMOptions --add-opens=java.base/java.lang=ALL-UNNAMED --add-opens=java.base/java.lang.invoke=ALL-UNNAMED --add-opens=java.base/java.lang.reflect=ALL-UNNAMED --add-opens=java.base/java.io=ALL-UNNAMED --add-opens=java.base/java.net=ALL-UNNAMED --add-opens=java.base/java.nio=ALL-UNNAMED --add-opens=java.base/java.util=ALL-UNNAMED --add-opens=java.base/java.util.concurrent=ALL-UNNAMED --add-opens=java.base/java.util.concurrent.atomic=ALL-UNNAMED --add-opens=java.base/sun.nio.ch=ALL-UNNAMED --add-opens=java.base/sun.nio.cs=ALL-UNNAMED --add-opens=java.base/sun.security.action=ALL-UNNAMED --add-opens=java.base/sun.util.calendar=ALL-UNNAMED --add-opens=java.security.jgss/sun.security.krb5=ALL-UNNAMED'),\n",
       " ('spark.app.submitTime', '1668162780443'),\n",
       " ('spark.jars', '/opt/hadoop-lib/gcs-connector-hadoop3-latest.jar'),\n",
       " ('spark.app.name', 'proj_file_read'),\n",
       " ('spark.executor.id', 'driver'),\n",
       " ('spark.master', 'spark://city-crimes-spark-1:7077'),\n",
       " ('spark.driver.host', '63b6f47ebc71'),\n",
       " ('spark.app.id', 'app-20221111103316-0010'),\n",
       " ('spark.app.initial.jar.urls',\n",
       "  'spark://63b6f47ebc71:39336/jars/gcs-connector-hadoop3-latest.jar'),\n",
       " ('spark.sql.warehouse.dir', 'file:/home/spark-user/files/spark-warehouse'),\n",
       " ('spark.rdd.compress', 'True'),\n",
       " ('spark.repl.local.jars',\n",
       "  'file:///opt/hadoop-lib/gcs-connector-hadoop3-latest.jar'),\n",
       " ('spark.executor.extraJavaOptions',\n",
       "  '-XX:+IgnoreUnrecognizedVMOptions --add-opens=java.base/java.lang=ALL-UNNAMED --add-opens=java.base/java.lang.invoke=ALL-UNNAMED --add-opens=java.base/java.lang.reflect=ALL-UNNAMED --add-opens=java.base/java.io=ALL-UNNAMED --add-opens=java.base/java.net=ALL-UNNAMED --add-opens=java.base/java.nio=ALL-UNNAMED --add-opens=java.base/java.util=ALL-UNNAMED --add-opens=java.base/java.util.concurrent=ALL-UNNAMED --add-opens=java.base/java.util.concurrent.atomic=ALL-UNNAMED --add-opens=java.base/sun.nio.ch=ALL-UNNAMED --add-opens=java.base/sun.nio.cs=ALL-UNNAMED --add-opens=java.base/sun.security.action=ALL-UNNAMED --add-opens=java.base/sun.util.calendar=ALL-UNNAMED --add-opens=java.security.jgss/sun.security.krb5=ALL-UNNAMED'),\n",
       " ('spark.serializer.objectStreamReset', '100'),\n",
       " ('spark.submit.pyFiles', ''),\n",
       " ('spark.app.startTime', '1668162796209'),\n",
       " ('spark.submit.deployMode', 'client'),\n",
       " ('spark.ui.showConsoleProgress', 'true'),\n",
       " ('spark.driver.port', '39336')]"
      ]
     },
     "execution_count": 34,
     "metadata": {},
     "output_type": "execute_result"
    }
   ],
   "source": [
    "sc.getConf().getAll()"
   ]
  },
  {
   "cell_type": "code",
   "execution_count": 37,
   "id": "305c44b5",
   "metadata": {},
   "outputs": [
    {
     "name": "stdout",
     "output_type": "stream",
     "text": [
      "22/11/11 10:52:59 WARN TaskSetManager: Lost task 0.0 in stage 6.0 (TID 12) (172.18.0.5 executor 0): java.io.FileNotFoundException: \n",
      "File file:/home/spark-user/files/chicago2020.csv does not exist\n",
      "\n",
      "It is possible the underlying files have been updated. You can explicitly invalidate\n",
      "the cache in Spark by running 'REFRESH TABLE tableName' command in SQL or by\n",
      "recreating the Dataset/DataFrame involved.\n",
      "       \n",
      "\tat org.apache.spark.sql.errors.QueryExecutionErrors$.readCurrentFileNotFoundError(QueryExecutionErrors.scala:661)\n",
      "\tat org.apache.spark.sql.execution.datasources.FileScanRDD$$anon$1.org$apache$spark$sql$execution$datasources$FileScanRDD$$anon$$readCurrentFile(FileScanRDD.scala:212)\n",
      "\tat org.apache.spark.sql.execution.datasources.FileScanRDD$$anon$1.nextIterator(FileScanRDD.scala:270)\n",
      "\tat org.apache.spark.sql.execution.datasources.FileScanRDD$$anon$1.hasNext(FileScanRDD.scala:116)\n",
      "\tat scala.collection.Iterator$$anon$10.hasNext(Iterator.scala:460)\n",
      "\tat scala.collection.Iterator$$anon$10.hasNext(Iterator.scala:460)\n",
      "\tat org.apache.spark.ContextAwareIterator.hasNext(ContextAwareIterator.scala:39)\n",
      "\tat scala.collection.Iterator$$anon$10.hasNext(Iterator.scala:460)\n",
      "\tat scala.collection.Iterator$$anon$10.hasNext(Iterator.scala:460)\n",
      "\tat scala.collection.Iterator$GroupedIterator.fill(Iterator.scala:1211)\n",
      "\tat scala.collection.Iterator$GroupedIterator.hasNext(Iterator.scala:1217)\n",
      "\tat scala.collection.Iterator$$anon$10.hasNext(Iterator.scala:460)\n",
      "\tat scala.collection.Iterator.foreach(Iterator.scala:943)\n",
      "\tat scala.collection.Iterator.foreach$(Iterator.scala:943)\n",
      "\tat scala.collection.AbstractIterator.foreach(Iterator.scala:1431)\n",
      "\tat org.apache.spark.api.python.PythonRDD$.writeIteratorToStream(PythonRDD.scala:307)\n",
      "\tat org.apache.spark.sql.execution.python.PythonUDFRunner$$anon$1.writeIteratorToStream(PythonUDFRunner.scala:53)\n",
      "\tat org.apache.spark.api.python.BasePythonRunner$WriterThread.$anonfun$run$1(PythonRunner.scala:438)\n",
      "\tat org.apache.spark.util.Utils$.logUncaughtExceptions(Utils.scala:2066)\n",
      "\tat org.apache.spark.api.python.BasePythonRunner$WriterThread.run(PythonRunner.scala:272)\n",
      "\n"
     ]
    },
    {
     "name": "stderr",
     "output_type": "stream",
     "text": [
      "\r",
      "[Stage 6:>                                                          (0 + 1) / 1]\r"
     ]
    },
    {
     "name": "stdout",
     "output_type": "stream",
     "text": [
      "+-------------------+\n",
      "|          Timestamp|\n",
      "+-------------------+\n",
      "|2020-03-17 21:30:00|\n",
      "|2020-03-18 02:03:00|\n",
      "|2020-03-18 08:50:00|\n",
      "|2020-03-18 13:00:00|\n",
      "|2020-03-18 17:35:00|\n",
      "|2020-03-16 00:05:00|\n",
      "|2020-03-18 23:15:00|\n",
      "|2020-03-18 18:00:00|\n",
      "|2020-03-18 14:04:00|\n",
      "|2020-03-18 21:27:00|\n",
      "|2020-03-18 07:30:00|\n",
      "|2020-03-14 14:45:00|\n",
      "|2020-03-18 07:18:00|\n",
      "|2020-03-18 11:30:00|\n",
      "|2020-03-16 15:20:00|\n",
      "|2020-03-18 13:14:00|\n",
      "|2020-03-17 21:00:00|\n",
      "|2020-03-13 15:00:00|\n",
      "|2020-03-18 03:30:00|\n",
      "|2020-02-20 12:10:00|\n",
      "+-------------------+\n",
      "only showing top 20 rows\n",
      "\n"
     ]
    },
    {
     "name": "stderr",
     "output_type": "stream",
     "text": [
      "\r",
      "                                                                                \r"
     ]
    }
   ],
   "source": [
    "p_func = lambda s: pdl.from_format(s, dict_city['date_format'])\n",
    "parse_dt_udf = F.udf(p_func, returnType=types.TimestampType())\n",
    "\n",
    "df_csv \\\n",
    "    .withColumn('Timestamp', parse_dt_udf(F.col(dict_city['date_string_col']))) \\\n",
    "    .select('Timestamp').show()"
   ]
  },
  {
   "cell_type": "code",
   "execution_count": 43,
   "id": "32861bf6",
   "metadata": {},
   "outputs": [
    {
     "data": {
      "text/plain": [
       "[Row(ID=10224738, Case Number='HY411648', Date='09/05/2015 01:30:00 PM', Block='043XX S WOOD ST', IUCR='0486', Primary Type='BATTERY', Description='DOMESTIC BATTERY SIMPLE', Location Description='RESIDENCE', Arrest=False, Domestic=True, Beat='0924', District='009', Ward=12, Community Area=61, FBI Code='08B', X Coordinate=1165074.0, Y Coordinate=1875917.0, Year=2015, Updated On='02/10/2018 03:50:01 PM', Latitude=41.81511688232422, Longitude=-87.66999816894531, Location='(41.815117282, -87.669999562)'),\n",
       " Row(ID=10224739, Case Number='HY411615', Date='09/04/2015 11:30:00 AM', Block='008XX N CENTRAL AVE', IUCR='0870', Primary Type='THEFT', Description='POCKET-PICKING', Location Description='CTA BUS', Arrest=False, Domestic=False, Beat='1511', District='015', Ward=29, Community Area=25, FBI Code='06', X Coordinate=1138875.0, Y Coordinate=1904869.0, Year=2015, Updated On='02/10/2018 03:50:01 PM', Latitude=41.89508056640625, Longitude=-87.7654037475586, Location='(41.895080471, -87.765400451)'),\n",
       " Row(ID=10224740, Case Number='HY411595', Date='09/05/2015 12:45:00 PM', Block='035XX W BARRY AVE', IUCR='2023', Primary Type='NARCOTICS', Description='POSS: HEROIN(BRN/TAN)', Location Description='SIDEWALK', Arrest=True, Domestic=False, Beat='1412', District='014', Ward=35, Community Area=21, FBI Code='18', X Coordinate=1152037.0, Y Coordinate=1920384.0, Year=2015, Updated On='02/10/2018 03:50:01 PM', Latitude=41.93740463256836, Longitude=-87.7166519165039, Location='(41.937405765, -87.716649687)'),\n",
       " Row(ID=10224741, Case Number='HY411610', Date='09/05/2015 01:00:00 PM', Block='0000X N LARAMIE AVE', IUCR='0560', Primary Type='ASSAULT', Description='SIMPLE', Location Description='APARTMENT', Arrest=False, Domestic=True, Beat='1522', District='015', Ward=28, Community Area=25, FBI Code='08A', X Coordinate=1141706.0, Y Coordinate=1900086.0, Year=2015, Updated On='02/10/2018 03:50:01 PM', Latitude=41.88190460205078, Longitude=-87.75511932373047, Location='(41.881903443, -87.755121152)'),\n",
       " Row(ID=10224742, Case Number='HY411435', Date='09/05/2015 10:55:00 AM', Block='082XX S LOOMIS BLVD', IUCR='0610', Primary Type='BURGLARY', Description='FORCIBLE ENTRY', Location Description='RESIDENCE', Arrest=False, Domestic=False, Beat='0614', District='006', Ward=21, Community Area=71, FBI Code='05', X Coordinate=1168430.0, Y Coordinate=1850165.0, Year=2015, Updated On='02/10/2018 03:50:01 PM', Latitude=41.74437713623047, Longitude=-87.65843200683594, Location='(41.744378879, -87.658430635)'),\n",
       " Row(ID=10224743, Case Number='HY411629', Date='09/04/2015 06:00:00 PM', Block='021XX W CHURCHILL ST', IUCR='0620', Primary Type='BURGLARY', Description='UNLAWFUL ENTRY', Location Description='RESIDENCE-GARAGE', Arrest=False, Domestic=False, Beat='1434', District='014', Ward=32, Community Area=24, FBI Code='05', X Coordinate=1161628.0, Y Coordinate=1912157.0, Year=2015, Updated On='02/10/2018 03:50:01 PM', Latitude=41.914634704589844, Longitude=-87.68163299560547, Location='(41.914635603, -87.681630909)'),\n",
       " Row(ID=10224744, Case Number='HY411605', Date='09/05/2015 01:00:00 PM', Block='025XX W CERMAK RD', IUCR='0860', Primary Type='THEFT', Description='RETAIL THEFT', Location Description='GROCERY FOOD STORE', Arrest=True, Domestic=False, Beat='1034', District='010', Ward=25, Community Area=31, FBI Code='06', X Coordinate=1159734.0, Y Coordinate=1889313.0, Year=2015, Updated On='09/17/2015 11:37:18 AM', Latitude=41.85198974609375, Longitude=-87.68921661376953, Location='(41.851988885, -87.689219118)'),\n",
       " Row(ID=10224745, Case Number='HY411654', Date='09/05/2015 11:30:00 AM', Block='031XX W WASHINGTON BLVD', IUCR='0320', Primary Type='ROBBERY', Description='STRONGARM - NO WEAPON', Location Description='STREET', Arrest=False, Domestic=True, Beat='1222', District='012', Ward=27, Community Area=27, FBI Code='03', X Coordinate=1155536.0, Y Coordinate=1900515.0, Year=2015, Updated On='02/10/2018 03:50:01 PM', Latitude=41.8828125, Longitude=-87.7043228149414, Location='(41.88281374, -87.704325717)'),\n",
       " Row(ID=10224746, Case Number='HY411662', Date='09/05/2015 02:00:00 PM', Block='071XX S PULASKI RD', IUCR='0820', Primary Type='THEFT', Description='$500 AND UNDER', Location Description='PARKING LOT/GARAGE(NON.RESID.)', Arrest=False, Domestic=False, Beat='0833', District='008', Ward=13, Community Area=65, FBI Code='06', X Coordinate=1150938.0, Y Coordinate=1857056.0, Year=2015, Updated On='02/10/2018 03:50:01 PM', Latitude=41.763648986816406, Longitude=-87.72234344482422, Location='(41.763647552, -87.722344693)'),\n",
       " Row(ID=10224749, Case Number='HY411626', Date='09/05/2015 11:00:00 AM', Block='052XX N MILWAUKEE AVE', IUCR='0460', Primary Type='BATTERY', Description='SIMPLE', Location Description='SMALL RETAIL STORE', Arrest=False, Domestic=False, Beat='1623', District='016', Ward=45, Community Area=11, FBI Code='08B', X Coordinate=1137969.0, Y Coordinate=1934340.0, Year=2015, Updated On='02/10/2018 03:50:01 PM', Latitude=41.97596740722656, Longitude=-87.76801300048828, Location='(41.975968415, -87.768014257)')]"
      ]
     },
     "execution_count": 43,
     "metadata": {},
     "output_type": "execute_result"
    }
   ],
   "source": [
    "df_csv.head(10)"
   ]
  },
  {
   "cell_type": "code",
   "execution_count": 59,
   "id": "ecec6c4b",
   "metadata": {},
   "outputs": [
    {
     "name": "stderr",
     "output_type": "stream",
     "text": [
      "                                                                                \r"
     ]
    },
    {
     "data": {
      "text/plain": [
       "2119797"
      ]
     },
     "execution_count": 59,
     "metadata": {},
     "output_type": "execute_result"
    }
   ],
   "source": [
    "df_csv.count()"
   ]
  },
  {
   "cell_type": "markdown",
   "id": "b9f1dd45",
   "metadata": {},
   "source": [
    "### check count here: original df\n",
    "Command:\n",
    "`df_csv.count()`\n",
    "\n",
    "Output:\n",
    "`485853`"
   ]
  },
  {
   "cell_type": "markdown",
   "id": "f1be2c77",
   "metadata": {},
   "source": [
    "### inspect data\n",
    "Command:\n",
    "```\n",
    "df_csv.head(10)\n",
    "```"
   ]
  },
  {
   "cell_type": "code",
   "execution_count": 65,
   "id": "63866a88",
   "metadata": {},
   "outputs": [],
   "source": [
    "def parse_dt(dt_str):\n",
    "    \"\"\"\n",
    "    parse datetime object from given date string of specific format\n",
    "    \"\"\"\n",
    "    return pdl.from_format(dt_str, dict_city['date_format'])\n",
    "\n",
    "parse_dt_udf = F.udf(parse_dt, returnType=types.TimestampType())"
   ]
  },
  {
   "cell_type": "code",
   "execution_count": 66,
   "id": "b57c558c",
   "metadata": {
    "scrolled": true
   },
   "outputs": [],
   "source": [
    "# parse datetime out of provided date column\n",
    "df_time = df_csv.withColumn('Timestamp', parse_dt_udf(F.col(dict_city['date_string_col'])))\n",
    "\n",
    "if dict_city['with_year_col']:\n",
    "    years_rows = df_time \\\n",
    "        .select('Year')\n",
    "else:\n",
    "    years_rows = df_time \\\n",
    "        .select(F.year('Timestamp').alias('Year'))"
   ]
  },
  {
   "cell_type": "code",
   "execution_count": 67,
   "id": "51b27465",
   "metadata": {},
   "outputs": [
    {
     "name": "stderr",
     "output_type": "stream",
     "text": [
      "                                                                                \r"
     ]
    },
    {
     "data": {
      "text/plain": [
       "[Row(DR_NO=1307355, Date Rptd='02/20/2010 12:00:00 AM', DATE OCC='02/20/2010 12:00:00 AM', TIME OCC=1350, AREA =13, AREA NAME='Newton', Rpt Dist No=1385, Part 1-2=2, Crm Cd=900, Crm Cd Desc='VIOLATION OF COURT ORDER', Mocodes='0913 1814 2000', Vict Age=48, Vict Sex='M', Vict Descent='H', Premis Cd=501, Premis Desc='SINGLE FAMILY DWELLING', Weapon Used Cd=None, Weapon Desc=None, Status='AA', Status Desc='Adult Arrest', Crm Cd 1=900, Crm Cd 2=None, Crm Cd 3=None, Crm Cd 4=None, LOCATION='300 E  GAGE                         AV', Cross Street=None, LAT=33.98249816894531, LON=-118.26950073242188, Timestamp=datetime.datetime(2010, 2, 20, 0, 0)),\n",
       " Row(DR_NO=11401303, Date Rptd='09/13/2010 12:00:00 AM', DATE OCC='09/12/2010 12:00:00 AM', TIME OCC=45, AREA =14, AREA NAME='Pacific', Rpt Dist No=1485, Part 1-2=2, Crm Cd=740, Crm Cd Desc='VANDALISM - FELONY ($400 & OVER, ALL CHURCH VANDALISMS)', Mocodes='0329', Vict Age=0, Vict Sex='M', Vict Descent='W', Premis Cd=101, Premis Desc='STREET', Weapon Used Cd=None, Weapon Desc=None, Status='IC', Status Desc='Invest Cont', Crm Cd 1=740, Crm Cd 2=None, Crm Cd 3=None, Crm Cd 4=None, LOCATION='SEPULVEDA                    BL', Cross Street='MANCHESTER                   AV', LAT=33.95989990234375, LON=-118.39620208740234, Timestamp=datetime.datetime(2010, 9, 12, 0, 0)),\n",
       " Row(DR_NO=70309629, Date Rptd='08/09/2010 12:00:00 AM', DATE OCC='08/09/2010 12:00:00 AM', TIME OCC=1515, AREA =13, AREA NAME='Newton', Rpt Dist No=1324, Part 1-2=2, Crm Cd=946, Crm Cd Desc='OTHER MISCELLANEOUS CRIME', Mocodes='0344', Vict Age=0, Vict Sex='M', Vict Descent='H', Premis Cd=103, Premis Desc='ALLEY', Weapon Used Cd=None, Weapon Desc=None, Status='IC', Status Desc='Invest Cont', Crm Cd 1=946, Crm Cd 2=None, Crm Cd 3=None, Crm Cd 4=None, LOCATION='1300 E  21ST                         ST', Cross Street=None, LAT=34.02239990234375, LON=-118.25240325927734, Timestamp=datetime.datetime(2010, 8, 9, 0, 0)),\n",
       " Row(DR_NO=90631215, Date Rptd='01/05/2010 12:00:00 AM', DATE OCC='01/05/2010 12:00:00 AM', TIME OCC=150, AREA =6, AREA NAME='Hollywood', Rpt Dist No=646, Part 1-2=2, Crm Cd=900, Crm Cd Desc='VIOLATION OF COURT ORDER', Mocodes='1100 0400 1402', Vict Age=47, Vict Sex='F', Vict Descent='W', Premis Cd=101, Premis Desc='STREET', Weapon Used Cd=102, Weapon Desc='HAND GUN', Status='IC', Status Desc='Invest Cont', Crm Cd 1=900, Crm Cd 2=998, Crm Cd 3=None, Crm Cd 4=None, LOCATION='CAHUENGA                     BL', Cross Street='HOLLYWOOD                    BL', LAT=34.101600646972656, LON=-118.32949829101562, Timestamp=datetime.datetime(2010, 1, 5, 0, 0)),\n",
       " Row(DR_NO=100100501, Date Rptd='01/03/2010 12:00:00 AM', DATE OCC='01/02/2010 12:00:00 AM', TIME OCC=2100, AREA =1, AREA NAME='Central', Rpt Dist No=176, Part 1-2=1, Crm Cd=122, Crm Cd Desc='RAPE, ATTEMPTED', Mocodes='0400', Vict Age=47, Vict Sex='F', Vict Descent='H', Premis Cd=103, Premis Desc='ALLEY', Weapon Used Cd=400, Weapon Desc='STRONG-ARM (HANDS, FIST, FEET OR BODILY FORCE)', Status='IC', Status Desc='Invest Cont', Crm Cd 1=122, Crm Cd 2=None, Crm Cd 3=None, Crm Cd 4=None, LOCATION='8TH                          ST', Cross Street='SAN PEDRO                    ST', LAT=34.038700103759766, LON=-118.2488021850586, Timestamp=datetime.datetime(2010, 1, 2, 0, 0)),\n",
       " Row(DR_NO=100100506, Date Rptd='01/05/2010 12:00:00 AM', DATE OCC='01/04/2010 12:00:00 AM', TIME OCC=1650, AREA =1, AREA NAME='Central', Rpt Dist No=162, Part 1-2=1, Crm Cd=442, Crm Cd Desc='SHOPLIFTING - PETTY THEFT ($950 & UNDER)', Mocodes='0344 1402', Vict Age=23, Vict Sex='M', Vict Descent='B', Premis Cd=404, Premis Desc='DEPARTMENT STORE', Weapon Used Cd=None, Weapon Desc=None, Status='AA', Status Desc='Adult Arrest', Crm Cd 1=442, Crm Cd 2=None, Crm Cd 3=None, Crm Cd 4=None, LOCATION='700 W  7TH                          ST', Cross Street=None, LAT=34.04800033569336, LON=-118.25769805908203, Timestamp=datetime.datetime(2010, 1, 4, 0, 0)),\n",
       " Row(DR_NO=100100508, Date Rptd='01/08/2010 12:00:00 AM', DATE OCC='01/07/2010 12:00:00 AM', TIME OCC=2005, AREA =1, AREA NAME='Central', Rpt Dist No=182, Part 1-2=1, Crm Cd=330, Crm Cd Desc='BURGLARY FROM VEHICLE', Mocodes='0344', Vict Age=46, Vict Sex='M', Vict Descent='H', Premis Cd=101, Premis Desc='STREET', Weapon Used Cd=None, Weapon Desc=None, Status='IC', Status Desc='Invest Cont', Crm Cd 1=330, Crm Cd 2=None, Crm Cd 3=None, Crm Cd 4=None, LOCATION='PICO                         BL', Cross Street='GRAND                        AV', LAT=34.03889846801758, LON=-118.26429748535156, Timestamp=datetime.datetime(2010, 1, 7, 0, 0)),\n",
       " Row(DR_NO=100100509, Date Rptd='01/09/2010 12:00:00 AM', DATE OCC='01/08/2010 12:00:00 AM', TIME OCC=2100, AREA =1, AREA NAME='Central', Rpt Dist No=157, Part 1-2=1, Crm Cd=230, Crm Cd Desc='ASSAULT WITH DEADLY WEAPON, AGGRAVATED ASSAULT', Mocodes='0416', Vict Age=51, Vict Sex='M', Vict Descent='B', Premis Cd=710, Premis Desc='OTHER PREMISE', Weapon Used Cd=500, Weapon Desc='UNKNOWN WEAPON/OTHER WEAPON', Status='AA', Status Desc='Adult Arrest', Crm Cd 1=230, Crm Cd 2=None, Crm Cd 3=None, Crm Cd 4=None, LOCATION='500    CROCKER                      ST', Cross Street=None, LAT=34.04349899291992, LON=-118.2426986694336, Timestamp=datetime.datetime(2010, 1, 8, 0, 0)),\n",
       " Row(DR_NO=100100510, Date Rptd='01/09/2010 12:00:00 AM', DATE OCC='01/09/2010 12:00:00 AM', TIME OCC=230, AREA =1, AREA NAME='Central', Rpt Dist No=171, Part 1-2=1, Crm Cd=230, Crm Cd Desc='ASSAULT WITH DEADLY WEAPON, AGGRAVATED ASSAULT', Mocodes='0400 0416', Vict Age=30, Vict Sex='M', Vict Descent='H', Premis Cd=108, Premis Desc='PARKING LOT', Weapon Used Cd=400, Weapon Desc='STRONG-ARM (HANDS, FIST, FEET OR BODILY FORCE)', Status='IC', Status Desc='Invest Cont', Crm Cd 1=230, Crm Cd 2=None, Crm Cd 3=None, Crm Cd 4=None, LOCATION='800 W  OLYMPIC                      BL', Cross Street=None, LAT=34.04499816894531, LON=-118.26399993896484, Timestamp=datetime.datetime(2010, 1, 9, 0, 0)),\n",
       " Row(DR_NO=100100511, Date Rptd='01/09/2010 12:00:00 AM', DATE OCC='01/06/2010 12:00:00 AM', TIME OCC=2100, AREA =1, AREA NAME='Central', Rpt Dist No=132, Part 1-2=1, Crm Cd=341, Crm Cd Desc='THEFT-GRAND ($950.01 & OVER)EXCPT,GUNS,FOWL,LIVESTK,PROD', Mocodes='0344 1402', Vict Age=55, Vict Sex='M', Vict Descent='W', Premis Cd=710, Premis Desc='OTHER PREMISE', Weapon Used Cd=None, Weapon Desc=None, Status='IC', Status Desc='Invest Cont', Crm Cd 1=341, Crm Cd 2=998, Crm Cd 3=None, Crm Cd 4=None, LOCATION='200 S  OLIVE                        ST', Cross Street=None, LAT=34.05379867553711, LON=-118.2488021850586, Timestamp=datetime.datetime(2010, 1, 6, 0, 0))]"
      ]
     },
     "execution_count": 67,
     "metadata": {},
     "output_type": "execute_result"
    }
   ],
   "source": [
    "df_time.head(10)"
   ]
  },
  {
   "cell_type": "code",
   "execution_count": 68,
   "id": "b8224ea1",
   "metadata": {
    "scrolled": true
   },
   "outputs": [
    {
     "name": "stderr",
     "output_type": "stream",
     "text": [
      "                                                                                \r"
     ]
    }
   ],
   "source": [
    "years_rows = years_rows \\\n",
    "    .dropna() \\\n",
    "    .dropDuplicates(['Year']) \\\n",
    "    .collect()\n",
    "\n",
    "years = [row.Year for row in years_rows]\n",
    "years.sort()"
   ]
  },
  {
   "cell_type": "code",
   "execution_count": 69,
   "id": "a185aecd",
   "metadata": {},
   "outputs": [
    {
     "data": {
      "text/plain": [
       "[2010, 2011, 2012, 2013, 2014, 2015, 2016, 2017, 2018, 2019]"
      ]
     },
     "execution_count": 69,
     "metadata": {},
     "output_type": "execute_result"
    }
   ],
   "source": [
    "years"
   ]
  },
  {
   "cell_type": "markdown",
   "id": "685264d3",
   "metadata": {},
   "source": [
    "### check parsed years\n",
    "Command:\n",
    "`print(years)`\n",
    "\n",
    "Output:\n",
    "`[2001]`"
   ]
  },
  {
   "cell_type": "code",
   "execution_count": 70,
   "id": "b51b19c4",
   "metadata": {},
   "outputs": [
    {
     "name": "stderr",
     "output_type": "stream",
     "text": [
      "                                                                                \r"
     ]
    },
    {
     "data": {
      "text/plain": [
       "183674"
      ]
     },
     "execution_count": 70,
     "metadata": {},
     "output_type": "execute_result"
    }
   ],
   "source": [
    "df_test = df_time \\\n",
    "    .repartition(24) \\\n",
    "    .filter(F.month('Timestamp') == 1)\n",
    "\n",
    "df_test.count()"
   ]
  },
  {
   "cell_type": "markdown",
   "id": "ef055959",
   "metadata": {},
   "source": [
    "### check count Jan: csv df, strdate col\n",
    "Command:\n",
    "```\n",
    "df_test = df_time \\\n",
    "    .filter(F.month('Timestamp') == 1)\n",
    "\n",
    "df_test.count()\n",
    "```\n",
    "chicago: `38114` san_francisco: `189723` los_angeles: `183674` austin: `3098`"
   ]
  },
  {
   "cell_type": "markdown",
   "id": "411d81a0",
   "metadata": {
    "scrolled": true
   },
   "source": [
    "### check date Jan1: csv df, strdate col\n",
    "Command:\n",
    "```\n",
    "df_test \\\n",
    "    .filter(F.dayofmonth('Timestamp') == 1) \\\n",
    "    .count()\n",
    "```\n",
    "chicago: `1825` san_francisco: ` ` los_angeles: ` ` austin: `97`"
   ]
  },
  {
   "cell_type": "code",
   "execution_count": 76,
   "id": "013e2c3c",
   "metadata": {
    "scrolled": true
   },
   "outputs": [
    {
     "name": "stderr",
     "output_type": "stream",
     "text": [
      "ERROR:root:KeyboardInterrupt while sending command.                 (0 + 2) / 4]\n",
      "Traceback (most recent call last):\n",
      "  File \"/opt/spark-3.3.0-bin-hadoop3/python/lib/py4j-0.10.9.5-src.zip/py4j/java_gateway.py\", line 1038, in send_command\n",
      "    response = connection.send_command(command)\n",
      "  File \"/opt/spark-3.3.0-bin-hadoop3/python/lib/py4j-0.10.9.5-src.zip/py4j/clientserver.py\", line 511, in send_command\n",
      "    answer = smart_decode(self.stream.readline()[:-1])\n",
      "  File \"/opt/conda/lib/python3.9/socket.py\", line 704, in readinto\n",
      "    return self._sock.recv_into(b)\n",
      "KeyboardInterrupt\n"
     ]
    },
    {
     "ename": "KeyboardInterrupt",
     "evalue": "",
     "output_type": "error",
     "traceback": [
      "\u001b[0;31m---------------------------------------------------------------------------\u001b[0m",
      "\u001b[0;31mKeyboardInterrupt\u001b[0m                         Traceback (most recent call last)",
      "Input \u001b[0;32mIn [76]\u001b[0m, in \u001b[0;36m<cell line: 4>\u001b[0;34m()\u001b[0m\n\u001b[1;32m     12\u001b[0m \u001b[38;5;28;01melif\u001b[39;00m city \u001b[38;5;241m==\u001b[39m f_cities[\u001b[38;5;241m2\u001b[39m]:\n\u001b[1;32m     13\u001b[0m     df_month \u001b[38;5;241m=\u001b[39m df_month\u001b[38;5;241m.\u001b[39mrepartition(\u001b[38;5;241m24\u001b[39m)\n\u001b[0;32m---> 14\u001b[0m \u001b[43mdf_month\u001b[49m\u001b[43m \u001b[49m\u001b[43m\\\u001b[49m\n\u001b[1;32m     15\u001b[0m \u001b[43m    \u001b[49m\u001b[38;5;241;43m.\u001b[39;49m\u001b[43mdrop\u001b[49m\u001b[43m(\u001b[49m\u001b[38;5;124;43m'\u001b[39;49m\u001b[38;5;124;43mTimestamp\u001b[39;49m\u001b[38;5;124;43m'\u001b[39;49m\u001b[43m,\u001b[49m\u001b[43m \u001b[49m\u001b[43mdt_str_col\u001b[49m\u001b[43m[\u001b[49m\u001b[43mcity\u001b[49m\u001b[43m]\u001b[49m\u001b[43m)\u001b[49m\u001b[43m \u001b[49m\u001b[43m\\\u001b[49m\n\u001b[1;32m     16\u001b[0m \u001b[43m    \u001b[49m\u001b[38;5;241;43m.\u001b[39;49m\u001b[43mwrite\u001b[49m\u001b[38;5;241;43m.\u001b[39;49m\u001b[43mparquet\u001b[49m\u001b[43m(\u001b[49m\u001b[38;5;124;43mf\u001b[39;49m\u001b[38;5;124;43m'\u001b[39;49m\u001b[38;5;132;43;01m{\u001b[39;49;00m\u001b[43mgcs_bkt\u001b[49m\u001b[38;5;132;43;01m}\u001b[39;49;00m\u001b[38;5;124;43m/pq/\u001b[39;49m\u001b[38;5;132;43;01m{\u001b[39;49;00m\u001b[43mcity\u001b[49m\u001b[38;5;132;43;01m}\u001b[39;49;00m\u001b[38;5;124;43m/\u001b[39;49m\u001b[38;5;132;43;01m{\u001b[39;49;00m\u001b[43myear\u001b[49m\u001b[38;5;132;43;01m}\u001b[39;49;00m\u001b[38;5;124;43m/\u001b[39;49m\u001b[38;5;132;43;01m{\u001b[39;49;00m\u001b[43mmonth\u001b[49m\u001b[38;5;132;43;01m}\u001b[39;49;00m\u001b[38;5;124;43m'\u001b[39;49m\u001b[43m,\u001b[49m\u001b[43m \u001b[49m\u001b[43mmode\u001b[49m\u001b[38;5;241;43m=\u001b[39;49m\u001b[38;5;124;43m'\u001b[39;49m\u001b[38;5;124;43moverwrite\u001b[39;49m\u001b[38;5;124;43m'\u001b[39;49m\u001b[43m)\u001b[49m\n",
      "File \u001b[0;32m/opt/spark-3.3.0-bin-hadoop3/python/pyspark/sql/readwriter.py:1140\u001b[0m, in \u001b[0;36mDataFrameWriter.parquet\u001b[0;34m(self, path, mode, partitionBy, compression)\u001b[0m\n\u001b[1;32m   1138\u001b[0m     \u001b[38;5;28mself\u001b[39m\u001b[38;5;241m.\u001b[39mpartitionBy(partitionBy)\n\u001b[1;32m   1139\u001b[0m \u001b[38;5;28mself\u001b[39m\u001b[38;5;241m.\u001b[39m_set_opts(compression\u001b[38;5;241m=\u001b[39mcompression)\n\u001b[0;32m-> 1140\u001b[0m \u001b[38;5;28;43mself\u001b[39;49m\u001b[38;5;241;43m.\u001b[39;49m\u001b[43m_jwrite\u001b[49m\u001b[38;5;241;43m.\u001b[39;49m\u001b[43mparquet\u001b[49m\u001b[43m(\u001b[49m\u001b[43mpath\u001b[49m\u001b[43m)\u001b[49m\n",
      "File \u001b[0;32m/opt/spark-3.3.0-bin-hadoop3/python/lib/py4j-0.10.9.5-src.zip/py4j/java_gateway.py:1320\u001b[0m, in \u001b[0;36mJavaMember.__call__\u001b[0;34m(self, *args)\u001b[0m\n\u001b[1;32m   1313\u001b[0m args_command, temp_args \u001b[38;5;241m=\u001b[39m \u001b[38;5;28mself\u001b[39m\u001b[38;5;241m.\u001b[39m_build_args(\u001b[38;5;241m*\u001b[39margs)\n\u001b[1;32m   1315\u001b[0m command \u001b[38;5;241m=\u001b[39m proto\u001b[38;5;241m.\u001b[39mCALL_COMMAND_NAME \u001b[38;5;241m+\u001b[39m\\\n\u001b[1;32m   1316\u001b[0m     \u001b[38;5;28mself\u001b[39m\u001b[38;5;241m.\u001b[39mcommand_header \u001b[38;5;241m+\u001b[39m\\\n\u001b[1;32m   1317\u001b[0m     args_command \u001b[38;5;241m+\u001b[39m\\\n\u001b[1;32m   1318\u001b[0m     proto\u001b[38;5;241m.\u001b[39mEND_COMMAND_PART\n\u001b[0;32m-> 1320\u001b[0m answer \u001b[38;5;241m=\u001b[39m \u001b[38;5;28;43mself\u001b[39;49m\u001b[38;5;241;43m.\u001b[39;49m\u001b[43mgateway_client\u001b[49m\u001b[38;5;241;43m.\u001b[39;49m\u001b[43msend_command\u001b[49m\u001b[43m(\u001b[49m\u001b[43mcommand\u001b[49m\u001b[43m)\u001b[49m\n\u001b[1;32m   1321\u001b[0m return_value \u001b[38;5;241m=\u001b[39m get_return_value(\n\u001b[1;32m   1322\u001b[0m     answer, \u001b[38;5;28mself\u001b[39m\u001b[38;5;241m.\u001b[39mgateway_client, \u001b[38;5;28mself\u001b[39m\u001b[38;5;241m.\u001b[39mtarget_id, \u001b[38;5;28mself\u001b[39m\u001b[38;5;241m.\u001b[39mname)\n\u001b[1;32m   1324\u001b[0m \u001b[38;5;28;01mfor\u001b[39;00m temp_arg \u001b[38;5;129;01min\u001b[39;00m temp_args:\n",
      "File \u001b[0;32m/opt/spark-3.3.0-bin-hadoop3/python/lib/py4j-0.10.9.5-src.zip/py4j/java_gateway.py:1038\u001b[0m, in \u001b[0;36mGatewayClient.send_command\u001b[0;34m(self, command, retry, binary)\u001b[0m\n\u001b[1;32m   1036\u001b[0m connection \u001b[38;5;241m=\u001b[39m \u001b[38;5;28mself\u001b[39m\u001b[38;5;241m.\u001b[39m_get_connection()\n\u001b[1;32m   1037\u001b[0m \u001b[38;5;28;01mtry\u001b[39;00m:\n\u001b[0;32m-> 1038\u001b[0m     response \u001b[38;5;241m=\u001b[39m \u001b[43mconnection\u001b[49m\u001b[38;5;241;43m.\u001b[39;49m\u001b[43msend_command\u001b[49m\u001b[43m(\u001b[49m\u001b[43mcommand\u001b[49m\u001b[43m)\u001b[49m\n\u001b[1;32m   1039\u001b[0m     \u001b[38;5;28;01mif\u001b[39;00m binary:\n\u001b[1;32m   1040\u001b[0m         \u001b[38;5;28;01mreturn\u001b[39;00m response, \u001b[38;5;28mself\u001b[39m\u001b[38;5;241m.\u001b[39m_create_connection_guard(connection)\n",
      "File \u001b[0;32m/opt/spark-3.3.0-bin-hadoop3/python/lib/py4j-0.10.9.5-src.zip/py4j/clientserver.py:511\u001b[0m, in \u001b[0;36mClientServerConnection.send_command\u001b[0;34m(self, command)\u001b[0m\n\u001b[1;32m    509\u001b[0m \u001b[38;5;28;01mtry\u001b[39;00m:\n\u001b[1;32m    510\u001b[0m     \u001b[38;5;28;01mwhile\u001b[39;00m \u001b[38;5;28;01mTrue\u001b[39;00m:\n\u001b[0;32m--> 511\u001b[0m         answer \u001b[38;5;241m=\u001b[39m smart_decode(\u001b[38;5;28;43mself\u001b[39;49m\u001b[38;5;241;43m.\u001b[39;49m\u001b[43mstream\u001b[49m\u001b[38;5;241;43m.\u001b[39;49m\u001b[43mreadline\u001b[49m\u001b[43m(\u001b[49m\u001b[43m)\u001b[49m[:\u001b[38;5;241m-\u001b[39m\u001b[38;5;241m1\u001b[39m])\n\u001b[1;32m    512\u001b[0m         logger\u001b[38;5;241m.\u001b[39mdebug(\u001b[38;5;124m\"\u001b[39m\u001b[38;5;124mAnswer received: \u001b[39m\u001b[38;5;132;01m{0}\u001b[39;00m\u001b[38;5;124m\"\u001b[39m\u001b[38;5;241m.\u001b[39mformat(answer))\n\u001b[1;32m    513\u001b[0m         \u001b[38;5;66;03m# Happens when a the other end is dead. There might be an empty\u001b[39;00m\n\u001b[1;32m    514\u001b[0m         \u001b[38;5;66;03m# answer before the socket raises an error.\u001b[39;00m\n",
      "File \u001b[0;32m/opt/conda/lib/python3.9/socket.py:704\u001b[0m, in \u001b[0;36mSocketIO.readinto\u001b[0;34m(self, b)\u001b[0m\n\u001b[1;32m    702\u001b[0m \u001b[38;5;28;01mwhile\u001b[39;00m \u001b[38;5;28;01mTrue\u001b[39;00m:\n\u001b[1;32m    703\u001b[0m     \u001b[38;5;28;01mtry\u001b[39;00m:\n\u001b[0;32m--> 704\u001b[0m         \u001b[38;5;28;01mreturn\u001b[39;00m \u001b[38;5;28;43mself\u001b[39;49m\u001b[38;5;241;43m.\u001b[39;49m\u001b[43m_sock\u001b[49m\u001b[38;5;241;43m.\u001b[39;49m\u001b[43mrecv_into\u001b[49m\u001b[43m(\u001b[49m\u001b[43mb\u001b[49m\u001b[43m)\u001b[49m\n\u001b[1;32m    705\u001b[0m     \u001b[38;5;28;01mexcept\u001b[39;00m timeout:\n\u001b[1;32m    706\u001b[0m         \u001b[38;5;28mself\u001b[39m\u001b[38;5;241m.\u001b[39m_timeout_occurred \u001b[38;5;241m=\u001b[39m \u001b[38;5;28;01mTrue\u001b[39;00m\n",
      "\u001b[0;31mKeyboardInterrupt\u001b[0m: "
     ]
    }
   ],
   "source": [
    "o_cols = df_time.columns\n",
    "cols = [col.lower().replace(' ', '_') for col in o_cols]\n",
    "\n",
    "for year in years:\n",
    "    df = df_time.filter(F.year('Timestamp') == year)\n",
    "    for month in range(1, 13):\n",
    "        df_month = df.filter(F.month('Timestamp') == month)\n",
    "        for i in range(len(o_cols)):\n",
    "            df_month = df_month.withColumnRenamed(o_cols[i], cols[i])\n",
    "        if dict_city['partitions'] > 1:\n",
    "            df_month = df_month.repartition(dict_city['partitions'])\n",
    "        df_month \\\n",
    "            .drop('Timestamp', dt_str_col[city]) \\\n",
    "            .write.parquet(f'{gcs_bkt}/pq/{city}/{year}/{month}', mode='overwrite')"
   ]
  },
  {
   "cell_type": "code",
   "execution_count": 80,
   "id": "a4af3715",
   "metadata": {},
   "outputs": [],
   "source": [
    "sc.stop()"
   ]
  },
  {
   "cell_type": "code",
   "execution_count": null,
   "id": "99affc65",
   "metadata": {},
   "outputs": [],
   "source": []
  }
 ],
 "metadata": {
  "kernelspec": {
   "display_name": "Python 3 (ipykernel)",
   "language": "python",
   "name": "python3"
  },
  "language_info": {
   "codemirror_mode": {
    "name": "ipython",
    "version": 3
   },
   "file_extension": ".py",
   "mimetype": "text/x-python",
   "name": "python",
   "nbconvert_exporter": "python",
   "pygments_lexer": "ipython3",
   "version": "3.9.12"
  }
 },
 "nbformat": 4,
 "nbformat_minor": 5
}
